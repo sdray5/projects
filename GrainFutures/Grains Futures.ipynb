{
 "cells": [
  {
   "cell_type": "code",
   "execution_count": 55,
   "id": "fdb3598d",
   "metadata": {},
   "outputs": [
    {
     "name": "stdout",
     "output_type": "stream",
     "text": [
      "Collecting numpy==1.19\n",
      "  Using cached numpy-1.19.0.zip (7.3 MB)\n",
      "  Installing build dependencies: started\n",
      "  Installing build dependencies: finished with status 'done'\n",
      "  Getting requirements to build wheel: started\n",
      "  Getting requirements to build wheel: finished with status 'done'\n",
      "  Preparing metadata (pyproject.toml): started\n",
      "  Preparing metadata (pyproject.toml): finished with status 'error'\n"
     ]
    },
    {
     "name": "stderr",
     "output_type": "stream",
     "text": [
      "  error: subprocess-exited-with-error\n",
      "  \n",
      "  Preparing metadata (pyproject.toml) did not run successfully.\n",
      "  exit code: 1\n",
      "  \n",
      "  [66 lines of output]\n",
      "  Running from numpy source directory.\n",
      "  <string>:460: UserWarning: Unrecognized setuptools command, proceeding with generating Cython sources and expanding templates\n",
      "  C:\\Users\\steve\\AppData\\Local\\Temp\\pip-install-1g24at8o\\numpy_af19981db4e543feabe14fe466f366ad\\tools\\cythonize.py:73: DeprecationWarning: distutils Version classes are deprecated. Use packaging.version instead.\n",
      "    required_version = LooseVersion('0.29.14')\n",
      "  C:\\Users\\steve\\AppData\\Local\\Temp\\pip-install-1g24at8o\\numpy_af19981db4e543feabe14fe466f366ad\\tools\\cythonize.py:75: DeprecationWarning: distutils Version classes are deprecated. Use packaging.version instead.\n",
      "    if LooseVersion(cython_version) < required_version:\n",
      "  warning: C:\\Users\\steve\\AppData\\Local\\Temp\\pip-install-1g24at8o\\numpy_af19981db4e543feabe14fe466f366ad\\numpy\\__init__.pxd:17:0: The 'DEF' statement is deprecated and will be removed in a future Cython version. Consider using global variables, constants, and in-place literals instead. See https://github.com/cython/cython/issues/4310\n",
      "  warning: C:\\Users\\steve\\AppData\\Local\\Temp\\pip-install-1g24at8o\\numpy_af19981db4e543feabe14fe466f366ad\\numpy\\__init__.pxd:17:0: The 'DEF' statement is deprecated and will be removed in a future Cython version. Consider using global variables, constants, and in-place literals instead. See https://github.com/cython/cython/issues/4310\n",
      "  warning: C:\\Users\\steve\\AppData\\Local\\Temp\\pip-install-1g24at8o\\numpy_af19981db4e543feabe14fe466f366ad\\numpy\\__init__.pxd:17:0: The 'DEF' statement is deprecated and will be removed in a future Cython version. Consider using global variables, constants, and in-place literals instead. See https://github.com/cython/cython/issues/4310\n",
      "  warning: C:\\Users\\steve\\AppData\\Local\\Temp\\pip-install-1g24at8o\\numpy_af19981db4e543feabe14fe466f366ad\\numpy\\__init__.pxd:17:0: The 'DEF' statement is deprecated and will be removed in a future Cython version. Consider using global variables, constants, and in-place literals instead. See https://github.com/cython/cython/issues/4310\n",
      "  warning: _generator.pyx:3224:8: The 'DEF' statement is deprecated and will be removed in a future Cython version. Consider using global variables, constants, and in-place literals instead. See https://github.com/cython/cython/issues/4310\n",
      "  warning: C:\\Users\\steve\\AppData\\Local\\Temp\\pip-install-1g24at8o\\numpy_af19981db4e543feabe14fe466f366ad\\numpy\\__init__.pxd:17:0: The 'DEF' statement is deprecated and will be removed in a future Cython version. Consider using global variables, constants, and in-place literals instead. See https://github.com/cython/cython/issues/4310\n",
      "  warning: C:\\Users\\steve\\AppData\\Local\\Temp\\pip-install-1g24at8o\\numpy_af19981db4e543feabe14fe466f366ad\\numpy\\__init__.pxd:17:0: The 'DEF' statement is deprecated and will be removed in a future Cython version. Consider using global variables, constants, and in-place literals instead. See https://github.com/cython/cython/issues/4310\n",
      "  \n",
      "  Error compiling Cython file:\n",
      "  ------------------------------------------------------------\n",
      "  ...\n",
      "          for i in range(1, RK_STATE_LEN):\n",
      "              self.rng_state.key[i] = val[i]\n",
      "          self.rng_state.pos = i\n",
      "  \n",
      "          self._bitgen.state = &self.rng_state\n",
      "          self._bitgen.next_uint64 = &mt19937_uint64\n",
      "                                     ^\n",
      "  ------------------------------------------------------------\n",
      "  \n",
      "  _mt19937.pyx:138:35: Cannot assign type 'uint64_t (*)(void *) except? -1 nogil' to 'uint64_t (*)(void *) noexcept nogil'. Exception values are incompatible. Suggest adding 'noexcept' to type 'uint64_t (void *) except? -1 nogil'.\n",
      "  Processing numpy/random\\_bounded_integers.pxd.in\n",
      "  Processing numpy/random\\bit_generator.pyx\n",
      "  Processing numpy/random\\mtrand.pyx\n",
      "  Processing numpy/random\\_bounded_integers.pyx.in\n",
      "  Processing numpy/random\\_common.pyx\n",
      "  Processing numpy/random\\_generator.pyx\n",
      "  Processing numpy/random\\_mt19937.pyx\n",
      "  Traceback (most recent call last):\n",
      "    File \"C:\\Users\\steve\\AppData\\Local\\Temp\\pip-install-1g24at8o\\numpy_af19981db4e543feabe14fe466f366ad\\tools\\cythonize.py\", line 235, in <module>\n",
      "      main()\n",
      "    File \"C:\\Users\\steve\\AppData\\Local\\Temp\\pip-install-1g24at8o\\numpy_af19981db4e543feabe14fe466f366ad\\tools\\cythonize.py\", line 231, in main\n",
      "      find_process_files(root_dir)\n",
      "    File \"C:\\Users\\steve\\AppData\\Local\\Temp\\pip-install-1g24at8o\\numpy_af19981db4e543feabe14fe466f366ad\\tools\\cythonize.py\", line 222, in find_process_files\n",
      "      process(root_dir, fromfile, tofile, function, hash_db)\n",
      "    File \"C:\\Users\\steve\\AppData\\Local\\Temp\\pip-install-1g24at8o\\numpy_af19981db4e543feabe14fe466f366ad\\tools\\cythonize.py\", line 188, in process\n",
      "      processor_function(fromfile, tofile)\n",
      "    File \"C:\\Users\\steve\\AppData\\Local\\Temp\\pip-install-1g24at8o\\numpy_af19981db4e543feabe14fe466f366ad\\tools\\cythonize.py\", line 77, in process_pyx\n",
      "      subprocess.check_call(\n",
      "    File \"C:\\Users\\steve\\anaconda3\\lib\\subprocess.py\", line 369, in check_call\n",
      "      raise CalledProcessError(retcode, cmd)\n",
      "  subprocess.CalledProcessError: Command '['C:\\\\Users\\\\steve\\\\anaconda3\\\\python.exe', '-m', 'cython', '-3', '--fast-fail', '-o', '_mt19937.c', '_mt19937.pyx']' returned non-zero exit status 1.\n",
      "  Cythonizing sources\n",
      "  Traceback (most recent call last):\n",
      "    File \"C:\\Users\\steve\\anaconda3\\lib\\site-packages\\pip\\_vendor\\pep517\\in_process\\_in_process.py\", line 351, in <module>\n",
      "      main()\n",
      "    File \"C:\\Users\\steve\\anaconda3\\lib\\site-packages\\pip\\_vendor\\pep517\\in_process\\_in_process.py\", line 333, in main\n",
      "      json_out['return_val'] = hook(**hook_input['kwargs'])\n",
      "    File \"C:\\Users\\steve\\anaconda3\\lib\\site-packages\\pip\\_vendor\\pep517\\in_process\\_in_process.py\", line 152, in prepare_metadata_for_build_wheel\n",
      "      return hook(metadata_directory, config_settings)\n",
      "    File \"C:\\Users\\steve\\AppData\\Local\\Temp\\pip-build-env-c07uo0tv\\overlay\\Lib\\site-packages\\setuptools\\build_meta.py\", line 396, in prepare_metadata_for_build_wheel\n",
      "      self.run_setup()\n",
      "    File \"C:\\Users\\steve\\AppData\\Local\\Temp\\pip-build-env-c07uo0tv\\overlay\\Lib\\site-packages\\setuptools\\build_meta.py\", line 507, in run_setup\n",
      "      super(_BuildMetaLegacyBackend, self).run_setup(setup_script=setup_script)\n",
      "    File \"C:\\Users\\steve\\AppData\\Local\\Temp\\pip-build-env-c07uo0tv\\overlay\\Lib\\site-packages\\setuptools\\build_meta.py\", line 341, in run_setup\n",
      "      exec(code, locals())\n",
      "    File \"<string>\", line 489, in <module>\n",
      "    File \"<string>\", line 469, in setup_package\n",
      "    File \"<string>\", line 274, in generate_cython\n",
      "  RuntimeError: Running cythonize failed!\n",
      "  [end of output]\n",
      "  \n",
      "  note: This error originates from a subprocess, and is likely not a problem with pip.\n",
      "error: metadata-generation-failed\n",
      "\n",
      "Encountered error while generating package metadata.\n",
      "\n",
      "See above for output.\n",
      "\n",
      "note: This is an issue with the package mentioned above, not pip.\n",
      "hint: See above for details.\n"
     ]
    }
   ],
   "source": [
    "# import numpy as np\n",
    "# np.version.version\n",
    "!pip install numpy==1.19"
   ]
  },
  {
   "cell_type": "code",
   "execution_count": 56,
   "id": "6e4756eb",
   "metadata": {},
   "outputs": [
    {
     "data": {
      "text/html": [
       "<div>\n",
       "<style scoped>\n",
       "    .dataframe tbody tr th:only-of-type {\n",
       "        vertical-align: middle;\n",
       "    }\n",
       "\n",
       "    .dataframe tbody tr th {\n",
       "        vertical-align: top;\n",
       "    }\n",
       "\n",
       "    .dataframe thead th {\n",
       "        text-align: right;\n",
       "    }\n",
       "</style>\n",
       "<table border=\"1\" class=\"dataframe\">\n",
       "  <thead>\n",
       "    <tr style=\"text-align: right;\">\n",
       "      <th></th>\n",
       "      <th>ticker</th>\n",
       "      <th>commodity</th>\n",
       "      <th>date</th>\n",
       "      <th>open</th>\n",
       "      <th>high</th>\n",
       "      <th>low</th>\n",
       "      <th>close</th>\n",
       "      <th>volume</th>\n",
       "    </tr>\n",
       "  </thead>\n",
       "  <tbody>\n",
       "    <tr>\n",
       "      <th>0</th>\n",
       "      <td>ZC=F</td>\n",
       "      <td>Corn</td>\n",
       "      <td>2000-07-17</td>\n",
       "      <td>182.25</td>\n",
       "      <td>182.25</td>\n",
       "      <td>178.25</td>\n",
       "      <td>179.25</td>\n",
       "      <td>19385</td>\n",
       "    </tr>\n",
       "    <tr>\n",
       "      <th>1</th>\n",
       "      <td>ZC=F</td>\n",
       "      <td>Corn</td>\n",
       "      <td>2000-07-18</td>\n",
       "      <td>179.00</td>\n",
       "      <td>183.25</td>\n",
       "      <td>179.00</td>\n",
       "      <td>180.75</td>\n",
       "      <td>25205</td>\n",
       "    </tr>\n",
       "    <tr>\n",
       "      <th>2</th>\n",
       "      <td>ZC=F</td>\n",
       "      <td>Corn</td>\n",
       "      <td>2000-07-19</td>\n",
       "      <td>180.00</td>\n",
       "      <td>182.75</td>\n",
       "      <td>178.75</td>\n",
       "      <td>182.00</td>\n",
       "      <td>17126</td>\n",
       "    </tr>\n",
       "    <tr>\n",
       "      <th>3</th>\n",
       "      <td>ZC=F</td>\n",
       "      <td>Corn</td>\n",
       "      <td>2000-07-20</td>\n",
       "      <td>181.50</td>\n",
       "      <td>187.00</td>\n",
       "      <td>181.00</td>\n",
       "      <td>186.00</td>\n",
       "      <td>18742</td>\n",
       "    </tr>\n",
       "    <tr>\n",
       "      <th>4</th>\n",
       "      <td>ZC=F</td>\n",
       "      <td>Corn</td>\n",
       "      <td>2000-07-21</td>\n",
       "      <td>185.50</td>\n",
       "      <td>188.00</td>\n",
       "      <td>185.00</td>\n",
       "      <td>187.75</td>\n",
       "      <td>16814</td>\n",
       "    </tr>\n",
       "    <tr>\n",
       "      <th>...</th>\n",
       "      <td>...</td>\n",
       "      <td>...</td>\n",
       "      <td>...</td>\n",
       "      <td>...</td>\n",
       "      <td>...</td>\n",
       "      <td>...</td>\n",
       "      <td>...</td>\n",
       "      <td>...</td>\n",
       "    </tr>\n",
       "    <tr>\n",
       "      <th>34860</th>\n",
       "      <td>ZS=F</td>\n",
       "      <td>Soybean</td>\n",
       "      <td>2023-09-06</td>\n",
       "      <td>1365.50</td>\n",
       "      <td>1365.50</td>\n",
       "      <td>1359.50</td>\n",
       "      <td>1360.25</td>\n",
       "      <td>102</td>\n",
       "    </tr>\n",
       "    <tr>\n",
       "      <th>34861</th>\n",
       "      <td>ZS=F</td>\n",
       "      <td>Soybean</td>\n",
       "      <td>2023-09-07</td>\n",
       "      <td>1349.50</td>\n",
       "      <td>1350.00</td>\n",
       "      <td>1345.00</td>\n",
       "      <td>1345.00</td>\n",
       "      <td>310</td>\n",
       "    </tr>\n",
       "    <tr>\n",
       "      <th>34862</th>\n",
       "      <td>ZS=F</td>\n",
       "      <td>Soybean</td>\n",
       "      <td>2023-09-08</td>\n",
       "      <td>1339.00</td>\n",
       "      <td>1349.50</td>\n",
       "      <td>1339.00</td>\n",
       "      <td>1349.50</td>\n",
       "      <td>198</td>\n",
       "    </tr>\n",
       "    <tr>\n",
       "      <th>34863</th>\n",
       "      <td>ZS=F</td>\n",
       "      <td>Soybean</td>\n",
       "      <td>2023-09-11</td>\n",
       "      <td>1352.50</td>\n",
       "      <td>1352.50</td>\n",
       "      <td>1352.00</td>\n",
       "      <td>1352.50</td>\n",
       "      <td>36</td>\n",
       "    </tr>\n",
       "    <tr>\n",
       "      <th>34864</th>\n",
       "      <td>ZS=F</td>\n",
       "      <td>Soybean</td>\n",
       "      <td>2023-09-12</td>\n",
       "      <td>1344.75</td>\n",
       "      <td>1350.00</td>\n",
       "      <td>1342.50</td>\n",
       "      <td>1343.75</td>\n",
       "      <td>8642</td>\n",
       "    </tr>\n",
       "  </tbody>\n",
       "</table>\n",
       "<p>34865 rows × 8 columns</p>\n",
       "</div>"
      ],
      "text/plain": [
       "      ticker commodity        date     open     high      low    close  volume\n",
       "0       ZC=F      Corn  2000-07-17   182.25   182.25   178.25   179.25   19385\n",
       "1       ZC=F      Corn  2000-07-18   179.00   183.25   179.00   180.75   25205\n",
       "2       ZC=F      Corn  2000-07-19   180.00   182.75   178.75   182.00   17126\n",
       "3       ZC=F      Corn  2000-07-20   181.50   187.00   181.00   186.00   18742\n",
       "4       ZC=F      Corn  2000-07-21   185.50   188.00   185.00   187.75   16814\n",
       "...      ...       ...         ...      ...      ...      ...      ...     ...\n",
       "34860   ZS=F   Soybean  2023-09-06  1365.50  1365.50  1359.50  1360.25     102\n",
       "34861   ZS=F   Soybean  2023-09-07  1349.50  1350.00  1345.00  1345.00     310\n",
       "34862   ZS=F   Soybean  2023-09-08  1339.00  1349.50  1339.00  1349.50     198\n",
       "34863   ZS=F   Soybean  2023-09-11  1352.50  1352.50  1352.00  1352.50      36\n",
       "34864   ZS=F   Soybean  2023-09-12  1344.75  1350.00  1342.50  1343.75    8642\n",
       "\n",
       "[34865 rows x 8 columns]"
      ]
     },
     "execution_count": 56,
     "metadata": {},
     "output_type": "execute_result"
    }
   ],
   "source": [
    "# https://www.kaggle.com/datasets/guillemservera/grains-and-cereals-futures\n",
    "import pandas as pd\n",
    "import numpy as np\n",
    "grains_df = pd.read_csv('all_grains_data.csv')\n",
    "grains_df"
   ]
  },
  {
   "cell_type": "code",
   "execution_count": 57,
   "id": "543182a8",
   "metadata": {},
   "outputs": [
    {
     "data": {
      "text/plain": [
       "array(['Corn', 'Oat', 'KC HRW Wheat', 'Rough Rice', 'Soybean Oil',\n",
       "       'Soybean'], dtype=object)"
      ]
     },
     "execution_count": 57,
     "metadata": {},
     "output_type": "execute_result"
    }
   ],
   "source": [
    "grains_df['commodity'].unique()"
   ]
  },
  {
   "cell_type": "code",
   "execution_count": 58,
   "id": "c578ed5e",
   "metadata": {},
   "outputs": [
    {
     "data": {
      "text/html": [
       "<div>\n",
       "<style scoped>\n",
       "    .dataframe tbody tr th:only-of-type {\n",
       "        vertical-align: middle;\n",
       "    }\n",
       "\n",
       "    .dataframe tbody tr th {\n",
       "        vertical-align: top;\n",
       "    }\n",
       "\n",
       "    .dataframe thead th {\n",
       "        text-align: right;\n",
       "    }\n",
       "</style>\n",
       "<table border=\"1\" class=\"dataframe\">\n",
       "  <thead>\n",
       "    <tr style=\"text-align: right;\">\n",
       "      <th></th>\n",
       "      <th>date</th>\n",
       "      <th>open</th>\n",
       "      <th>high</th>\n",
       "      <th>low</th>\n",
       "      <th>close</th>\n",
       "      <th>volume</th>\n",
       "    </tr>\n",
       "  </thead>\n",
       "  <tbody>\n",
       "    <tr>\n",
       "      <th>0</th>\n",
       "      <td>2000-07-17</td>\n",
       "      <td>182.25</td>\n",
       "      <td>182.25</td>\n",
       "      <td>178.25</td>\n",
       "      <td>179.25</td>\n",
       "      <td>19385</td>\n",
       "    </tr>\n",
       "    <tr>\n",
       "      <th>1</th>\n",
       "      <td>2000-07-18</td>\n",
       "      <td>179.00</td>\n",
       "      <td>183.25</td>\n",
       "      <td>179.00</td>\n",
       "      <td>180.75</td>\n",
       "      <td>25205</td>\n",
       "    </tr>\n",
       "    <tr>\n",
       "      <th>2</th>\n",
       "      <td>2000-07-19</td>\n",
       "      <td>180.00</td>\n",
       "      <td>182.75</td>\n",
       "      <td>178.75</td>\n",
       "      <td>182.00</td>\n",
       "      <td>17126</td>\n",
       "    </tr>\n",
       "    <tr>\n",
       "      <th>3</th>\n",
       "      <td>2000-07-20</td>\n",
       "      <td>181.50</td>\n",
       "      <td>187.00</td>\n",
       "      <td>181.00</td>\n",
       "      <td>186.00</td>\n",
       "      <td>18742</td>\n",
       "    </tr>\n",
       "    <tr>\n",
       "      <th>4</th>\n",
       "      <td>2000-07-21</td>\n",
       "      <td>185.50</td>\n",
       "      <td>188.00</td>\n",
       "      <td>185.00</td>\n",
       "      <td>187.75</td>\n",
       "      <td>16814</td>\n",
       "    </tr>\n",
       "    <tr>\n",
       "      <th>...</th>\n",
       "      <td>...</td>\n",
       "      <td>...</td>\n",
       "      <td>...</td>\n",
       "      <td>...</td>\n",
       "      <td>...</td>\n",
       "      <td>...</td>\n",
       "    </tr>\n",
       "    <tr>\n",
       "      <th>5786</th>\n",
       "      <td>2023-09-06</td>\n",
       "      <td>473.50</td>\n",
       "      <td>476.25</td>\n",
       "      <td>471.25</td>\n",
       "      <td>471.50</td>\n",
       "      <td>841</td>\n",
       "    </tr>\n",
       "    <tr>\n",
       "      <th>5787</th>\n",
       "      <td>2023-09-07</td>\n",
       "      <td>471.25</td>\n",
       "      <td>474.00</td>\n",
       "      <td>468.50</td>\n",
       "      <td>470.75</td>\n",
       "      <td>741</td>\n",
       "    </tr>\n",
       "    <tr>\n",
       "      <th>5788</th>\n",
       "      <td>2023-09-08</td>\n",
       "      <td>471.25</td>\n",
       "      <td>472.25</td>\n",
       "      <td>467.00</td>\n",
       "      <td>468.50</td>\n",
       "      <td>233</td>\n",
       "    </tr>\n",
       "    <tr>\n",
       "      <th>5789</th>\n",
       "      <td>2023-09-11</td>\n",
       "      <td>470.25</td>\n",
       "      <td>471.50</td>\n",
       "      <td>468.00</td>\n",
       "      <td>471.25</td>\n",
       "      <td>430</td>\n",
       "    </tr>\n",
       "    <tr>\n",
       "      <th>5790</th>\n",
       "      <td>2023-09-12</td>\n",
       "      <td>476.50</td>\n",
       "      <td>477.75</td>\n",
       "      <td>476.00</td>\n",
       "      <td>476.75</td>\n",
       "      <td>4399</td>\n",
       "    </tr>\n",
       "  </tbody>\n",
       "</table>\n",
       "<p>5791 rows × 6 columns</p>\n",
       "</div>"
      ],
      "text/plain": [
       "            date    open    high     low   close  volume\n",
       "0     2000-07-17  182.25  182.25  178.25  179.25   19385\n",
       "1     2000-07-18  179.00  183.25  179.00  180.75   25205\n",
       "2     2000-07-19  180.00  182.75  178.75  182.00   17126\n",
       "3     2000-07-20  181.50  187.00  181.00  186.00   18742\n",
       "4     2000-07-21  185.50  188.00  185.00  187.75   16814\n",
       "...          ...     ...     ...     ...     ...     ...\n",
       "5786  2023-09-06  473.50  476.25  471.25  471.50     841\n",
       "5787  2023-09-07  471.25  474.00  468.50  470.75     741\n",
       "5788  2023-09-08  471.25  472.25  467.00  468.50     233\n",
       "5789  2023-09-11  470.25  471.50  468.00  471.25     430\n",
       "5790  2023-09-12  476.50  477.75  476.00  476.75    4399\n",
       "\n",
       "[5791 rows x 6 columns]"
      ]
     },
     "execution_count": 58,
     "metadata": {},
     "output_type": "execute_result"
    }
   ],
   "source": [
    "corn_df = pd.read_csv('individual_data/Corn_data.csv')\n",
    "corn_df"
   ]
  },
  {
   "cell_type": "code",
   "execution_count": 59,
   "id": "690b95dd",
   "metadata": {},
   "outputs": [
    {
     "data": {
      "text/plain": [
       "{'price_7_days_ago': 0       179.25\n",
       " 1       180.75\n",
       " 2       182.00\n",
       " 3       186.00\n",
       " 4       187.75\n",
       "          ...  \n",
       " 5779    470.75\n",
       " 5780    478.50\n",
       " 5781    469.50\n",
       " 5782    461.75\n",
       " 5783    461.00\n",
       " Name: close, Length: 5784, dtype: float64,\n",
       " 'price_6_days_ago': 0       180.75\n",
       " 1       182.00\n",
       " 2       186.00\n",
       " 3       187.75\n",
       " 4       184.50\n",
       "          ...  \n",
       " 5779    478.50\n",
       " 5780    469.50\n",
       " 5781    461.75\n",
       " 5782    461.00\n",
       " 5783    464.75\n",
       " Name: close, Length: 5784, dtype: float64,\n",
       " 'price_5_days_ago': 0       182.00\n",
       " 1       186.00\n",
       " 2       187.75\n",
       " 3       184.50\n",
       " 4       182.75\n",
       "          ...  \n",
       " 5779    469.50\n",
       " 5780    461.75\n",
       " 5781    461.00\n",
       " 5782    464.75\n",
       " 5783    471.00\n",
       " Name: close, Length: 5784, dtype: float64,\n",
       " 'price_4_days_ago': 0       186.00\n",
       " 1       187.75\n",
       " 2       184.50\n",
       " 3       182.75\n",
       " 4       180.50\n",
       "          ...  \n",
       " 5779    461.75\n",
       " 5780    461.00\n",
       " 5781    464.75\n",
       " 5782    471.00\n",
       " 5783    471.50\n",
       " Name: close, Length: 5784, dtype: float64,\n",
       " 'price_3_days_ago': 0       187.75\n",
       " 1       184.50\n",
       " 2       182.75\n",
       " 3       180.50\n",
       " 4       181.00\n",
       "          ...  \n",
       " 5779    461.00\n",
       " 5780    464.75\n",
       " 5781    471.00\n",
       " 5782    471.50\n",
       " 5783    470.75\n",
       " Name: close, Length: 5784, dtype: float64,\n",
       " 'price_2_days_ago': 0       184.50\n",
       " 1       182.75\n",
       " 2       180.50\n",
       " 3       181.00\n",
       " 4       180.25\n",
       "          ...  \n",
       " 5779    464.75\n",
       " 5780    471.00\n",
       " 5781    471.50\n",
       " 5782    470.75\n",
       " 5783    468.50\n",
       " Name: close, Length: 5784, dtype: float64,\n",
       " 'price_1_days_ago': 0       182.75\n",
       " 1       180.50\n",
       " 2       181.00\n",
       " 3       180.25\n",
       " 4       180.25\n",
       "          ...  \n",
       " 5779    471.00\n",
       " 5780    471.50\n",
       " 5781    470.75\n",
       " 5782    468.50\n",
       " 5783    471.25\n",
       " Name: close, Length: 5784, dtype: float64}"
      ]
     },
     "execution_count": 59,
     "metadata": {},
     "output_type": "execute_result"
    }
   ],
   "source": [
    "corn_dict = {}\n",
    "window_size = 7\n",
    "for i in range(window_size):\n",
    "    corn_dict['price_'+str(7-i)+'_days_ago'] = corn_df['close'][i:-7+i].reset_index(drop=True) \n",
    "corn_dict    "
   ]
  },
  {
   "cell_type": "code",
   "execution_count": 60,
   "id": "45fd4c36",
   "metadata": {},
   "outputs": [
    {
     "data": {
      "text/html": [
       "<div>\n",
       "<style scoped>\n",
       "    .dataframe tbody tr th:only-of-type {\n",
       "        vertical-align: middle;\n",
       "    }\n",
       "\n",
       "    .dataframe tbody tr th {\n",
       "        vertical-align: top;\n",
       "    }\n",
       "\n",
       "    .dataframe thead th {\n",
       "        text-align: right;\n",
       "    }\n",
       "</style>\n",
       "<table border=\"1\" class=\"dataframe\">\n",
       "  <thead>\n",
       "    <tr style=\"text-align: right;\">\n",
       "      <th></th>\n",
       "      <th>price_7_days_ago</th>\n",
       "      <th>price_6_days_ago</th>\n",
       "      <th>price_5_days_ago</th>\n",
       "      <th>price_4_days_ago</th>\n",
       "      <th>price_3_days_ago</th>\n",
       "      <th>price_2_days_ago</th>\n",
       "      <th>price_1_days_ago</th>\n",
       "    </tr>\n",
       "  </thead>\n",
       "  <tbody>\n",
       "    <tr>\n",
       "      <th>0</th>\n",
       "      <td>179.25</td>\n",
       "      <td>180.75</td>\n",
       "      <td>182.00</td>\n",
       "      <td>186.00</td>\n",
       "      <td>187.75</td>\n",
       "      <td>184.50</td>\n",
       "      <td>182.75</td>\n",
       "    </tr>\n",
       "    <tr>\n",
       "      <th>1</th>\n",
       "      <td>180.75</td>\n",
       "      <td>182.00</td>\n",
       "      <td>186.00</td>\n",
       "      <td>187.75</td>\n",
       "      <td>184.50</td>\n",
       "      <td>182.75</td>\n",
       "      <td>180.50</td>\n",
       "    </tr>\n",
       "    <tr>\n",
       "      <th>2</th>\n",
       "      <td>182.00</td>\n",
       "      <td>186.00</td>\n",
       "      <td>187.75</td>\n",
       "      <td>184.50</td>\n",
       "      <td>182.75</td>\n",
       "      <td>180.50</td>\n",
       "      <td>181.00</td>\n",
       "    </tr>\n",
       "    <tr>\n",
       "      <th>3</th>\n",
       "      <td>186.00</td>\n",
       "      <td>187.75</td>\n",
       "      <td>184.50</td>\n",
       "      <td>182.75</td>\n",
       "      <td>180.50</td>\n",
       "      <td>181.00</td>\n",
       "      <td>180.25</td>\n",
       "    </tr>\n",
       "    <tr>\n",
       "      <th>4</th>\n",
       "      <td>187.75</td>\n",
       "      <td>184.50</td>\n",
       "      <td>182.75</td>\n",
       "      <td>180.50</td>\n",
       "      <td>181.00</td>\n",
       "      <td>180.25</td>\n",
       "      <td>180.25</td>\n",
       "    </tr>\n",
       "    <tr>\n",
       "      <th>...</th>\n",
       "      <td>...</td>\n",
       "      <td>...</td>\n",
       "      <td>...</td>\n",
       "      <td>...</td>\n",
       "      <td>...</td>\n",
       "      <td>...</td>\n",
       "      <td>...</td>\n",
       "    </tr>\n",
       "    <tr>\n",
       "      <th>5779</th>\n",
       "      <td>470.75</td>\n",
       "      <td>478.50</td>\n",
       "      <td>469.50</td>\n",
       "      <td>461.75</td>\n",
       "      <td>461.00</td>\n",
       "      <td>464.75</td>\n",
       "      <td>471.00</td>\n",
       "    </tr>\n",
       "    <tr>\n",
       "      <th>5780</th>\n",
       "      <td>478.50</td>\n",
       "      <td>469.50</td>\n",
       "      <td>461.75</td>\n",
       "      <td>461.00</td>\n",
       "      <td>464.75</td>\n",
       "      <td>471.00</td>\n",
       "      <td>471.50</td>\n",
       "    </tr>\n",
       "    <tr>\n",
       "      <th>5781</th>\n",
       "      <td>469.50</td>\n",
       "      <td>461.75</td>\n",
       "      <td>461.00</td>\n",
       "      <td>464.75</td>\n",
       "      <td>471.00</td>\n",
       "      <td>471.50</td>\n",
       "      <td>470.75</td>\n",
       "    </tr>\n",
       "    <tr>\n",
       "      <th>5782</th>\n",
       "      <td>461.75</td>\n",
       "      <td>461.00</td>\n",
       "      <td>464.75</td>\n",
       "      <td>471.00</td>\n",
       "      <td>471.50</td>\n",
       "      <td>470.75</td>\n",
       "      <td>468.50</td>\n",
       "    </tr>\n",
       "    <tr>\n",
       "      <th>5783</th>\n",
       "      <td>461.00</td>\n",
       "      <td>464.75</td>\n",
       "      <td>471.00</td>\n",
       "      <td>471.50</td>\n",
       "      <td>470.75</td>\n",
       "      <td>468.50</td>\n",
       "      <td>471.25</td>\n",
       "    </tr>\n",
       "  </tbody>\n",
       "</table>\n",
       "<p>5784 rows × 7 columns</p>\n",
       "</div>"
      ],
      "text/plain": [
       "      price_7_days_ago  price_6_days_ago  price_5_days_ago  price_4_days_ago  \\\n",
       "0               179.25            180.75            182.00            186.00   \n",
       "1               180.75            182.00            186.00            187.75   \n",
       "2               182.00            186.00            187.75            184.50   \n",
       "3               186.00            187.75            184.50            182.75   \n",
       "4               187.75            184.50            182.75            180.50   \n",
       "...                ...               ...               ...               ...   \n",
       "5779            470.75            478.50            469.50            461.75   \n",
       "5780            478.50            469.50            461.75            461.00   \n",
       "5781            469.50            461.75            461.00            464.75   \n",
       "5782            461.75            461.00            464.75            471.00   \n",
       "5783            461.00            464.75            471.00            471.50   \n",
       "\n",
       "      price_3_days_ago  price_2_days_ago  price_1_days_ago  \n",
       "0               187.75            184.50            182.75  \n",
       "1               184.50            182.75            180.50  \n",
       "2               182.75            180.50            181.00  \n",
       "3               180.50            181.00            180.25  \n",
       "4               181.00            180.25            180.25  \n",
       "...                ...               ...               ...  \n",
       "5779            461.00            464.75            471.00  \n",
       "5780            464.75            471.00            471.50  \n",
       "5781            471.00            471.50            470.75  \n",
       "5782            471.50            470.75            468.50  \n",
       "5783            470.75            468.50            471.25  \n",
       "\n",
       "[5784 rows x 7 columns]"
      ]
     },
     "execution_count": 60,
     "metadata": {},
     "output_type": "execute_result"
    }
   ],
   "source": [
    "X = pd.DataFrame.from_dict(corn_dict)\n",
    "X"
   ]
  },
  {
   "cell_type": "code",
   "execution_count": 61,
   "id": "07d0b44e",
   "metadata": {},
   "outputs": [
    {
     "data": {
      "text/plain": [
       "0       180.50\n",
       "1       181.00\n",
       "2       180.25\n",
       "3       180.25\n",
       "4       179.75\n",
       "         ...  \n",
       "5779    471.50\n",
       "5780    470.75\n",
       "5781    468.50\n",
       "5782    471.25\n",
       "5783    476.75\n",
       "Name: close, Length: 5784, dtype: float64"
      ]
     },
     "execution_count": 61,
     "metadata": {},
     "output_type": "execute_result"
    }
   ],
   "source": [
    "y = corn_df['close'][7:].reset_index(drop=True) \n",
    "y"
   ]
  },
  {
   "cell_type": "code",
   "execution_count": 62,
   "id": "c86d7207",
   "metadata": {},
   "outputs": [],
   "source": [
    "train_pct = .9\n",
    "X_train = X[:int(len(X)*train_pct)]\n",
    "X_test = X[int(len(X)*train_pct):]\n",
    "y_train = y[:int(len(y)*train_pct)]\n",
    "y_test = y[int(len(y)*train_pct):]"
   ]
  },
  {
   "cell_type": "code",
   "execution_count": 63,
   "id": "6291557c",
   "metadata": {},
   "outputs": [
    {
     "data": {
      "text/html": [
       "<style>#sk-container-id-2 {color: black;background-color: white;}#sk-container-id-2 pre{padding: 0;}#sk-container-id-2 div.sk-toggleable {background-color: white;}#sk-container-id-2 label.sk-toggleable__label {cursor: pointer;display: block;width: 100%;margin-bottom: 0;padding: 0.3em;box-sizing: border-box;text-align: center;}#sk-container-id-2 label.sk-toggleable__label-arrow:before {content: \"▸\";float: left;margin-right: 0.25em;color: #696969;}#sk-container-id-2 label.sk-toggleable__label-arrow:hover:before {color: black;}#sk-container-id-2 div.sk-estimator:hover label.sk-toggleable__label-arrow:before {color: black;}#sk-container-id-2 div.sk-toggleable__content {max-height: 0;max-width: 0;overflow: hidden;text-align: left;background-color: #f0f8ff;}#sk-container-id-2 div.sk-toggleable__content pre {margin: 0.2em;color: black;border-radius: 0.25em;background-color: #f0f8ff;}#sk-container-id-2 input.sk-toggleable__control:checked~div.sk-toggleable__content {max-height: 200px;max-width: 100%;overflow: auto;}#sk-container-id-2 input.sk-toggleable__control:checked~label.sk-toggleable__label-arrow:before {content: \"▾\";}#sk-container-id-2 div.sk-estimator input.sk-toggleable__control:checked~label.sk-toggleable__label {background-color: #d4ebff;}#sk-container-id-2 div.sk-label input.sk-toggleable__control:checked~label.sk-toggleable__label {background-color: #d4ebff;}#sk-container-id-2 input.sk-hidden--visually {border: 0;clip: rect(1px 1px 1px 1px);clip: rect(1px, 1px, 1px, 1px);height: 1px;margin: -1px;overflow: hidden;padding: 0;position: absolute;width: 1px;}#sk-container-id-2 div.sk-estimator {font-family: monospace;background-color: #f0f8ff;border: 1px dotted black;border-radius: 0.25em;box-sizing: border-box;margin-bottom: 0.5em;}#sk-container-id-2 div.sk-estimator:hover {background-color: #d4ebff;}#sk-container-id-2 div.sk-parallel-item::after {content: \"\";width: 100%;border-bottom: 1px solid gray;flex-grow: 1;}#sk-container-id-2 div.sk-label:hover label.sk-toggleable__label {background-color: #d4ebff;}#sk-container-id-2 div.sk-serial::before {content: \"\";position: absolute;border-left: 1px solid gray;box-sizing: border-box;top: 0;bottom: 0;left: 50%;z-index: 0;}#sk-container-id-2 div.sk-serial {display: flex;flex-direction: column;align-items: center;background-color: white;padding-right: 0.2em;padding-left: 0.2em;position: relative;}#sk-container-id-2 div.sk-item {position: relative;z-index: 1;}#sk-container-id-2 div.sk-parallel {display: flex;align-items: stretch;justify-content: center;background-color: white;position: relative;}#sk-container-id-2 div.sk-item::before, #sk-container-id-2 div.sk-parallel-item::before {content: \"\";position: absolute;border-left: 1px solid gray;box-sizing: border-box;top: 0;bottom: 0;left: 50%;z-index: -1;}#sk-container-id-2 div.sk-parallel-item {display: flex;flex-direction: column;z-index: 1;position: relative;background-color: white;}#sk-container-id-2 div.sk-parallel-item:first-child::after {align-self: flex-end;width: 50%;}#sk-container-id-2 div.sk-parallel-item:last-child::after {align-self: flex-start;width: 50%;}#sk-container-id-2 div.sk-parallel-item:only-child::after {width: 0;}#sk-container-id-2 div.sk-dashed-wrapped {border: 1px dashed gray;margin: 0 0.4em 0.5em 0.4em;box-sizing: border-box;padding-bottom: 0.4em;background-color: white;}#sk-container-id-2 div.sk-label label {font-family: monospace;font-weight: bold;display: inline-block;line-height: 1.2em;}#sk-container-id-2 div.sk-label-container {text-align: center;}#sk-container-id-2 div.sk-container {/* jupyter's `normalize.less` sets `[hidden] { display: none; }` but bootstrap.min.css set `[hidden] { display: none !important; }` so we also need the `!important` here to be able to override the default hidden behavior on the sphinx rendered scikit-learn.org. See: https://github.com/scikit-learn/scikit-learn/issues/21755 */display: inline-block !important;position: relative;}#sk-container-id-2 div.sk-text-repr-fallback {display: none;}</style><div id=\"sk-container-id-2\" class=\"sk-top-container\"><div class=\"sk-text-repr-fallback\"><pre>LinearRegression()</pre><b>In a Jupyter environment, please rerun this cell to show the HTML representation or trust the notebook. <br />On GitHub, the HTML representation is unable to render, please try loading this page with nbviewer.org.</b></div><div class=\"sk-container\" hidden><div class=\"sk-item\"><div class=\"sk-estimator sk-toggleable\"><input class=\"sk-toggleable__control sk-hidden--visually\" id=\"sk-estimator-id-2\" type=\"checkbox\" checked><label for=\"sk-estimator-id-2\" class=\"sk-toggleable__label sk-toggleable__label-arrow\">LinearRegression</label><div class=\"sk-toggleable__content\"><pre>LinearRegression()</pre></div></div></div></div></div>"
      ],
      "text/plain": [
       "LinearRegression()"
      ]
     },
     "execution_count": 63,
     "metadata": {},
     "output_type": "execute_result"
    }
   ],
   "source": [
    "from sklearn.linear_model import LinearRegression\n",
    "  \n",
    "classifier = LinearRegression()\n",
    "classifier.fit(X_train, y_train)"
   ]
  },
  {
   "cell_type": "code",
   "execution_count": 64,
   "id": "53ab69cc",
   "metadata": {},
   "outputs": [
    {
     "name": "stdout",
     "output_type": "stream",
     "text": [
      "0.9971498308553326\n",
      "0.971229819095482\n"
     ]
    }
   ],
   "source": [
    "print (classifier.score(X_train, y_train))\n",
    "print(classifier.score(X_test, y_test))\n",
    "# very high coefficient of determination on the train set, lower on the test set"
   ]
  },
  {
   "cell_type": "code",
   "execution_count": 65,
   "id": "493290b3",
   "metadata": {},
   "outputs": [
    {
     "name": "stdout",
     "output_type": "stream",
     "text": [
      "65.14954633823858 193.58699139121558\n"
     ]
    }
   ],
   "source": [
    "y_train_pred = classifier.predict(X_train)\n",
    "y_test_pred = classifier.predict(X_test)\n",
    "from sklearn.metrics import mean_squared_error\n",
    "train_mse = mean_squared_error(y_train, y_train_pred)\n",
    "test_mse = mean_squared_error(y_test, y_test_pred)\n",
    "print(train_mse, test_mse)\n",
    "# mse considerably higher on test set than train set\n",
    "# higher in general than I would have thought. maybe I should compare these scores to a simple naive prediction using \n",
    "# the previous value."
   ]
  },
  {
   "cell_type": "code",
   "execution_count": 66,
   "id": "19489e2d",
   "metadata": {},
   "outputs": [
    {
     "data": {
      "text/plain": [
       "array([183.1865224 , 180.69614961, 181.4084901 , ..., 656.58183816,\n",
       "       664.93181076, 658.73352565])"
      ]
     },
     "execution_count": 66,
     "metadata": {},
     "output_type": "execute_result"
    }
   ],
   "source": [
    "y_train_pred"
   ]
  },
  {
   "cell_type": "code",
   "execution_count": 67,
   "id": "0beafe56",
   "metadata": {},
   "outputs": [
    {
     "data": {
      "text/plain": [
       "0       180.50\n",
       "1       181.00\n",
       "2       180.25\n",
       "3       180.25\n",
       "4       179.75\n",
       "         ...  \n",
       "5200    658.25\n",
       "5201    658.25\n",
       "5202    664.50\n",
       "5203    659.50\n",
       "5204    657.25\n",
       "Name: close, Length: 5205, dtype: float64"
      ]
     },
     "execution_count": 67,
     "metadata": {},
     "output_type": "execute_result"
    }
   ],
   "source": [
    "y_train"
   ]
  },
  {
   "cell_type": "code",
   "execution_count": 68,
   "id": "dddb18e4",
   "metadata": {},
   "outputs": [],
   "source": [
    "X_train = X_train.to_numpy()"
   ]
  },
  {
   "cell_type": "code",
   "execution_count": 69,
   "id": "28f0a929",
   "metadata": {},
   "outputs": [
    {
     "data": {
      "text/plain": [
       "array([[179.25, 180.75, 182.  , ..., 187.75, 184.5 , 182.75],\n",
       "       [180.75, 182.  , 186.  , ..., 184.5 , 182.75, 180.5 ],\n",
       "       [182.  , 186.  , 187.75, ..., 182.75, 180.5 , 181.  ],\n",
       "       ...,\n",
       "       [759.5 , 757.5 , 719.  , ..., 652.5 , 658.25, 658.25],\n",
       "       [757.5 , 719.  , 685.  , ..., 658.25, 658.25, 664.5 ],\n",
       "       [719.  , 685.  , 652.5 , ..., 658.25, 664.5 , 659.5 ]])"
      ]
     },
     "execution_count": 69,
     "metadata": {},
     "output_type": "execute_result"
    }
   ],
   "source": [
    "X_train"
   ]
  },
  {
   "cell_type": "code",
   "execution_count": 70,
   "id": "01f341da",
   "metadata": {},
   "outputs": [],
   "source": [
    "X_test = X_test.to_numpy()\n"
   ]
  },
  {
   "cell_type": "code",
   "execution_count": 71,
   "id": "c0757618",
   "metadata": {},
   "outputs": [
    {
     "name": "stdout",
     "output_type": "stream",
     "text": [
      "Model: \"sequential_1\"\n",
      "_________________________________________________________________\n",
      " Layer (type)                Output Shape              Param #   \n",
      "=================================================================\n",
      " lambda_2 (Lambda)           (None, 7, 1)              0         \n",
      "                                                                 \n",
      " bidirectional_2 (Bidirectio  (None, 7, 64)            8704      \n",
      " nal)                                                            \n",
      "                                                                 \n",
      " bidirectional_3 (Bidirectio  (None, 64)               24832     \n",
      " nal)                                                            \n",
      "                                                                 \n",
      " dense_1 (Dense)             (None, 1)                 65        \n",
      "                                                                 \n",
      " lambda_3 (Lambda)           (None, 1)                 0         \n",
      "                                                                 \n",
      "=================================================================\n",
      "Total params: 33,601\n",
      "Trainable params: 33,601\n",
      "Non-trainable params: 0\n",
      "_________________________________________________________________\n"
     ]
    }
   ],
   "source": [
    "# Build the Model\n",
    "import tensorflow as tf\n",
    "model_tune = tf.keras.models.Sequential([\n",
    "  tf.keras.layers.Lambda(lambda x: tf.expand_dims(x, axis=-1),\n",
    "                      input_shape=[window_size]),\n",
    "    tf.keras.layers.Bidirectional(tf.keras.layers.LSTM(32, return_sequences=True)),\n",
    "  tf.keras.layers.Bidirectional(tf.keras.layers.LSTM(32)),\n",
    "  tf.keras.layers.Dense(1),\n",
    "  tf.keras.layers.Lambda(lambda x: x * 100.0)\n",
    "])\n",
    "\n",
    "# Print the model summary\n",
    "model_tune.summary()"
   ]
  },
  {
   "cell_type": "code",
   "execution_count": null,
   "id": "959f3238",
   "metadata": {},
   "outputs": [],
   "source": [
    "# Set the learning rate scheduler\n",
    "lr_schedule = tf.keras.callbacks.LearningRateScheduler(\n",
    "    lambda epoch: 1e-12 * 10**(epoch / 20))\n",
    "\n",
    "# Initialize the optimizer\n",
    "optimizer = tf.keras.optimizers.SGD(momentum=0)\n",
    "\n",
    "# Set the training parameters\n",
    "model_tune.compile(loss=tf.keras.losses.MeanSquaredError(), optimizer=optimizer)\n",
    "#tf.keras.losses.Huber()\n",
    "# Train the model\n",
    "history = model_tune.fit(X_train, y_train, epochs=160, callbacks=[lr_schedule])"
   ]
  },
  {
   "cell_type": "code",
   "execution_count": 73,
   "id": "45d905fe",
   "metadata": {},
   "outputs": [
    {
     "data": {
      "text/plain": [
       "(1e-12, 0.0001, 0.0, 150000.0)"
      ]
     },
     "execution_count": 73,
     "metadata": {},
     "output_type": "execute_result"
    },
    {
     "data": {
      "image/png": "[encoded data removed]",
      "text/plain": [
       "<Figure size 1000x600 with 1 Axes>"
      ]
     },
     "metadata": {},
     "output_type": "display_data"
    }
   ],
   "source": [
    "import matplotlib.pyplot as plt\n",
    "# Define the learning rate array\n",
    "lrs = 1e-12 * (10 ** (np.arange(160) / 20))\n",
    "\n",
    "# Set the figure size\n",
    "plt.figure(figsize=(10, 6))\n",
    "\n",
    "# Set the grid\n",
    "plt.grid(True)\n",
    "\n",
    "# Plot the loss in log scale\n",
    "plt.semilogx(lrs, history.history[\"loss\"])\n",
    "\n",
    "# Increase the tickmarks size\n",
    "plt.tick_params('both', length=10, width=1, which='both')\n",
    "\n",
    "# Set the plot boundaries\n",
    "plt.axis([1e-12, 1e-4, 0, 150000])"
   ]
  },
  {
   "cell_type": "code",
   "execution_count": null,
   "id": "7d7e9e25",
   "metadata": {},
   "outputs": [],
   "source": [
    "# Reset states generated by Keras\n",
    "tf.keras.backend.clear_session()\n",
    "\n",
    "# Build the model\n",
    "model = tf.keras.models.Sequential([\n",
    "  tf.keras.layers.Lambda(lambda x: tf.expand_dims(x, axis=-1),\n",
    "                      input_shape=[None]),\n",
    "   tf.keras.layers.Bidirectional(tf.keras.layers.LSTM(64, return_sequences=True)),\n",
    "  tf.keras.layers.Bidirectional(tf.keras.layers.LSTM(64)),\n",
    "  tf.keras.layers.Dense(1),\n",
    "  tf.keras.layers.Lambda(lambda x: x * 100.0)\n",
    "])\n",
    "\n",
    "# Set the learning rate based on the graph\n",
    "learning_rate = 1e-9\n",
    "\n",
    "# Set the optimizer \n",
    "optimizer = tf.keras.optimizers.SGD(learning_rate=learning_rate, momentum=0)\n",
    "\n",
    "\n",
    "# Set the training parameters\n",
    "model.compile(loss=tf.keras.losses.MeanSquaredError(),\n",
    "              optimizer=optimizer,\n",
    "              metrics=[\"mae\"])\n",
    "\n",
    "# loss=tf.keras.losses.Huber()\n",
    "\n",
    "# Train the model\n",
    "history = model.fit(X_train, y_train,epochs=5000)"
   ]
  },
  {
   "cell_type": "code",
   "execution_count": 75,
   "id": "400caf39",
   "metadata": {},
   "outputs": [],
   "source": [
    "def plot_series(time, series, format=\"-\", start=0, end=None):\n",
    "    \"\"\"\n",
    "    Visualizes time series data\n",
    "\n",
    "    Args:\n",
    "      time (array of int) - contains the time steps\n",
    "      series (array of int) - contains the measurements for each time step\n",
    "      format - line style when plotting the graph\n",
    "      start - first time step to plot\n",
    "      end - last time step to plot\n",
    "    \"\"\"\n",
    "\n",
    "    # Setup dimensions of the graph figure\n",
    "    plt.figure(figsize=(10, 6))\n",
    "    \n",
    "    if type(series) is tuple:\n",
    "\n",
    "      for series_num in series:\n",
    "        # Plot the time series data\n",
    "        plt.plot(time[start:end], series_num[start:end], format)\n",
    "\n",
    "    else:\n",
    "      # Plot the time series data\n",
    "      plt.plot(time[start:end], series[start:end], format)\n",
    "\n",
    "    # Label the x-axis\n",
    "    plt.xlabel(\"Time\")\n",
    "\n",
    "    # Label the y-axis\n",
    "    plt.ylabel(\"Value\")\n",
    "\n",
    "    # Overlay a grid on the graph\n",
    "    plt.grid(True)\n",
    "\n",
    "    # Draw the graph on screen\n",
    "    plt.show()"
   ]
  },
  {
   "cell_type": "code",
   "execution_count": 76,
   "id": "6024d8e5",
   "metadata": {},
   "outputs": [
    {
     "name": "stdout",
     "output_type": "stream",
     "text": [
      "19/19 [==============================] - 1s 7ms/step\n"
     ]
    }
   ],
   "source": [
    "results = model.predict(X_test)"
   ]
  },
  {
   "cell_type": "code",
   "execution_count": 77,
   "id": "7d9a726b",
   "metadata": {},
   "outputs": [],
   "source": [
    "results = results[:,0]"
   ]
  },
  {
   "cell_type": "code",
   "execution_count": 78,
   "id": "dbf2536a",
   "metadata": {},
   "outputs": [],
   "source": [
    "y_test = y_test.to_numpy()\n",
    "# y_test = y_test[:,0]"
   ]
  },
  {
   "cell_type": "code",
   "execution_count": 79,
   "id": "17861391",
   "metadata": {},
   "outputs": [],
   "source": [
    "time_valid = corn_df['date'][int(len(y)*train_pct)+window_size:]"
   ]
  },
  {
   "cell_type": "code",
   "execution_count": 80,
   "id": "d273379c",
   "metadata": {},
   "outputs": [
    {
     "data": {
      "image/png": "[encoded data removed]",
      "text/plain": [
       "<Figure size 1000x600 with 1 Axes>"
      ]
     },
     "metadata": {},
     "output_type": "display_data"
    }
   ],
   "source": [
    "# Plot the results\n",
    "plot_series(time_valid.index, (results, y_test))"
   ]
  },
  {
   "cell_type": "code",
   "execution_count": 81,
   "id": "7deb34e1",
   "metadata": {},
   "outputs": [
    {
     "name": "stdout",
     "output_type": "stream",
     "text": [
      "545.3055\n",
      "16.130384\n"
     ]
    }
   ],
   "source": [
    "# Compute the MSE and MAE\n",
    "print(tf.keras.metrics.mean_squared_error(y_test, results).numpy())\n",
    "print(tf.keras.metrics.mean_absolute_error(y_test, results).numpy())\n",
    "# higher mse than linear regression"
   ]
  },
  {
   "cell_type": "code",
   "execution_count": 82,
   "id": "6c5bdd6a",
   "metadata": {},
   "outputs": [
    {
     "name": "stdout",
     "output_type": "stream",
     "text": [
      "163/163 [==============================] - 1s 7ms/step\n"
     ]
    }
   ],
   "source": [
    "train_results = model.predict(X_train)\n",
    "train_results = train_results[:,0]\n",
    "\n",
    "y_train = y_train.to_numpy()\n",
    "# y_train = y_train[:,0]\n"
   ]
  },
  {
   "cell_type": "code",
   "execution_count": 83,
   "id": "d00fdaa3",
   "metadata": {},
   "outputs": [
    {
     "name": "stdout",
     "output_type": "stream",
     "text": [
      "207.37538\n",
      "9.691518\n"
     ]
    }
   ],
   "source": [
    "print(tf.keras.metrics.mean_squared_error(y_train, train_results).numpy())\n",
    "print(tf.keras.metrics.mean_absolute_error(y_train, train_results).numpy())"
   ]
  },
  {
   "cell_type": "code",
   "execution_count": null,
   "id": "55e5a313",
   "metadata": {},
   "outputs": [],
   "source": []
  }
 ],
 "metadata": {
  "kernelspec": {
   "display_name": "Python 3 (ipykernel)",
   "language": "python",
   "name": "python3"
  },
  "language_info": {
   "codemirror_mode": {
    "name": "ipython",
    "version": 3
   },
   "file_extension": ".py",
   "mimetype": "text/x-python",
   "name": "python",
   "nbconvert_exporter": "python",
   "pygments_lexer": "ipython3",
   "version": "3.10.9"
  }
 },
 "nbformat": 4,
 "nbformat_minor": 5
}
