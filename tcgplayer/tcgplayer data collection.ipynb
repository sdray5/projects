{
 "cells": [
  {
   "cell_type": "code",
   "execution_count": 1,
   "id": "a53a0842",
   "metadata": {},
   "outputs": [],
   "source": [
    "# it seems the tcgplayer api is no longer available for new people, so I will have to scrape some data on my own"
   ]
  },
  {
   "cell_type": "code",
   "execution_count": 2,
   "id": "68b2a1fa",
   "metadata": {},
   "outputs": [],
   "source": [
    "from selenium import webdriver\n",
    "import time\n",
    "import math\n",
    "import re\n",
    "import itertools\n",
    "import pandas as pd\n",
    "import selenium.webdriver.support.ui as ui"
   ]
  },
  {
   "cell_type": "code",
   "execution_count": 100,
   "id": "bf414eb0",
   "metadata": {},
   "outputs": [],
   "source": [
    "# this is how to obtain a title\n",
    "def get_title(html_source, item_number):\n",
    "    regex_title = re.compile('{}(.*){}'.format(re.escape('search-result__title\">'), re.escape('</span><div class=\"inventory\"')))\n",
    "    html_title = re.findall('search-result__title\">[^<]+</span><div class=\"inventory\"',html_source)\n",
    "    title = regex_title.findall(html_title[item_number])\n",
    "    return(title)"
   ]
  },
  {
   "cell_type": "code",
   "execution_count": 101,
   "id": "db3aecb2",
   "metadata": {},
   "outputs": [],
   "source": [
    "def get_table_data(html, title):\n",
    "    # the text we're interested in is tbody then the dates and price that follows\n",
    "    regex_table = re.compile('{}(.*){}'.format(re.escape('tbody'), re.escape('tbody')))\n",
    "    html_table_1 = regex_table.findall(html)\n",
    "    dates = re.findall('\\d{1,2}/\\d{1,2} to \\d{1,2}/\\d{1,2}',html_table_1[0])\n",
    "    prices = re.findall('\\$\\d+(?:\\.\\d+)?',html_table_1[0])\n",
    "    regex_foil = re.compile('{}(.*){}'.format(re.escape('<div class=\"charts-title\" data-v-f69e3427=\"\">'), re.escape('</div>')))\n",
    "    html_foil = re.findall('<div class=\"charts-title\" data-v-f69e3427=\"\">[^<]+</div>',html)\n",
    "    foil = [regex_foil.findall(html_foil[i]) for i in range(len(html_foil))]\n",
    "    foils = foil * len(dates)\n",
    "    if len(dates) < len(prices):\n",
    "        r = int(len(prices)/len(dates))\n",
    "        dates = [item for item in dates for _ in range(r)] \n",
    "    titles = title * len(dates)\n",
    "    return titles, foils, dates, prices"
   ]
  },
  {
   "cell_type": "code",
   "execution_count": 102,
   "id": "2b1fad63",
   "metadata": {},
   "outputs": [],
   "source": [
    "url = 'https://www.tcgplayer.com/search/pokemon/sv-scarlet-and-violet-151?productLineName=pokemon&setName=sv-scarlet-and-violet-151&view=grid&page=1'\n",
    "driver = webdriver.Chrome(executable_path=r\"C:\\Users\\steve\\Downloads\\chromedriver-win64\\chromedriver-win64\\chromedriver.exe\")\n",
    "driver.get(url)\n",
    "time.sleep(7)\n",
    "html_source = driver.page_source\n",
    "\n",
    "\n",
    "\n",
    "# how to find number of search results\n",
    "regex = re.compile('{}(.*){}'.format(re.escape('search-result-count'), re.escape(' results')))\n",
    "shortened_html = regex.findall(html_source)\n",
    "num_results = re.findall('^.*>([0-9]+)$',shortened_html[0])\n",
    "num_results = int(num_results[0])\n",
    "num_pages = math.ceil(num_results/24)\n",
    "\n",
    "\n",
    "htmls = []\n",
    "titles = []\n",
    "dates = []\n",
    "prices = []\n",
    "foils = []\n",
    "\n",
    "# Sort A-Z so the products stay in order\n",
    "sort_toggle = driver.find_element_by_class_name('tcg-input-select__trigger-toggle-button')\n",
    "sort_toggle.click() \n",
    "time.sleep(3)\n",
    "xpath = '/html/body/div[2]/div/div/section[2]/section/div/div[2]/div/div/div[2]/div/div/div/div/ul/li[3]/span'\n",
    "a_to_z_sort = driver.find_element_by_xpath(xpath)\n",
    "a_to_z_sort.click()\n",
    "    \n",
    "time.sleep(10)\n",
    "\n",
    "for h in range(num_pages):\n",
    "    # go to the next page\n",
    "    url = url[:-1] + str(h+1)\n",
    "    driver.get(url)    \n",
    "\n",
    "    time.sleep(12)\n",
    "    item_titles = driver.find_elements_by_class_name('search-result__title')\n",
    "    for i in range(len(item_titles)):\n",
    "        html_source = driver.page_source\n",
    "        title = get_title(html_source, i)\n",
    "        \n",
    "        item_titles = driver.find_elements_by_class_name('search-result__title')\n",
    "#         print(h+1, i, len(item_titles))\n",
    "        item_titles[i].click()\n",
    "        time.sleep(12)\n",
    "        html = driver.page_source\n",
    "        htmls.append(html)\n",
    "        \n",
    "        title, foil, date, price = get_table_data(html, title)\n",
    "#         if title[0] in titles:\n",
    "#             print(title[0])\n",
    "#         print(price[-1])\n",
    "        titles.append(title)\n",
    "        foils.append(foil)\n",
    "        dates.append(date)\n",
    "        prices.append(price)\n",
    "        \n",
    "        driver.back()\n",
    "        time.sleep(12)\n"
   ]
  },
  {
   "cell_type": "code",
   "execution_count": 103,
   "id": "f05437c5",
   "metadata": {},
   "outputs": [
    {
     "data": {
      "text/plain": [
       "(230, 230, 230, 230)"
      ]
     },
     "execution_count": 103,
     "metadata": {},
     "output_type": "execute_result"
    }
   ],
   "source": [
    "len(titles), len(dates), len(prices), len(foils)"
   ]
  },
  {
   "cell_type": "code",
   "execution_count": 104,
   "id": "4de30553",
   "metadata": {},
   "outputs": [],
   "source": [
    "unique_titles = []\n",
    "num = 0\n",
    "# check to see that all titles are unique\n",
    "for title in titles:\n",
    "    if title[0] in unique_titles:\n",
    "        print(title[0])\n",
    "        print(num)\n",
    "    else:\n",
    "        unique_titles.append(title[0])\n",
    "    num += 1\n",
    "    "
   ]
  },
  {
   "cell_type": "code",
   "execution_count": 105,
   "id": "22df7c41",
   "metadata": {},
   "outputs": [],
   "source": [
    "titles = list(itertools.chain(*titles))\n",
    "dates = list(itertools.chain(*dates))\n",
    "prices = list(itertools.chain(*prices))\n",
    "foils = list(itertools.chain(*foils))"
   ]
  },
  {
   "cell_type": "code",
   "execution_count": 106,
   "id": "fb2d2890",
   "metadata": {},
   "outputs": [
    {
     "data": {
      "text/plain": [
       "(11520, 11520, 11520, 11520)"
      ]
     },
     "execution_count": 106,
     "metadata": {},
     "output_type": "execute_result"
    }
   ],
   "source": [
    "len(titles), len(dates), len(prices), len(foils)"
   ]
  },
  {
   "cell_type": "code",
   "execution_count": 107,
   "id": "3d442268",
   "metadata": {},
   "outputs": [
    {
     "data": {
      "text/html": [
       "<div>\n",
       "<style scoped>\n",
       "    .dataframe tbody tr th:only-of-type {\n",
       "        vertical-align: middle;\n",
       "    }\n",
       "\n",
       "    .dataframe tbody tr th {\n",
       "        vertical-align: top;\n",
       "    }\n",
       "\n",
       "    .dataframe thead th {\n",
       "        text-align: right;\n",
       "    }\n",
       "</style>\n",
       "<table border=\"1\" class=\"dataframe\">\n",
       "  <thead>\n",
       "    <tr style=\"text-align: right;\">\n",
       "      <th></th>\n",
       "      <th>Product</th>\n",
       "      <th>Foil</th>\n",
       "      <th>Date Range</th>\n",
       "      <th>Market Price</th>\n",
       "    </tr>\n",
       "  </thead>\n",
       "  <tbody>\n",
       "    <tr>\n",
       "      <th>0</th>\n",
       "      <td>151: Alakazam ex Collection</td>\n",
       "      <td>[ Market Price: ]</td>\n",
       "      <td>7/17 to 7/19</td>\n",
       "      <td>$31.98</td>\n",
       "    </tr>\n",
       "    <tr>\n",
       "      <th>1</th>\n",
       "      <td>151: Alakazam ex Collection</td>\n",
       "      <td>[ Market Price: ]</td>\n",
       "      <td>7/20 to 7/22</td>\n",
       "      <td>$31.77</td>\n",
       "    </tr>\n",
       "    <tr>\n",
       "      <th>2</th>\n",
       "      <td>151: Alakazam ex Collection</td>\n",
       "      <td>[ Market Price: ]</td>\n",
       "      <td>7/23 to 7/25</td>\n",
       "      <td>$31.21</td>\n",
       "    </tr>\n",
       "    <tr>\n",
       "      <th>3</th>\n",
       "      <td>151: Alakazam ex Collection</td>\n",
       "      <td>[ Market Price: ]</td>\n",
       "      <td>7/26 to 7/28</td>\n",
       "      <td>$31.12</td>\n",
       "    </tr>\n",
       "    <tr>\n",
       "      <th>4</th>\n",
       "      <td>151: Alakazam ex Collection</td>\n",
       "      <td>[ Market Price: ]</td>\n",
       "      <td>7/29 to 7/31</td>\n",
       "      <td>$29.44</td>\n",
       "    </tr>\n",
       "    <tr>\n",
       "      <th>...</th>\n",
       "      <td>...</td>\n",
       "      <td>...</td>\n",
       "      <td>...</td>\n",
       "      <td>...</td>\n",
       "    </tr>\n",
       "    <tr>\n",
       "      <th>11515</th>\n",
       "      <td>Zubat</td>\n",
       "      <td>[Reverse Holofoil Market Price: ]</td>\n",
       "      <td>10/6 to 10/8</td>\n",
       "      <td>$0.23</td>\n",
       "    </tr>\n",
       "    <tr>\n",
       "      <th>11516</th>\n",
       "      <td>Zubat</td>\n",
       "      <td>[ Market Price: ]</td>\n",
       "      <td>10/9 to 10/11</td>\n",
       "      <td>$0.06</td>\n",
       "    </tr>\n",
       "    <tr>\n",
       "      <th>11517</th>\n",
       "      <td>Zubat</td>\n",
       "      <td>[Reverse Holofoil Market Price: ]</td>\n",
       "      <td>10/9 to 10/11</td>\n",
       "      <td>$0.21</td>\n",
       "    </tr>\n",
       "    <tr>\n",
       "      <th>11518</th>\n",
       "      <td>Zubat</td>\n",
       "      <td>[ Market Price: ]</td>\n",
       "      <td>10/12 to 10/14</td>\n",
       "      <td>$0.04</td>\n",
       "    </tr>\n",
       "    <tr>\n",
       "      <th>11519</th>\n",
       "      <td>Zubat</td>\n",
       "      <td>[Reverse Holofoil Market Price: ]</td>\n",
       "      <td>10/12 to 10/14</td>\n",
       "      <td>$0.21</td>\n",
       "    </tr>\n",
       "  </tbody>\n",
       "</table>\n",
       "<p>11520 rows × 4 columns</p>\n",
       "</div>"
      ],
      "text/plain": [
       "                           Product                               Foil  \\\n",
       "0      151: Alakazam ex Collection                  [ Market Price: ]   \n",
       "1      151: Alakazam ex Collection                  [ Market Price: ]   \n",
       "2      151: Alakazam ex Collection                  [ Market Price: ]   \n",
       "3      151: Alakazam ex Collection                  [ Market Price: ]   \n",
       "4      151: Alakazam ex Collection                  [ Market Price: ]   \n",
       "...                            ...                                ...   \n",
       "11515                        Zubat  [Reverse Holofoil Market Price: ]   \n",
       "11516                        Zubat                  [ Market Price: ]   \n",
       "11517                        Zubat  [Reverse Holofoil Market Price: ]   \n",
       "11518                        Zubat                  [ Market Price: ]   \n",
       "11519                        Zubat  [Reverse Holofoil Market Price: ]   \n",
       "\n",
       "           Date Range Market Price  \n",
       "0        7/17 to 7/19       $31.98  \n",
       "1        7/20 to 7/22       $31.77  \n",
       "2        7/23 to 7/25       $31.21  \n",
       "3        7/26 to 7/28       $31.12  \n",
       "4        7/29 to 7/31       $29.44  \n",
       "...               ...          ...  \n",
       "11515    10/6 to 10/8        $0.23  \n",
       "11516   10/9 to 10/11        $0.06  \n",
       "11517   10/9 to 10/11        $0.21  \n",
       "11518  10/12 to 10/14        $0.04  \n",
       "11519  10/12 to 10/14        $0.21  \n",
       "\n",
       "[11520 rows x 4 columns]"
      ]
     },
     "execution_count": 107,
     "metadata": {},
     "output_type": "execute_result"
    }
   ],
   "source": [
    "market_prices = pd.DataFrame([titles, foils, dates, prices]).T\n",
    "market_prices = market_prices.rename(columns={0: 'Product', 1:'Foil', 2:'Date Range', 3: 'Market Price'})\n",
    "market_prices"
   ]
  },
  {
   "cell_type": "code",
   "execution_count": 108,
   "id": "1744c193",
   "metadata": {},
   "outputs": [
    {
     "data": {
      "text/plain": [
       "230"
      ]
     },
     "execution_count": 108,
     "metadata": {},
     "output_type": "execute_result"
    }
   ],
   "source": [
    "len(market_prices['Product'].unique())"
   ]
  },
  {
   "cell_type": "code",
   "execution_count": 109,
   "id": "8a7939f0",
   "metadata": {},
   "outputs": [],
   "source": [
    "market_prices.to_csv('Pokemon_151.csv')"
   ]
  },
  {
   "cell_type": "code",
   "execution_count": null,
   "id": "bf26d58d",
   "metadata": {},
   "outputs": [],
   "source": []
  }
 ],
 "metadata": {
  "kernelspec": {
   "display_name": "Python 3 (ipykernel)",
   "language": "python",
   "name": "python3"
  },
  "language_info": {
   "codemirror_mode": {
    "name": "ipython",
    "version": 3
   },
   "file_extension": ".py",
   "mimetype": "text/x-python",
   "name": "python",
   "nbconvert_exporter": "python",
   "pygments_lexer": "ipython3",
   "version": "3.8.16"
  }
 },
 "nbformat": 4,
 "nbformat_minor": 5
}
