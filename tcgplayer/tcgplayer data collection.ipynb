{
 "cells": [
  {
   "cell_type": "code",
   "execution_count": 1,
   "id": "a53a0842",
   "metadata": {},
   "outputs": [],
   "source": [
    "# it seems the tcgplayer api is no longer available for new people, so I will have to scrape some data on my own"
   ]
  },
  {
   "cell_type": "code",
   "execution_count": 2,
   "id": "68b2a1fa",
   "metadata": {},
   "outputs": [],
   "source": [
    "from selenium import webdriver\n",
    "import time\n",
    "import math\n",
    "import re\n",
    "import itertools\n",
    "import pandas as pd\n",
    "import selenium.webdriver.support.ui as ui"
   ]
  },
  {
   "cell_type": "code",
   "execution_count": 100,
   "id": "bf414eb0",
   "metadata": {},
   "outputs": [],
   "source": [
    "# this is how to obtain a title\n",
    "def get_title(html_source, item_number):\n",
    "    regex_title = re.compile('{}(.*){}'.format(re.escape('search-result__title\">'), re.escape('</span><div class=\"inventory\"')))\n",
    "    html_title = re.findall('search-result__title\">[^<]+</span><div class=\"inventory\"',html_source)\n",
    "    title = regex_title.findall(html_title[item_number])\n",
    "    return(title)"
   ]
  },
  {
   "cell_type": "code",
   "execution_count": 101,
   "id": "db3aecb2",
   "metadata": {},
   "outputs": [],
   "source": [
    "def get_table_data(html, title):\n",
    "    # the text we're interested in is tbody then the dates and price that follows\n",
    "    regex_table = re.compile('{}(.*){}'.format(re.escape('tbody'), re.escape('tbody')))\n",
    "    html_table_1 = regex_table.findall(html)\n",
    "    dates = re.findall('\\d{1,2}/\\d{1,2} to \\d{1,2}/\\d{1,2}',html_table_1[0])\n",
    "    prices = re.findall('\\$\\d+(?:\\.\\d+)?',html_table_1[0])\n",
    "    regex_foil = re.compile('{}(.*){}'.format(re.escape('<div class=\"charts-title\" data-v-f69e3427=\"\">'), re.escape('</div>')))\n",
    "    html_foil = re.findall('<div class=\"charts-title\" data-v-f69e3427=\"\">[^<]+</div>',html)\n",
    "    foil = [regex_foil.findall(html_foil[i]) for i in range(len(html_foil))]\n",
    "    foils = foil * len(dates)\n",
    "    if len(dates) < len(prices):\n",
    "        r = int(len(prices)/len(dates))\n",
    "        dates = [item for item in dates for _ in range(r)] \n",
    "    titles = title * len(dates)\n",
    "    return titles, foils, dates, prices"
   ]
  },
  {
   "cell_type": "code",
   "execution_count": 123,
   "id": "2b1fad63",
   "metadata": {},
   "outputs": [],
   "source": [
    "# url = 'https://www.tcgplayer.com/search/pokemon/sv-scarlet-and-violet-151?productLineName=pokemon&setName=sv-scarlet-and-violet-151&view=grid&page=1'\n",
    "url = 'https://www.tcgplayer.com/search/pokemon/sv03-obsidian-flames?productLineName=pokemon&setName=sv03-obsidian-flames&view=grid&page=1'\n",
    "driver = webdriver.Chrome(executable_path=r\"C:\\Users\\steve\\Downloads\\chromedriver-win64\\chromedriver-win64\\chromedriver.exe\")\n",
    "driver.get(url)\n",
    "time.sleep(7)\n",
    "html_source = driver.page_source\n",
    "\n",
    "\n",
    "\n",
    "# how to find number of search results\n",
    "regex = re.compile('{}(.*){}'.format(re.escape('search-result-count'), re.escape(' results')))\n",
    "shortened_html = regex.findall(html_source)\n",
    "num_results = re.findall('^.*>([0-9]+)$',shortened_html[0])\n",
    "num_results = int(num_results[0])\n",
    "num_pages = math.ceil(num_results/24)\n",
    "\n",
    "\n",
    "htmls = []\n",
    "titles = []\n",
    "dates = []\n",
    "prices = []\n",
    "foils = []\n",
    "\n",
    "# Sort A-Z so the products stay in order\n",
    "sort_toggle = driver.find_element_by_class_name('tcg-input-select__trigger-toggle-button')\n",
    "sort_toggle.click() \n",
    "time.sleep(3)\n",
    "xpath = '/html/body/div[2]/div/div/section[2]/section/div/div[2]/div/div/div[2]/div/div/div/div/ul/li[3]/span'\n",
    "a_to_z_sort = driver.find_element_by_xpath(xpath)\n",
    "a_to_z_sort.click()\n",
    "    \n",
    "time.sleep(10)\n",
    "\n",
    "for h in range(num_pages):\n",
    "    # obtains the number of digits from the previous page so it can be removed properly from the end\n",
    "    num_len = len(str(h))\n",
    "    # go to the next page\n",
    "    url = url[:-num_len] + str(h+1)\n",
    "    driver.get(url)    \n",
    "\n",
    "    time.sleep(12)\n",
    "    item_titles = driver.find_elements_by_class_name('search-result__title')\n",
    "    for i in range(len(item_titles)):\n",
    "        html_source = driver.page_source\n",
    "        title = get_title(html_source, i)\n",
    "        \n",
    "        item_titles = driver.find_elements_by_class_name('search-result__title')\n",
    "#         print(h+1, i, len(item_titles))\n",
    "        item_titles[i].click()\n",
    "        time.sleep(12)\n",
    "        html = driver.page_source\n",
    "        htmls.append(html)\n",
    "        \n",
    "        title, foil, date, price = get_table_data(html, title)\n",
    "#         if title[0] in titles:\n",
    "#             print(title[0])\n",
    "#         print(price[-1])\n",
    "        titles.append(title)\n",
    "        foils.append(foil)\n",
    "        dates.append(date)\n",
    "        prices.append(price)\n",
    "        \n",
    "        driver.back()\n",
    "        time.sleep(15)\n"
   ]
  },
  {
   "cell_type": "code",
   "execution_count": 124,
   "id": "f05437c5",
   "metadata": {},
   "outputs": [
    {
     "data": {
      "text/plain": [
       "(254, 254, 254, 254)"
      ]
     },
     "execution_count": 124,
     "metadata": {},
     "output_type": "execute_result"
    }
   ],
   "source": [
    "len(titles), len(dates), len(prices), len(foils)"
   ]
  },
  {
   "cell_type": "code",
   "execution_count": 125,
   "id": "5e9e5c4c",
   "metadata": {},
   "outputs": [],
   "source": [
    "unique_titles = []\n",
    "num = 0\n",
    "# check to see that all titles are unique\n",
    "for title in titles:\n",
    "    if title[0] in unique_titles:\n",
    "        print(title[0])\n",
    "        print(num)\n",
    "    else:\n",
    "        unique_titles.append(title[0])\n",
    "    num += 1\n",
    "    "
   ]
  },
  {
   "cell_type": "code",
   "execution_count": 126,
   "id": "0ce1a57e",
   "metadata": {},
   "outputs": [],
   "source": [
    "titles = list(itertools.chain(*titles))\n",
    "dates = list(itertools.chain(*dates))\n",
    "prices = list(itertools.chain(*prices))\n",
    "foils = list(itertools.chain(*foils))"
   ]
  },
  {
   "cell_type": "code",
   "execution_count": 127,
   "id": "fb2d2890",
   "metadata": {},
   "outputs": [
    {
     "data": {
      "text/plain": [
       "(12930, 12930, 12930, 12930)"
      ]
     },
     "execution_count": 127,
     "metadata": {},
     "output_type": "execute_result"
    }
   ],
   "source": [
    "len(titles), len(dates), len(prices), len(foils)"
   ]
  },
  {
   "cell_type": "code",
   "execution_count": 128,
   "id": "27153f24",
   "metadata": {},
   "outputs": [
    {
     "data": {
      "text/html": [
       "<div>\n",
       "<style scoped>\n",
       "    .dataframe tbody tr th:only-of-type {\n",
       "        vertical-align: middle;\n",
       "    }\n",
       "\n",
       "    .dataframe tbody tr th {\n",
       "        vertical-align: top;\n",
       "    }\n",
       "\n",
       "    .dataframe thead th {\n",
       "        text-align: right;\n",
       "    }\n",
       "</style>\n",
       "<table border=\"1\" class=\"dataframe\">\n",
       "  <thead>\n",
       "    <tr style=\"text-align: right;\">\n",
       "      <th></th>\n",
       "      <th>Product</th>\n",
       "      <th>Foil</th>\n",
       "      <th>Date Range</th>\n",
       "      <th>Market Price</th>\n",
       "    </tr>\n",
       "  </thead>\n",
       "  <tbody>\n",
       "    <tr>\n",
       "      <th>0</th>\n",
       "      <td>Absol ex - 135/197</td>\n",
       "      <td>[Holofoil Market Price: ]</td>\n",
       "      <td>7/18 to 7/20</td>\n",
       "      <td>$0.00</td>\n",
       "    </tr>\n",
       "    <tr>\n",
       "      <th>1</th>\n",
       "      <td>Absol ex - 135/197</td>\n",
       "      <td>[Holofoil Market Price: ]</td>\n",
       "      <td>7/21 to 7/23</td>\n",
       "      <td>$0.00</td>\n",
       "    </tr>\n",
       "    <tr>\n",
       "      <th>2</th>\n",
       "      <td>Absol ex - 135/197</td>\n",
       "      <td>[Holofoil Market Price: ]</td>\n",
       "      <td>7/24 to 7/26</td>\n",
       "      <td>$0.00</td>\n",
       "    </tr>\n",
       "    <tr>\n",
       "      <th>3</th>\n",
       "      <td>Absol ex - 135/197</td>\n",
       "      <td>[Holofoil Market Price: ]</td>\n",
       "      <td>7/27 to 7/29</td>\n",
       "      <td>$0.00</td>\n",
       "    </tr>\n",
       "    <tr>\n",
       "      <th>4</th>\n",
       "      <td>Absol ex - 135/197</td>\n",
       "      <td>[Holofoil Market Price: ]</td>\n",
       "      <td>7/30 to 8/1</td>\n",
       "      <td>$4.87</td>\n",
       "    </tr>\n",
       "    <tr>\n",
       "      <th>...</th>\n",
       "      <td>...</td>\n",
       "      <td>...</td>\n",
       "      <td>...</td>\n",
       "      <td>...</td>\n",
       "    </tr>\n",
       "    <tr>\n",
       "      <th>12925</th>\n",
       "      <td>Zigzagoon</td>\n",
       "      <td>[Reverse Holofoil Market Price: ]</td>\n",
       "      <td>10/7 to 10/9</td>\n",
       "      <td>$0.06</td>\n",
       "    </tr>\n",
       "    <tr>\n",
       "      <th>12926</th>\n",
       "      <td>Zigzagoon</td>\n",
       "      <td>[ Market Price: ]</td>\n",
       "      <td>10/10 to 10/12</td>\n",
       "      <td>$0.03</td>\n",
       "    </tr>\n",
       "    <tr>\n",
       "      <th>12927</th>\n",
       "      <td>Zigzagoon</td>\n",
       "      <td>[Reverse Holofoil Market Price: ]</td>\n",
       "      <td>10/10 to 10/12</td>\n",
       "      <td>$0.06</td>\n",
       "    </tr>\n",
       "    <tr>\n",
       "      <th>12928</th>\n",
       "      <td>Zigzagoon</td>\n",
       "      <td>[ Market Price: ]</td>\n",
       "      <td>10/13 to 10/15</td>\n",
       "      <td>$0.03</td>\n",
       "    </tr>\n",
       "    <tr>\n",
       "      <th>12929</th>\n",
       "      <td>Zigzagoon</td>\n",
       "      <td>[Reverse Holofoil Market Price: ]</td>\n",
       "      <td>10/13 to 10/15</td>\n",
       "      <td>$0.06</td>\n",
       "    </tr>\n",
       "  </tbody>\n",
       "</table>\n",
       "<p>12930 rows × 4 columns</p>\n",
       "</div>"
      ],
      "text/plain": [
       "                  Product                               Foil      Date Range  \\\n",
       "0      Absol ex - 135/197          [Holofoil Market Price: ]    7/18 to 7/20   \n",
       "1      Absol ex - 135/197          [Holofoil Market Price: ]    7/21 to 7/23   \n",
       "2      Absol ex - 135/197          [Holofoil Market Price: ]    7/24 to 7/26   \n",
       "3      Absol ex - 135/197          [Holofoil Market Price: ]    7/27 to 7/29   \n",
       "4      Absol ex - 135/197          [Holofoil Market Price: ]     7/30 to 8/1   \n",
       "...                   ...                                ...             ...   \n",
       "12925           Zigzagoon  [Reverse Holofoil Market Price: ]    10/7 to 10/9   \n",
       "12926           Zigzagoon                  [ Market Price: ]  10/10 to 10/12   \n",
       "12927           Zigzagoon  [Reverse Holofoil Market Price: ]  10/10 to 10/12   \n",
       "12928           Zigzagoon                  [ Market Price: ]  10/13 to 10/15   \n",
       "12929           Zigzagoon  [Reverse Holofoil Market Price: ]  10/13 to 10/15   \n",
       "\n",
       "      Market Price  \n",
       "0            $0.00  \n",
       "1            $0.00  \n",
       "2            $0.00  \n",
       "3            $0.00  \n",
       "4            $4.87  \n",
       "...            ...  \n",
       "12925        $0.06  \n",
       "12926        $0.03  \n",
       "12927        $0.06  \n",
       "12928        $0.03  \n",
       "12929        $0.06  \n",
       "\n",
       "[12930 rows x 4 columns]"
      ]
     },
     "execution_count": 128,
     "metadata": {},
     "output_type": "execute_result"
    }
   ],
   "source": [
    "market_prices = pd.DataFrame([titles, foils, dates, prices]).T\n",
    "market_prices = market_prices.rename(columns={0: 'Product', 1:'Foil', 2:'Date Range', 3: 'Market Price'})\n",
    "market_prices"
   ]
  },
  {
   "cell_type": "code",
   "execution_count": 129,
   "id": "b43845b3",
   "metadata": {},
   "outputs": [
    {
     "data": {
      "text/plain": [
       "254"
      ]
     },
     "execution_count": 129,
     "metadata": {},
     "output_type": "execute_result"
    }
   ],
   "source": [
    "len(market_prices['Product'].unique())"
   ]
  },
  {
   "cell_type": "code",
   "execution_count": 130,
   "id": "baccd72d",
   "metadata": {},
   "outputs": [],
   "source": [
    "# market_prices.to_csv('Pokemon_151.csv')\n",
    "market_prices.to_csv('Obsidian_Flames.csv')"
   ]
  },
  {
   "cell_type": "code",
   "execution_count": null,
   "id": "dd461ddc",
   "metadata": {},
   "outputs": [],
   "source": []
  }
 ],
 "metadata": {
  "kernelspec": {
   "display_name": "Python 3 (ipykernel)",
   "language": "python",
   "name": "python3"
  },
  "language_info": {
   "codemirror_mode": {
    "name": "ipython",
    "version": 3
   },
   "file_extension": ".py",
   "mimetype": "text/x-python",
   "name": "python",
   "nbconvert_exporter": "python",
   "pygments_lexer": "ipython3",
   "version": "3.8.16"
  }
 },
 "nbformat": 4,
 "nbformat_minor": 5
}
