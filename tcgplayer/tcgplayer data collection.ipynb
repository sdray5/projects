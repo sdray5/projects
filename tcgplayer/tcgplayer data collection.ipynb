{
 "cells": [
  {
   "cell_type": "code",
   "execution_count": 2,
   "id": "a53a0842",
   "metadata": {},
   "outputs": [],
   "source": [
    "# it seems the tcgplayer api is no longer available for new people, so I will have to scrape some data on my own"
   ]
  },
  {
   "cell_type": "code",
   "execution_count": 3,
   "id": "68b2a1fa",
   "metadata": {},
   "outputs": [],
   "source": [
    "from selenium import webdriver\n",
    "import time\n",
    "import math\n",
    "import re\n",
    "import itertools\n",
    "import pandas as pd\n",
    "import selenium.webdriver.support.ui as ui"
   ]
  },
  {
   "cell_type": "code",
   "execution_count": 4,
   "id": "bf414eb0",
   "metadata": {},
   "outputs": [],
   "source": [
    "# this is how to obtain a title\n",
    "def get_title(html_source, item_number):\n",
    "    regex_title = re.compile('{}(.*){}'.format(re.escape('search-result__title\">'), re.escape('</span><div class=\"inventory\"')))\n",
    "    html_title = re.findall('search-result__title\">[^<]+</span><div class=\"inventory\"',html_source)\n",
    "    title = regex_title.findall(html_title[item_number])\n",
    "    return(title)"
   ]
  },
  {
   "cell_type": "code",
   "execution_count": 5,
   "id": "db3aecb2",
   "metadata": {},
   "outputs": [],
   "source": [
    "def get_table_data(html, title):\n",
    "    # the text we're interested in is tbody then the dates and price that follows\n",
    "    regex_table = re.compile('{}(.*){}'.format(re.escape('tbody'), re.escape('tbody')))\n",
    "    html_table_1 = regex_table.findall(html)\n",
    "    dates = re.findall('\\d{1,2}/\\d{1,2} to \\d{1,2}/\\d{1,2}',html_table_1[0])\n",
    "    prices = re.findall('\\$\\d+(?:\\.\\d+)?',html_table_1[0])\n",
    "    regex_foil = re.compile('{}(.*){}'.format(re.escape('<div class=\"charts-title\" data-v-f69e3427=\"\">'), re.escape('</div>')))\n",
    "    html_foil = re.findall('<div class=\"charts-title\" data-v-f69e3427=\"\">[^<]+</div>',html)\n",
    "    foil = [regex_foil.findall(html_foil[i]) for i in range(len(html_foil))]\n",
    "    foils = foil * len(dates)\n",
    "    if len(dates) < len(prices):\n",
    "        r = int(len(prices)/len(dates))\n",
    "        dates = [item for item in dates for _ in range(r)] \n",
    "    titles = title * len(dates)\n",
    "    return titles, foils, dates, prices"
   ]
  },
  {
   "cell_type": "code",
   "execution_count": 6,
   "id": "2b1fad63",
   "metadata": {},
   "outputs": [],
   "source": [
    "url = 'https://www.tcgplayer.com/search/pokemon/sv-scarlet-and-violet-151?productLineName=pokemon&setName=sv-scarlet-and-violet-151&view=grid&page=1'\n",
    "# url = 'https://www.tcgplayer.com/search/pokemon/sv03-obsidian-flames?productLineName=pokemon&setName=sv03-obsidian-flames&view=grid&page=1'\n",
    "driver = webdriver.Chrome(executable_path=r\"C:\\Users\\steve\\Downloads\\chromedriver-win64\\chromedriver-win64\\chromedriver.exe\")\n",
    "driver.get(url)\n",
    "time.sleep(7)\n",
    "html_source = driver.page_source\n",
    "\n",
    "\n",
    "\n",
    "# how to find number of search results\n",
    "regex = re.compile('{}(.*){}'.format(re.escape('search-result-count'), re.escape(' results')))\n",
    "shortened_html = regex.findall(html_source)\n",
    "num_results = re.findall('^.*>([0-9]+)$',shortened_html[0])\n",
    "num_results = int(num_results[0])\n",
    "num_pages = math.ceil(num_results/24)\n",
    "\n",
    "\n",
    "htmls = []\n",
    "titles = []\n",
    "dates = []\n",
    "prices = []\n",
    "foils = []\n",
    "\n",
    "# Sort A-Z so the products stay in order\n",
    "sort_toggle = driver.find_element_by_class_name('tcg-input-select__trigger-toggle-button')\n",
    "sort_toggle.click() \n",
    "time.sleep(3)\n",
    "xpath = '/html/body/div[2]/div/div/section[2]/section/div/div[2]/div/div/div[2]/div/div/div/div/ul/li[3]/span'\n",
    "a_to_z_sort = driver.find_element_by_xpath(xpath)\n",
    "a_to_z_sort.click()\n",
    "    \n",
    "time.sleep(10)\n",
    "\n",
    "for h in range(num_pages):\n",
    "    # obtains the number of digits from the previous page so it can be removed properly from the end\n",
    "    num_len = len(str(h))\n",
    "    # go to the next page\n",
    "    url = url[:-num_len] + str(h+1)\n",
    "    driver.get(url)    \n",
    "\n",
    "    time.sleep(12)\n",
    "    item_titles = driver.find_elements_by_class_name('search-result__title')\n",
    "    for i in range(len(item_titles)):\n",
    "        html_source = driver.page_source\n",
    "        title = get_title(html_source, i)\n",
    "        \n",
    "        item_titles = driver.find_elements_by_class_name('search-result__title')\n",
    "#         print(h+1, i, len(item_titles))\n",
    "        item_titles[i].click()\n",
    "        time.sleep(12)\n",
    "        html = driver.page_source\n",
    "        htmls.append(html)\n",
    "        \n",
    "        title, foil, date, price = get_table_data(html, title)\n",
    "#         if title[0] in titles:\n",
    "#             print(title[0])\n",
    "#         print(price[-1])\n",
    "        titles.append(title)\n",
    "        foils.append(foil)\n",
    "        dates.append(date)\n",
    "        prices.append(price)\n",
    "        \n",
    "        driver.back()\n",
    "        time.sleep(15)\n"
   ]
  },
  {
   "cell_type": "code",
   "execution_count": 7,
   "id": "f05437c5",
   "metadata": {},
   "outputs": [
    {
     "data": {
      "text/plain": [
       "(240, 240, 240, 240)"
      ]
     },
     "execution_count": 7,
     "metadata": {},
     "output_type": "execute_result"
    }
   ],
   "source": [
    "len(titles), len(dates), len(prices), len(foils)"
   ]
  },
  {
   "cell_type": "code",
   "execution_count": 8,
   "id": "5e9e5c4c",
   "metadata": {},
   "outputs": [],
   "source": [
    "unique_titles = []\n",
    "num = 0\n",
    "# check to see that all titles are unique\n",
    "for title in titles:\n",
    "    if title[0] in unique_titles:\n",
    "        print(title[0])\n",
    "        print(num)\n",
    "    else:\n",
    "        unique_titles.append(title[0])\n",
    "    num += 1\n",
    "    "
   ]
  },
  {
   "cell_type": "code",
   "execution_count": 9,
   "id": "0ce1a57e",
   "metadata": {},
   "outputs": [],
   "source": [
    "titles = list(itertools.chain(*titles))\n",
    "dates = list(itertools.chain(*dates))\n",
    "prices = list(itertools.chain(*prices))\n",
    "foils = list(itertools.chain(*foils))"
   ]
  },
  {
   "cell_type": "code",
   "execution_count": 10,
   "id": "fb2d2890",
   "metadata": {},
   "outputs": [
    {
     "data": {
      "text/plain": [
       "(11790, 11790, 11790, 11790)"
      ]
     },
     "execution_count": 10,
     "metadata": {},
     "output_type": "execute_result"
    }
   ],
   "source": [
    "len(titles), len(dates), len(prices), len(foils)"
   ]
  },
  {
   "cell_type": "code",
   "execution_count": 11,
   "id": "27153f24",
   "metadata": {},
   "outputs": [
    {
     "data": {
      "text/html": [
       "<div>\n",
       "<style scoped>\n",
       "    .dataframe tbody tr th:only-of-type {\n",
       "        vertical-align: middle;\n",
       "    }\n",
       "\n",
       "    .dataframe tbody tr th {\n",
       "        vertical-align: top;\n",
       "    }\n",
       "\n",
       "    .dataframe thead th {\n",
       "        text-align: right;\n",
       "    }\n",
       "</style>\n",
       "<table border=\"1\" class=\"dataframe\">\n",
       "  <thead>\n",
       "    <tr style=\"text-align: right;\">\n",
       "      <th></th>\n",
       "      <th>Product</th>\n",
       "      <th>Foil</th>\n",
       "      <th>Date Range</th>\n",
       "      <th>Market Price</th>\n",
       "    </tr>\n",
       "  </thead>\n",
       "  <tbody>\n",
       "    <tr>\n",
       "      <th>0</th>\n",
       "      <td>151: Alakazam ex Collection</td>\n",
       "      <td>[ Market Price: ]</td>\n",
       "      <td>8/5 to 8/7</td>\n",
       "      <td>$27.46</td>\n",
       "    </tr>\n",
       "    <tr>\n",
       "      <th>1</th>\n",
       "      <td>151: Alakazam ex Collection</td>\n",
       "      <td>[ Market Price: ]</td>\n",
       "      <td>8/8 to 8/10</td>\n",
       "      <td>$26.81</td>\n",
       "    </tr>\n",
       "    <tr>\n",
       "      <th>2</th>\n",
       "      <td>151: Alakazam ex Collection</td>\n",
       "      <td>[ Market Price: ]</td>\n",
       "      <td>8/11 to 8/13</td>\n",
       "      <td>$26.21</td>\n",
       "    </tr>\n",
       "    <tr>\n",
       "      <th>3</th>\n",
       "      <td>151: Alakazam ex Collection</td>\n",
       "      <td>[ Market Price: ]</td>\n",
       "      <td>8/14 to 8/16</td>\n",
       "      <td>$25.41</td>\n",
       "    </tr>\n",
       "    <tr>\n",
       "      <th>4</th>\n",
       "      <td>151: Alakazam ex Collection</td>\n",
       "      <td>[ Market Price: ]</td>\n",
       "      <td>8/17 to 8/19</td>\n",
       "      <td>$23.35</td>\n",
       "    </tr>\n",
       "    <tr>\n",
       "      <th>...</th>\n",
       "      <td>...</td>\n",
       "      <td>...</td>\n",
       "      <td>...</td>\n",
       "      <td>...</td>\n",
       "    </tr>\n",
       "    <tr>\n",
       "      <th>11785</th>\n",
       "      <td>Zubat</td>\n",
       "      <td>[Reverse Holofoil Market Price: ]</td>\n",
       "      <td>10/25 to 10/27</td>\n",
       "      <td>$0.20</td>\n",
       "    </tr>\n",
       "    <tr>\n",
       "      <th>11786</th>\n",
       "      <td>Zubat</td>\n",
       "      <td>[ Market Price: ]</td>\n",
       "      <td>10/28 to 10/30</td>\n",
       "      <td>$0.04</td>\n",
       "    </tr>\n",
       "    <tr>\n",
       "      <th>11787</th>\n",
       "      <td>Zubat</td>\n",
       "      <td>[Reverse Holofoil Market Price: ]</td>\n",
       "      <td>10/28 to 10/30</td>\n",
       "      <td>$0.23</td>\n",
       "    </tr>\n",
       "    <tr>\n",
       "      <th>11788</th>\n",
       "      <td>Zubat</td>\n",
       "      <td>[ Market Price: ]</td>\n",
       "      <td>10/31 to 11/2</td>\n",
       "      <td>$0.03</td>\n",
       "    </tr>\n",
       "    <tr>\n",
       "      <th>11789</th>\n",
       "      <td>Zubat</td>\n",
       "      <td>[Reverse Holofoil Market Price: ]</td>\n",
       "      <td>10/31 to 11/2</td>\n",
       "      <td>$0.22</td>\n",
       "    </tr>\n",
       "  </tbody>\n",
       "</table>\n",
       "<p>11790 rows × 4 columns</p>\n",
       "</div>"
      ],
      "text/plain": [
       "                           Product                               Foil  \\\n",
       "0      151: Alakazam ex Collection                  [ Market Price: ]   \n",
       "1      151: Alakazam ex Collection                  [ Market Price: ]   \n",
       "2      151: Alakazam ex Collection                  [ Market Price: ]   \n",
       "3      151: Alakazam ex Collection                  [ Market Price: ]   \n",
       "4      151: Alakazam ex Collection                  [ Market Price: ]   \n",
       "...                            ...                                ...   \n",
       "11785                        Zubat  [Reverse Holofoil Market Price: ]   \n",
       "11786                        Zubat                  [ Market Price: ]   \n",
       "11787                        Zubat  [Reverse Holofoil Market Price: ]   \n",
       "11788                        Zubat                  [ Market Price: ]   \n",
       "11789                        Zubat  [Reverse Holofoil Market Price: ]   \n",
       "\n",
       "           Date Range Market Price  \n",
       "0          8/5 to 8/7       $27.46  \n",
       "1         8/8 to 8/10       $26.81  \n",
       "2        8/11 to 8/13       $26.21  \n",
       "3        8/14 to 8/16       $25.41  \n",
       "4        8/17 to 8/19       $23.35  \n",
       "...               ...          ...  \n",
       "11785  10/25 to 10/27        $0.20  \n",
       "11786  10/28 to 10/30        $0.04  \n",
       "11787  10/28 to 10/30        $0.23  \n",
       "11788   10/31 to 11/2        $0.03  \n",
       "11789   10/31 to 11/2        $0.22  \n",
       "\n",
       "[11790 rows x 4 columns]"
      ]
     },
     "execution_count": 11,
     "metadata": {},
     "output_type": "execute_result"
    }
   ],
   "source": [
    "market_prices = pd.DataFrame([titles, foils, dates, prices]).T\n",
    "market_prices = market_prices.rename(columns={0: 'Product', 1:'Foil', 2:'Date Range', 3: 'Market Price'})\n",
    "market_prices"
   ]
  },
  {
   "cell_type": "code",
   "execution_count": 12,
   "id": "b43845b3",
   "metadata": {},
   "outputs": [
    {
     "data": {
      "text/plain": [
       "240"
      ]
     },
     "execution_count": 12,
     "metadata": {},
     "output_type": "execute_result"
    }
   ],
   "source": [
    "len(market_prices['Product'].unique())"
   ]
  },
  {
   "cell_type": "code",
   "execution_count": 14,
   "id": "baccd72d",
   "metadata": {},
   "outputs": [],
   "source": [
    "market_prices.to_csv('Pokemon_151.csv')\n",
    "# market_prices.to_csv('Obsidian_Flames.csv')"
   ]
  },
  {
   "cell_type": "code",
   "execution_count": null,
   "id": "aff79dc2",
   "metadata": {},
   "outputs": [],
   "source": []
  }
 ],
 "metadata": {
  "kernelspec": {
   "display_name": "Python 3 (ipykernel)",
   "language": "python",
   "name": "python3"
  },
  "language_info": {
   "codemirror_mode": {
    "name": "ipython",
    "version": 3
   },
   "file_extension": ".py",
   "mimetype": "text/x-python",
   "name": "python",
   "nbconvert_exporter": "python",
   "pygments_lexer": "ipython3",
   "version": "3.8.16"
  }
 },
 "nbformat": 4,
 "nbformat_minor": 5
}
