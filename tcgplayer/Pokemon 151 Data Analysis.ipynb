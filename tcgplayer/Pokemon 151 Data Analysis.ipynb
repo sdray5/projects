{
 "cells": [
  {
   "cell_type": "code",
   "execution_count": 2,
   "id": "87c4744e",
   "metadata": {},
   "outputs": [],
   "source": [
    "import pandas as pd"
   ]
  },
  {
   "cell_type": "code",
   "execution_count": 10,
   "id": "249b28d7",
   "metadata": {},
   "outputs": [
    {
     "data": {
      "text/html": [
       "<div>\n",
       "<style scoped>\n",
       "    .dataframe tbody tr th:only-of-type {\n",
       "        vertical-align: middle;\n",
       "    }\n",
       "\n",
       "    .dataframe tbody tr th {\n",
       "        vertical-align: top;\n",
       "    }\n",
       "\n",
       "    .dataframe thead th {\n",
       "        text-align: right;\n",
       "    }\n",
       "</style>\n",
       "<table border=\"1\" class=\"dataframe\">\n",
       "  <thead>\n",
       "    <tr style=\"text-align: right;\">\n",
       "      <th></th>\n",
       "      <th>Product</th>\n",
       "      <th>Date Range</th>\n",
       "      <th>Market Price</th>\n",
       "    </tr>\n",
       "  </thead>\n",
       "  <tbody>\n",
       "    <tr>\n",
       "      <th>0</th>\n",
       "      <td>Code Card - 151 Booster Pack</td>\n",
       "      <td>7/15 to 7/17</td>\n",
       "      <td>$0.00</td>\n",
       "    </tr>\n",
       "    <tr>\n",
       "      <th>1</th>\n",
       "      <td>Code Card - 151 Booster Pack</td>\n",
       "      <td>7/18 to 7/20</td>\n",
       "      <td>$0.00</td>\n",
       "    </tr>\n",
       "    <tr>\n",
       "      <th>2</th>\n",
       "      <td>Code Card - 151 Booster Pack</td>\n",
       "      <td>7/21 to 7/23</td>\n",
       "      <td>$0.00</td>\n",
       "    </tr>\n",
       "    <tr>\n",
       "      <th>3</th>\n",
       "      <td>Code Card - 151 Booster Pack</td>\n",
       "      <td>7/24 to 7/26</td>\n",
       "      <td>$0.00</td>\n",
       "    </tr>\n",
       "    <tr>\n",
       "      <th>4</th>\n",
       "      <td>Code Card - 151 Booster Pack</td>\n",
       "      <td>7/27 to 7/29</td>\n",
       "      <td>$0.00</td>\n",
       "    </tr>\n",
       "    <tr>\n",
       "      <th>...</th>\n",
       "      <td>...</td>\n",
       "      <td>...</td>\n",
       "      <td>...</td>\n",
       "    </tr>\n",
       "    <tr>\n",
       "      <th>6895</th>\n",
       "      <td>151 Booster Bundle Display Case</td>\n",
       "      <td>9/28 to 9/30</td>\n",
       "      <td>$0.13</td>\n",
       "    </tr>\n",
       "    <tr>\n",
       "      <th>6896</th>\n",
       "      <td>151 Booster Bundle Display Case</td>\n",
       "      <td>10/1 to 10/3</td>\n",
       "      <td>$0.11</td>\n",
       "    </tr>\n",
       "    <tr>\n",
       "      <th>6897</th>\n",
       "      <td>151 Booster Bundle Display Case</td>\n",
       "      <td>10/4 to 10/6</td>\n",
       "      <td>$0.13</td>\n",
       "    </tr>\n",
       "    <tr>\n",
       "      <th>6898</th>\n",
       "      <td>151 Booster Bundle Display Case</td>\n",
       "      <td>10/7 to 10/9</td>\n",
       "      <td>$0.10</td>\n",
       "    </tr>\n",
       "    <tr>\n",
       "      <th>6899</th>\n",
       "      <td>151 Booster Bundle Display Case</td>\n",
       "      <td>10/10 to 10/12</td>\n",
       "      <td>$0.10</td>\n",
       "    </tr>\n",
       "  </tbody>\n",
       "</table>\n",
       "<p>6900 rows × 3 columns</p>\n",
       "</div>"
      ],
      "text/plain": [
       "                              Product      Date Range Market Price\n",
       "0        Code Card - 151 Booster Pack    7/15 to 7/17        $0.00\n",
       "1        Code Card - 151 Booster Pack    7/18 to 7/20        $0.00\n",
       "2        Code Card - 151 Booster Pack    7/21 to 7/23        $0.00\n",
       "3        Code Card - 151 Booster Pack    7/24 to 7/26        $0.00\n",
       "4        Code Card - 151 Booster Pack    7/27 to 7/29        $0.00\n",
       "...                               ...             ...          ...\n",
       "6895  151 Booster Bundle Display Case    9/28 to 9/30        $0.13\n",
       "6896  151 Booster Bundle Display Case    10/1 to 10/3        $0.11\n",
       "6897  151 Booster Bundle Display Case    10/4 to 10/6        $0.13\n",
       "6898  151 Booster Bundle Display Case    10/7 to 10/9        $0.10\n",
       "6899  151 Booster Bundle Display Case  10/10 to 10/12        $0.10\n",
       "\n",
       "[6900 rows x 3 columns]"
      ]
     },
     "execution_count": 10,
     "metadata": {},
     "output_type": "execute_result"
    }
   ],
   "source": [
    "pokemon_151 = pd.read_csv('Pokemon_151.csv', index_col = 'Unnamed: 0')\n",
    "pokemon_151"
   ]
  },
  {
   "cell_type": "code",
   "execution_count": 12,
   "id": "20085857",
   "metadata": {},
   "outputs": [
    {
     "data": {
      "text/plain": [
       "229"
      ]
     },
     "execution_count": 12,
     "metadata": {},
     "output_type": "execute_result"
    }
   ],
   "source": [
    "len(pokemon_151['Product'].unique())"
   ]
  },
  {
   "cell_type": "code",
   "execution_count": null,
   "id": "74677599",
   "metadata": {},
   "outputs": [],
   "source": []
  }
 ],
 "metadata": {
  "kernelspec": {
   "display_name": "Python 3 (ipykernel)",
   "language": "python",
   "name": "python3"
  },
  "language_info": {
   "codemirror_mode": {
    "name": "ipython",
    "version": 3
   },
   "file_extension": ".py",
   "mimetype": "text/x-python",
   "name": "python",
   "nbconvert_exporter": "python",
   "pygments_lexer": "ipython3",
   "version": "3.8.16"
  }
 },
 "nbformat": 4,
 "nbformat_minor": 5
}
