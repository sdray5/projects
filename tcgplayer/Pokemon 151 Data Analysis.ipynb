{
 "cells": [
  {
   "cell_type": "code",
   "execution_count": 38,
   "id": "939b5a5b",
   "metadata": {},
   "outputs": [],
   "source": [
    "import pandas as pd"
   ]
  },
  {
   "cell_type": "code",
   "execution_count": 39,
   "id": "fa3bf81a",
   "metadata": {},
   "outputs": [
    {
     "data": {
      "text/html": [
       "<div>\n",
       "<style scoped>\n",
       "    .dataframe tbody tr th:only-of-type {\n",
       "        vertical-align: middle;\n",
       "    }\n",
       "\n",
       "    .dataframe tbody tr th {\n",
       "        vertical-align: top;\n",
       "    }\n",
       "\n",
       "    .dataframe thead th {\n",
       "        text-align: right;\n",
       "    }\n",
       "</style>\n",
       "<table border=\"1\" class=\"dataframe\">\n",
       "  <thead>\n",
       "    <tr style=\"text-align: right;\">\n",
       "      <th></th>\n",
       "      <th>Product</th>\n",
       "      <th>Foil</th>\n",
       "      <th>Date Range</th>\n",
       "      <th>Market Price</th>\n",
       "    </tr>\n",
       "  </thead>\n",
       "  <tbody>\n",
       "    <tr>\n",
       "      <th>0</th>\n",
       "      <td>151: Alakazam ex Collection</td>\n",
       "      <td>[' Market Price: ']</td>\n",
       "      <td>7/17 to 7/19</td>\n",
       "      <td>$31.98</td>\n",
       "    </tr>\n",
       "    <tr>\n",
       "      <th>1</th>\n",
       "      <td>151: Alakazam ex Collection</td>\n",
       "      <td>[' Market Price: ']</td>\n",
       "      <td>7/20 to 7/22</td>\n",
       "      <td>$31.77</td>\n",
       "    </tr>\n",
       "    <tr>\n",
       "      <th>2</th>\n",
       "      <td>151: Alakazam ex Collection</td>\n",
       "      <td>[' Market Price: ']</td>\n",
       "      <td>7/23 to 7/25</td>\n",
       "      <td>$31.21</td>\n",
       "    </tr>\n",
       "    <tr>\n",
       "      <th>3</th>\n",
       "      <td>151: Alakazam ex Collection</td>\n",
       "      <td>[' Market Price: ']</td>\n",
       "      <td>7/26 to 7/28</td>\n",
       "      <td>$31.12</td>\n",
       "    </tr>\n",
       "    <tr>\n",
       "      <th>4</th>\n",
       "      <td>151: Alakazam ex Collection</td>\n",
       "      <td>[' Market Price: ']</td>\n",
       "      <td>7/29 to 7/31</td>\n",
       "      <td>$29.44</td>\n",
       "    </tr>\n",
       "    <tr>\n",
       "      <th>...</th>\n",
       "      <td>...</td>\n",
       "      <td>...</td>\n",
       "      <td>...</td>\n",
       "      <td>...</td>\n",
       "    </tr>\n",
       "    <tr>\n",
       "      <th>11515</th>\n",
       "      <td>Zubat</td>\n",
       "      <td>['Reverse Holofoil Market Price: ']</td>\n",
       "      <td>10/6 to 10/8</td>\n",
       "      <td>$0.23</td>\n",
       "    </tr>\n",
       "    <tr>\n",
       "      <th>11516</th>\n",
       "      <td>Zubat</td>\n",
       "      <td>[' Market Price: ']</td>\n",
       "      <td>10/9 to 10/11</td>\n",
       "      <td>$0.06</td>\n",
       "    </tr>\n",
       "    <tr>\n",
       "      <th>11517</th>\n",
       "      <td>Zubat</td>\n",
       "      <td>['Reverse Holofoil Market Price: ']</td>\n",
       "      <td>10/9 to 10/11</td>\n",
       "      <td>$0.21</td>\n",
       "    </tr>\n",
       "    <tr>\n",
       "      <th>11518</th>\n",
       "      <td>Zubat</td>\n",
       "      <td>[' Market Price: ']</td>\n",
       "      <td>10/12 to 10/14</td>\n",
       "      <td>$0.04</td>\n",
       "    </tr>\n",
       "    <tr>\n",
       "      <th>11519</th>\n",
       "      <td>Zubat</td>\n",
       "      <td>['Reverse Holofoil Market Price: ']</td>\n",
       "      <td>10/12 to 10/14</td>\n",
       "      <td>$0.21</td>\n",
       "    </tr>\n",
       "  </tbody>\n",
       "</table>\n",
       "<p>11520 rows × 4 columns</p>\n",
       "</div>"
      ],
      "text/plain": [
       "                           Product                                 Foil  \\\n",
       "0      151: Alakazam ex Collection                  [' Market Price: ']   \n",
       "1      151: Alakazam ex Collection                  [' Market Price: ']   \n",
       "2      151: Alakazam ex Collection                  [' Market Price: ']   \n",
       "3      151: Alakazam ex Collection                  [' Market Price: ']   \n",
       "4      151: Alakazam ex Collection                  [' Market Price: ']   \n",
       "...                            ...                                  ...   \n",
       "11515                        Zubat  ['Reverse Holofoil Market Price: ']   \n",
       "11516                        Zubat                  [' Market Price: ']   \n",
       "11517                        Zubat  ['Reverse Holofoil Market Price: ']   \n",
       "11518                        Zubat                  [' Market Price: ']   \n",
       "11519                        Zubat  ['Reverse Holofoil Market Price: ']   \n",
       "\n",
       "           Date Range Market Price  \n",
       "0        7/17 to 7/19       $31.98  \n",
       "1        7/20 to 7/22       $31.77  \n",
       "2        7/23 to 7/25       $31.21  \n",
       "3        7/26 to 7/28       $31.12  \n",
       "4        7/29 to 7/31       $29.44  \n",
       "...               ...          ...  \n",
       "11515    10/6 to 10/8        $0.23  \n",
       "11516   10/9 to 10/11        $0.06  \n",
       "11517   10/9 to 10/11        $0.21  \n",
       "11518  10/12 to 10/14        $0.04  \n",
       "11519  10/12 to 10/14        $0.21  \n",
       "\n",
       "[11520 rows x 4 columns]"
      ]
     },
     "execution_count": 39,
     "metadata": {},
     "output_type": "execute_result"
    }
   ],
   "source": [
    "pokemon_151 = pd.read_csv('Pokemon_151.csv', index_col = 'Unnamed: 0')\n",
    "pokemon_151"
   ]
  },
  {
   "cell_type": "code",
   "execution_count": 40,
   "id": "d680aa34",
   "metadata": {},
   "outputs": [
    {
     "data": {
      "text/plain": [
       "230"
      ]
     },
     "execution_count": 40,
     "metadata": {},
     "output_type": "execute_result"
    }
   ],
   "source": [
    "len(pokemon_151['Product'].unique())"
   ]
  },
  {
   "cell_type": "code",
   "execution_count": 41,
   "id": "fe3f0a92",
   "metadata": {},
   "outputs": [
    {
     "data": {
      "text/plain": [
       "array([\"[' Market Price: ']\", \"[' Foil Market Price: ']\",\n",
       "       \"['Reverse Holofoil Market Price: ']\",\n",
       "       \"['Holofoil Market Price: ']\"], dtype=object)"
      ]
     },
     "execution_count": 41,
     "metadata": {},
     "output_type": "execute_result"
    }
   ],
   "source": [
    "pokemon_151['Foil'].unique()"
   ]
  },
  {
   "cell_type": "code",
   "execution_count": 44,
   "id": "c2e18e65",
   "metadata": {},
   "outputs": [],
   "source": [
    "pokemon_151.replace({'Foil' : { \"[' Market Price: ']\" : \"Normal\", \"[' Foil Market Price: ']\" : \"Foil\",\n",
    "                               \"['Reverse Holofoil Market Price: ']\" : \"Reverse Holofoil\", \n",
    "                               \"['Holofoil Market Price: ']\" : \"Holofoil\"}}, inplace=True)"
   ]
  },
  {
   "cell_type": "code",
   "execution_count": 45,
   "id": "1e4ff2b9",
   "metadata": {},
   "outputs": [
    {
     "data": {
      "text/html": [
       "<div>\n",
       "<style scoped>\n",
       "    .dataframe tbody tr th:only-of-type {\n",
       "        vertical-align: middle;\n",
       "    }\n",
       "\n",
       "    .dataframe tbody tr th {\n",
       "        vertical-align: top;\n",
       "    }\n",
       "\n",
       "    .dataframe thead th {\n",
       "        text-align: right;\n",
       "    }\n",
       "</style>\n",
       "<table border=\"1\" class=\"dataframe\">\n",
       "  <thead>\n",
       "    <tr style=\"text-align: right;\">\n",
       "      <th></th>\n",
       "      <th>Product</th>\n",
       "      <th>Foil</th>\n",
       "      <th>Date Range</th>\n",
       "      <th>Market Price</th>\n",
       "    </tr>\n",
       "  </thead>\n",
       "  <tbody>\n",
       "    <tr>\n",
       "      <th>0</th>\n",
       "      <td>151: Alakazam ex Collection</td>\n",
       "      <td>Normal</td>\n",
       "      <td>7/17 to 7/19</td>\n",
       "      <td>$31.98</td>\n",
       "    </tr>\n",
       "    <tr>\n",
       "      <th>1</th>\n",
       "      <td>151: Alakazam ex Collection</td>\n",
       "      <td>Normal</td>\n",
       "      <td>7/20 to 7/22</td>\n",
       "      <td>$31.77</td>\n",
       "    </tr>\n",
       "    <tr>\n",
       "      <th>2</th>\n",
       "      <td>151: Alakazam ex Collection</td>\n",
       "      <td>Normal</td>\n",
       "      <td>7/23 to 7/25</td>\n",
       "      <td>$31.21</td>\n",
       "    </tr>\n",
       "    <tr>\n",
       "      <th>3</th>\n",
       "      <td>151: Alakazam ex Collection</td>\n",
       "      <td>Normal</td>\n",
       "      <td>7/26 to 7/28</td>\n",
       "      <td>$31.12</td>\n",
       "    </tr>\n",
       "    <tr>\n",
       "      <th>4</th>\n",
       "      <td>151: Alakazam ex Collection</td>\n",
       "      <td>Normal</td>\n",
       "      <td>7/29 to 7/31</td>\n",
       "      <td>$29.44</td>\n",
       "    </tr>\n",
       "    <tr>\n",
       "      <th>...</th>\n",
       "      <td>...</td>\n",
       "      <td>...</td>\n",
       "      <td>...</td>\n",
       "      <td>...</td>\n",
       "    </tr>\n",
       "    <tr>\n",
       "      <th>11515</th>\n",
       "      <td>Zubat</td>\n",
       "      <td>Reverse Holofoil</td>\n",
       "      <td>10/6 to 10/8</td>\n",
       "      <td>$0.23</td>\n",
       "    </tr>\n",
       "    <tr>\n",
       "      <th>11516</th>\n",
       "      <td>Zubat</td>\n",
       "      <td>Normal</td>\n",
       "      <td>10/9 to 10/11</td>\n",
       "      <td>$0.06</td>\n",
       "    </tr>\n",
       "    <tr>\n",
       "      <th>11517</th>\n",
       "      <td>Zubat</td>\n",
       "      <td>Reverse Holofoil</td>\n",
       "      <td>10/9 to 10/11</td>\n",
       "      <td>$0.21</td>\n",
       "    </tr>\n",
       "    <tr>\n",
       "      <th>11518</th>\n",
       "      <td>Zubat</td>\n",
       "      <td>Normal</td>\n",
       "      <td>10/12 to 10/14</td>\n",
       "      <td>$0.04</td>\n",
       "    </tr>\n",
       "    <tr>\n",
       "      <th>11519</th>\n",
       "      <td>Zubat</td>\n",
       "      <td>Reverse Holofoil</td>\n",
       "      <td>10/12 to 10/14</td>\n",
       "      <td>$0.21</td>\n",
       "    </tr>\n",
       "  </tbody>\n",
       "</table>\n",
       "<p>11520 rows × 4 columns</p>\n",
       "</div>"
      ],
      "text/plain": [
       "                           Product              Foil      Date Range  \\\n",
       "0      151: Alakazam ex Collection            Normal    7/17 to 7/19   \n",
       "1      151: Alakazam ex Collection            Normal    7/20 to 7/22   \n",
       "2      151: Alakazam ex Collection            Normal    7/23 to 7/25   \n",
       "3      151: Alakazam ex Collection            Normal    7/26 to 7/28   \n",
       "4      151: Alakazam ex Collection            Normal    7/29 to 7/31   \n",
       "...                            ...               ...             ...   \n",
       "11515                        Zubat  Reverse Holofoil    10/6 to 10/8   \n",
       "11516                        Zubat            Normal   10/9 to 10/11   \n",
       "11517                        Zubat  Reverse Holofoil   10/9 to 10/11   \n",
       "11518                        Zubat            Normal  10/12 to 10/14   \n",
       "11519                        Zubat  Reverse Holofoil  10/12 to 10/14   \n",
       "\n",
       "      Market Price  \n",
       "0           $31.98  \n",
       "1           $31.77  \n",
       "2           $31.21  \n",
       "3           $31.12  \n",
       "4           $29.44  \n",
       "...            ...  \n",
       "11515        $0.23  \n",
       "11516        $0.06  \n",
       "11517        $0.21  \n",
       "11518        $0.04  \n",
       "11519        $0.21  \n",
       "\n",
       "[11520 rows x 4 columns]"
      ]
     },
     "execution_count": 45,
     "metadata": {},
     "output_type": "execute_result"
    }
   ],
   "source": [
    "pokemon_151"
   ]
  },
  {
   "cell_type": "code",
   "execution_count": 49,
   "id": "7b5cf704",
   "metadata": {},
   "outputs": [
    {
     "data": {
      "text/plain": [
       "0.6932291666666667"
      ]
     },
     "execution_count": 49,
     "metadata": {},
     "output_type": "execute_result"
    }
   ],
   "source": [
    "sum(pokemon_151['Market Price'] == \"$0.00\") / len(pokemon_151['Market Price'] == \"$0.00\")\n",
    "# 69% of dataset is $0.00"
   ]
  },
  {
   "cell_type": "code",
   "execution_count": null,
   "id": "fd2420c7",
   "metadata": {},
   "outputs": [],
   "source": []
  }
 ],
 "metadata": {
  "kernelspec": {
   "display_name": "Python 3 (ipykernel)",
   "language": "python",
   "name": "python3"
  },
  "language_info": {
   "codemirror_mode": {
    "name": "ipython",
    "version": 3
   },
   "file_extension": ".py",
   "mimetype": "text/x-python",
   "name": "python",
   "nbconvert_exporter": "python",
   "pygments_lexer": "ipython3",
   "version": "3.8.16"
  }
 },
 "nbformat": 4,
 "nbformat_minor": 5
}
