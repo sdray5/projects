{
 "cells": [
  {
   "cell_type": "code",
   "execution_count": 1,
   "metadata": {
    "scrolled": true
   },
   "outputs": [],
   "source": [
    "import pandas as pd\n",
    "\n",
    "from keras.preprocessing.image import ImageDataGenerator\n",
    "from PIL import Image\n",
    "import glob\n",
    "from keras.preprocessing.image import img_to_array, array_to_img\n",
    "import numpy as np\n",
    "from keras.layers import Flatten, LSTM, Dropout, Bidirectional, Dense, Input, Conv2D, MaxPooling2D, UpSampling2D, Reshape, concatenate, Conv2DTranspose, BatchNormalization, Activation, ConvLSTM2D\n",
    "from tensorflow.keras.utils import plot_model\n",
    "from keras.models import Sequential, Model\n",
    "from tensorflow.keras.optimizers import Adam\n",
    "import tensorflow as tf\n",
    "import pickle\n",
    "\n",
    "import matplotlib.pyplot as plt\n",
    "from matplotlib.path import Path\n",
    "import cv2\n",
    "\n",
    "from keras.preprocessing.image import img_to_array, array_to_img\n"
   ]
  },
  {
   "cell_type": "code",
   "execution_count": 2,
   "metadata": {},
   "outputs": [],
   "source": [
    "from sklearn.metrics import jaccard_score\n",
    "from sklearn.metrics import confusion_matrix"
   ]
  },
  {
   "cell_type": "code",
   "execution_count": 3,
   "metadata": {},
   "outputs": [
    {
     "data": {
      "text/plain": [
       "['/device:GPU:0']"
      ]
     },
     "execution_count": 3,
     "metadata": {},
     "output_type": "execute_result"
    }
   ],
   "source": [
    "from tensorflow.python.keras import backend as K\n",
    "K._get_available_gpus()"
   ]
  },
  {
   "cell_type": "code",
   "execution_count": 4,
   "metadata": {},
   "outputs": [],
   "source": [
    "with open('train.npy', 'rb') as f:\n",
    "    train_frames = np.load(f)\n",
    "    train_masks = np.load(f)\n",
    "with open('val.npy', 'rb') as f:\n",
    "    val_frames = np.load(f)\n",
    "    val_masks = np.load(f) \n",
    "with open('test.npy', 'rb') as f:\n",
    "    test_frames = np.load(f)\n",
    "    test_masks = np.load(f)"
   ]
  },
  {
   "cell_type": "code",
   "execution_count": 24,
   "metadata": {},
   "outputs": [],
   "source": [
    "def my_weighted_loss(labels, logits):\n",
    "    \"\"\"scale loss based on class weights\n",
    "    \"\"\"\n",
    "    # reshape \n",
    "    labels = tf.reshape(labels, [-1,1])\n",
    "    logits = tf.reshape(logits, [-1,1])\n",
    "    # compute weights based on their frequencies (higher weight to class 1 since it's less common)\n",
    "    class_weights = [1., 3.]\n",
    "    # compute weights based on labels\n",
    "    labels = tf.cast(labels, tf.float32)\n",
    "    weights = labels*(class_weights[1]-class_weights[0]) + class_weights[0]\n",
    "    \n",
    "    weights = tf.reshape(weights, [-1])\n",
    "    \n",
    "    \n",
    "    # compute (unweighted) softmax cross entropy loss\n",
    "    unweighted_losses = tf.keras.losses.binary_crossentropy(labels, logits)\n",
    "    # apply the weights, relying on broadcasting of the multiplication\n",
    "    weighted_losses = unweighted_losses * weights\n",
    "    # reduce the result to get your final loss\n",
    "    loss = tf.reduce_mean(weighted_losses)\n",
    "    return loss"
   ]
  },
  {
   "cell_type": "code",
   "execution_count": 25,
   "metadata": {},
   "outputs": [
    {
     "name": "stdout",
     "output_type": "stream",
     "text": [
      "Model: \"model_1\"\n",
      "__________________________________________________________________________________________________\n",
      " Layer (type)                   Output Shape         Param #     Connected to                     \n",
      "==================================================================================================\n",
      " input_2 (InputLayer)           [(None, 112, 112, 1  0           []                               \n",
      "                                )]                                                                \n",
      "                                                                                                  \n",
      " conv2d_20 (Conv2D)             (None, 112, 112, 32  320         ['input_2[0][0]']                \n",
      "                                )                                                                 \n",
      "                                                                                                  \n",
      " conv2d_21 (Conv2D)             (None, 112, 112, 32  9248        ['conv2d_20[0][0]']              \n",
      "                                )                                                                 \n",
      "                                                                                                  \n",
      " max_pooling2d_3 (MaxPooling2D)  (None, 56, 56, 32)  0           ['conv2d_21[0][0]']              \n",
      "                                                                                                  \n",
      " conv2d_22 (Conv2D)             (None, 56, 56, 64)   18496       ['max_pooling2d_3[0][0]']        \n",
      "                                                                                                  \n",
      " conv2d_23 (Conv2D)             (None, 56, 56, 64)   36928       ['conv2d_22[0][0]']              \n",
      "                                                                                                  \n",
      " max_pooling2d_4 (MaxPooling2D)  (None, 28, 28, 64)  0           ['conv2d_23[0][0]']              \n",
      "                                                                                                  \n",
      " conv2d_24 (Conv2D)             (None, 28, 28, 128)  73856       ['max_pooling2d_4[0][0]']        \n",
      "                                                                                                  \n",
      " conv2d_25 (Conv2D)             (None, 28, 28, 128)  147584      ['conv2d_24[0][0]']              \n",
      "                                                                                                  \n",
      " max_pooling2d_5 (MaxPooling2D)  (None, 14, 14, 128)  0          ['conv2d_25[0][0]']              \n",
      "                                                                                                  \n",
      " conv2d_26 (Conv2D)             (None, 14, 14, 256)  295168      ['max_pooling2d_5[0][0]']        \n",
      "                                                                                                  \n",
      " conv2d_27 (Conv2D)             (None, 14, 14, 256)  590080      ['conv2d_26[0][0]']              \n",
      "                                                                                                  \n",
      " dropout_5 (Dropout)            (None, 14, 14, 256)  0           ['conv2d_27[0][0]']              \n",
      "                                                                                                  \n",
      " conv2d_28 (Conv2D)             (None, 14, 14, 256)  590080      ['dropout_5[0][0]']              \n",
      "                                                                                                  \n",
      " conv2d_29 (Conv2D)             (None, 14, 14, 256)  590080      ['conv2d_28[0][0]']              \n",
      "                                                                                                  \n",
      " dropout_6 (Dropout)            (None, 14, 14, 256)  0           ['conv2d_29[0][0]']              \n",
      "                                                                                                  \n",
      " concatenate_4 (Concatenate)    (None, 14, 14, 512)  0           ['dropout_6[0][0]',              \n",
      "                                                                  'dropout_5[0][0]']              \n",
      "                                                                                                  \n",
      " conv2d_30 (Conv2D)             (None, 14, 14, 256)  1179904     ['concatenate_4[0][0]']          \n",
      "                                                                                                  \n",
      " conv2d_31 (Conv2D)             (None, 14, 14, 256)  590080      ['conv2d_30[0][0]']              \n",
      "                                                                                                  \n",
      " dropout_7 (Dropout)            (None, 14, 14, 256)  0           ['conv2d_31[0][0]']              \n",
      "                                                                                                  \n",
      " conv2d_transpose_3 (Conv2DTran  (None, 28, 28, 128)  131200     ['dropout_7[0][0]']              \n",
      " spose)                                                                                           \n",
      "                                                                                                  \n",
      " batch_normalization_3 (BatchNo  (None, 28, 28, 128)  512        ['conv2d_transpose_3[0][0]']     \n",
      " rmalization)                                                                                     \n",
      "                                                                                                  \n",
      " dropout_4 (Dropout)            (None, 28, 28, 128)  0           ['conv2d_25[0][0]']              \n",
      "                                                                                                  \n",
      " activation_3 (Activation)      (None, 28, 28, 128)  0           ['batch_normalization_3[0][0]']  \n",
      "                                                                                                  \n",
      " reshape_6 (Reshape)            (None, 1, 28, 28, 1  0           ['dropout_4[0][0]']              \n",
      "                                28)                                                               \n",
      "                                                                                                  \n",
      " reshape_7 (Reshape)            (None, 1, 28, 28, 1  0           ['activation_3[0][0]']           \n",
      "                                28)                                                               \n",
      "                                                                                                  \n",
      " concatenate_5 (Concatenate)    (None, 2, 28, 28, 1  0           ['reshape_6[0][0]',              \n",
      "                                28)                               'reshape_7[0][0]']              \n",
      "                                                                                                  \n",
      " conv_lstm2d_3 (ConvLSTM2D)     (None, 28, 28, 64)   442624      ['concatenate_5[0][0]']          \n",
      "                                                                                                  \n",
      " conv2d_32 (Conv2D)             (None, 28, 28, 128)  73856       ['conv_lstm2d_3[0][0]']          \n",
      "                                                                                                  \n",
      " conv2d_33 (Conv2D)             (None, 28, 28, 128)  147584      ['conv2d_32[0][0]']              \n",
      "                                                                                                  \n",
      " conv2d_transpose_4 (Conv2DTran  (None, 56, 56, 64)  32832       ['conv2d_33[0][0]']              \n",
      " spose)                                                                                           \n",
      "                                                                                                  \n",
      " batch_normalization_4 (BatchNo  (None, 56, 56, 64)  256         ['conv2d_transpose_4[0][0]']     \n",
      " rmalization)                                                                                     \n",
      "                                                                                                  \n",
      " activation_4 (Activation)      (None, 56, 56, 64)   0           ['batch_normalization_4[0][0]']  \n",
      "                                                                                                  \n",
      " reshape_8 (Reshape)            (None, 1, 56, 56, 6  0           ['conv2d_23[0][0]']              \n",
      "                                4)                                                                \n",
      "                                                                                                  \n",
      " reshape_9 (Reshape)            (None, 1, 56, 56, 6  0           ['activation_4[0][0]']           \n",
      "                                4)                                                                \n",
      "                                                                                                  \n",
      " concatenate_6 (Concatenate)    (None, 2, 56, 56, 6  0           ['reshape_8[0][0]',              \n",
      "                                4)                                'reshape_9[0][0]']              \n",
      "                                                                                                  \n",
      " conv_lstm2d_4 (ConvLSTM2D)     (None, 56, 56, 32)   110720      ['concatenate_6[0][0]']          \n",
      "                                                                                                  \n",
      " conv2d_34 (Conv2D)             (None, 56, 56, 64)   18496       ['conv_lstm2d_4[0][0]']          \n",
      "                                                                                                  \n",
      " conv2d_35 (Conv2D)             (None, 56, 56, 64)   36928       ['conv2d_34[0][0]']              \n",
      "                                                                                                  \n",
      " conv2d_transpose_5 (Conv2DTran  (None, 112, 112, 32  8224       ['conv2d_35[0][0]']              \n",
      " spose)                         )                                                                 \n",
      "                                                                                                  \n",
      " batch_normalization_5 (BatchNo  (None, 112, 112, 32  128        ['conv2d_transpose_5[0][0]']     \n",
      " rmalization)                   )                                                                 \n",
      "                                                                                                  \n",
      " activation_5 (Activation)      (None, 112, 112, 32  0           ['batch_normalization_5[0][0]']  \n",
      "                                )                                                                 \n",
      "                                                                                                  \n",
      " reshape_10 (Reshape)           (None, 1, 112, 112,  0           ['conv2d_21[0][0]']              \n",
      "                                 32)                                                              \n",
      "                                                                                                  \n",
      " reshape_11 (Reshape)           (None, 1, 112, 112,  0           ['activation_5[0][0]']           \n",
      "                                 32)                                                              \n",
      "                                                                                                  \n",
      " concatenate_7 (Concatenate)    (None, 2, 112, 112,  0           ['reshape_10[0][0]',             \n",
      "                                 32)                              'reshape_11[0][0]']             \n",
      "                                                                                                  \n",
      " conv_lstm2d_5 (ConvLSTM2D)     (None, 112, 112, 16  27712       ['concatenate_7[0][0]']          \n",
      "                                )                                                                 \n",
      "                                                                                                  \n",
      " conv2d_36 (Conv2D)             (None, 112, 112, 32  4640        ['conv_lstm2d_5[0][0]']          \n",
      "                                )                                                                 \n",
      "                                                                                                  \n",
      " conv2d_37 (Conv2D)             (None, 112, 112, 32  9248        ['conv2d_36[0][0]']              \n",
      "                                )                                                                 \n",
      "                                                                                                  \n",
      " conv2d_38 (Conv2D)             (None, 112, 112, 2)  578         ['conv2d_37[0][0]']              \n",
      "                                                                                                  \n",
      " conv2d_39 (Conv2D)             (None, 112, 112, 1)  3           ['conv2d_38[0][0]']              \n",
      "                                                                                                  \n",
      "==================================================================================================\n",
      "Total params: 5,167,365\n",
      "Trainable params: 5,166,917\n",
      "Non-trainable params: 448\n",
      "__________________________________________________________________________________________________\n"
     ]
    },
    {
     "name": "stderr",
     "output_type": "stream",
     "text": [
      "C:\\Users\\Owner\\anaconda3\\envs\\tf2.7\\lib\\site-packages\\keras\\optimizer_v2\\adam.py:105: UserWarning: The `lr` argument is deprecated, use `learning_rate` instead.\n",
      "  super(Adam, self).__init__(name, **kwargs)\n"
     ]
    }
   ],
   "source": [
    "# Create BCDU net model for object detection\n",
    "\n",
    "# scale decrease to downsize the model (for ram and/or training time)\n",
    "sd = 2\n",
    "input_size = (112,112,1)\n",
    "N_1 = input_size[0]\n",
    "N_2 = input_size[1]\n",
    "inputs = Input(input_size) \n",
    "conv1 = Conv2D(int(64/sd), 3, activation = 'relu', padding = 'same', kernel_initializer = 'he_normal')(inputs)\n",
    "conv1 = Conv2D(int(64/sd), 3, activation = 'relu', padding = 'same', kernel_initializer = 'he_normal')(conv1)\n",
    "  \n",
    "pool1 = MaxPooling2D(pool_size=(2, 2))(conv1)\n",
    "conv2 = Conv2D(int(128/sd), 3, activation = 'relu', padding = 'same', kernel_initializer = 'he_normal')(pool1)\n",
    "conv2 = Conv2D(int(128/sd), 3, activation = 'relu', padding = 'same', kernel_initializer = 'he_normal')(conv2)\n",
    "pool2 = MaxPooling2D(pool_size=(2, 2))(conv2)\n",
    "conv3 = Conv2D(int(256/sd), 3, activation = 'relu', padding = 'same', kernel_initializer = 'he_normal')(pool2)\n",
    "conv3 = Conv2D(int(256/sd), 3, activation = 'relu', padding = 'same', kernel_initializer = 'he_normal')(conv3)\n",
    "drop3 = Dropout(0.5)(conv3)\n",
    "pool3 = MaxPooling2D(pool_size=(2, 2))(conv3)\n",
    "# D1\n",
    "conv4 = Conv2D(int(512/sd), 3, activation = 'relu', padding = 'same', kernel_initializer = 'he_normal')(pool3)     \n",
    "conv4_1 = Conv2D(int(512/sd), 3, activation = 'relu', padding = 'same', kernel_initializer = 'he_normal')(conv4)\n",
    "drop4_1 = Dropout(0.5)(conv4_1)\n",
    "# D2\n",
    "conv4_2 = Conv2D(int(512/sd), 3, activation = 'relu', padding = 'same', kernel_initializer = 'he_normal')(drop4_1)     \n",
    "conv4_2 = Conv2D(int(512/sd), 3, activation = 'relu', padding = 'same', kernel_initializer = 'he_normal')(conv4_2)\n",
    "conv4_2 = Dropout(0.5)(conv4_2)\n",
    "# D3\n",
    "merge_dense = concatenate([conv4_2,drop4_1], axis = 3)\n",
    "conv4_3 = Conv2D(int(512/sd), 3, activation = 'relu', padding = 'same', kernel_initializer = 'he_normal')(merge_dense)     \n",
    "conv4_3 = Conv2D(int(512/sd), 3, activation = 'relu', padding = 'same', kernel_initializer = 'he_normal')(conv4_3)\n",
    "drop4_3 = Dropout(0.5)(conv4_3)\n",
    "\n",
    "up6 = Conv2DTranspose(int(256/sd), kernel_size=2, strides=2, padding='same',kernel_initializer = 'he_normal')(drop4_3)\n",
    "up6 = BatchNormalization(axis=3)(up6)\n",
    "up6 = Activation('relu')(up6)\n",
    "\n",
    "x1 = Reshape(target_shape=(1, np.int32(N_1/4), np.int32(N_2/4), int(256/sd)))(drop3)\n",
    "x2 = Reshape(target_shape=(1, np.int32(N_1/4), np.int32(N_2/4), int(256/sd)))(up6)\n",
    "merge6  = concatenate([x1,x2], axis = 1) \n",
    "merge6 = ConvLSTM2D(filters = int(128/sd), kernel_size=(3, 3), padding='same', return_sequences = False, go_backwards = True,kernel_initializer = 'he_normal' )(merge6)\n",
    "            \n",
    "conv6 = Conv2D(int(256/sd), 3, activation = 'relu', padding = 'same', kernel_initializer = 'he_normal')(merge6)\n",
    "conv6 = Conv2D(int(256/sd), 3, activation = 'relu', padding = 'same', kernel_initializer = 'he_normal')(conv6)\n",
    "\n",
    "up7 = Conv2DTranspose(int(128/sd), kernel_size=2, strides=2, padding='same',kernel_initializer = 'he_normal')(conv6)\n",
    "up7 = BatchNormalization(axis=3)(up7)\n",
    "up7 = Activation('relu')(up7)\n",
    "\n",
    "x1 = Reshape(target_shape=(1, np.int32(N_1/2), np.int32(N_2/2), int(128/sd)))(conv2)\n",
    "x2 = Reshape(target_shape=(1, np.int32(N_1/2), np.int32(N_2/2), int(128/sd)))(up7)\n",
    "merge7  = concatenate([x1,x2], axis = 1) \n",
    "merge7 = ConvLSTM2D(filters = int(64/sd), kernel_size=(3, 3), padding='same', return_sequences = False, go_backwards = True,kernel_initializer = 'he_normal' )(merge7)\n",
    "        \n",
    "conv7 = Conv2D(int(128/sd), 3, activation = 'relu', padding = 'same', kernel_initializer = 'he_normal')(merge7)\n",
    "conv7 = Conv2D(int(128/sd), 3, activation = 'relu', padding = 'same', kernel_initializer = 'he_normal')(conv7)\n",
    "\n",
    "up8 = Conv2DTranspose(int(64/sd), kernel_size=2, strides=2, padding='same',kernel_initializer = 'he_normal')(conv7)\n",
    "up8 = BatchNormalization(axis=3)(up8)\n",
    "up8 = Activation('relu')(up8)    \n",
    "\n",
    "x1 = Reshape(target_shape=(1, N_1, N_2, int(64/sd)))(conv1)\n",
    "x2 = Reshape(target_shape=(1, N_1, N_2, int(64/sd)))(up8)\n",
    "merge8  = concatenate([x1,x2], axis = 1) \n",
    "merge8 = ConvLSTM2D(filters = int(32/sd), kernel_size=(3, 3), padding='same', return_sequences = False, go_backwards = True,kernel_initializer = 'he_normal' )(merge8)    \n",
    "    \n",
    "conv8 = Conv2D(int(64/sd), 3, activation = 'relu', padding = 'same', kernel_initializer = 'he_normal')(merge8)\n",
    "conv8 = Conv2D(int(64/sd), 3, activation = 'relu', padding = 'same', kernel_initializer = 'he_normal')(conv8)\n",
    "conv8 = Conv2D(2, 3, activation = 'relu', padding = 'same', kernel_initializer = 'he_normal')(conv8)\n",
    "conv9 = Conv2D(1, 1, activation = 'sigmoid')(conv8)\n",
    "# trying this out in order to weight the samples...\n",
    "# outputs = Reshape((N_1*N_2, 1))(conv9)\n",
    "\n",
    "model = Model(inputs = inputs, outputs = conv9)\n",
    "model.compile(optimizer = Adam(lr = 1e-3), loss = my_weighted_loss, metrics = ['accuracy'])\n",
    "# model.compile(optimizer = Adam(lr = 1e-3), loss = 'binary_crossentropy', metrics = ['accuracy'])\n",
    "model.summary()\n",
    "# plot_model(model)"
   ]
  },
  {
   "cell_type": "code",
   "execution_count": 26,
   "metadata": {},
   "outputs": [
    {
     "data": {
      "text/plain": [
       "(TensorShape([14920, 112, 112, 3]), TensorShape([14920, 112, 112]))"
      ]
     },
     "execution_count": 26,
     "metadata": {},
     "output_type": "execute_result"
    }
   ],
   "source": [
    "train_X = tf.constant(train_frames)\n",
    "train_y = tf.constant(train_masks)\n",
    "train_X.shape, train_y.shape"
   ]
  },
  {
   "cell_type": "code",
   "execution_count": 27,
   "metadata": {},
   "outputs": [],
   "source": [
    "train_X = tf.expand_dims(tf.reduce_mean(train_X, axis=3), axis=-1)\n",
    "train_y = tf.expand_dims(train_y, axis=-1)"
   ]
  },
  {
   "cell_type": "code",
   "execution_count": 28,
   "metadata": {},
   "outputs": [],
   "source": [
    "val_X = tf.constant(val_frames)\n",
    "val_y = tf.constant(val_masks)\n",
    "val_X = tf.expand_dims(tf.reduce_mean(val_X, axis=3), axis=-1)\n",
    "val_y = tf.expand_dims(val_y, axis=-1)"
   ]
  },
  {
   "cell_type": "code",
   "execution_count": 29,
   "metadata": {},
   "outputs": [],
   "source": [
    "# only run this line after you've run this file at least once\n",
    "model.load_weights('segmentation_model.h5')"
   ]
  },
  {
   "cell_type": "code",
   "execution_count": 30,
   "metadata": {},
   "outputs": [
    {
     "name": "stderr",
     "output_type": "stream",
     "text": [
      "C:\\Users\\Owner\\AppData\\Local\\Temp/ipykernel_5032/247338061.py:10: UserWarning: `Model.fit_generator` is deprecated and will be removed in a future version. Please use `Model.fit`, which supports generators.\n",
      "  model.fit_generator(train_data, epochs = 5, steps_per_epoch = len(train_data),  validation_data = val_data, validation_steps=len(val_data))\n"
     ]
    },
    {
     "name": "stdout",
     "output_type": "stream",
     "text": [
      "Epoch 1/5\n",
      "933/933 [==============================] - 457s 479ms/step - loss: 0.0475 - accuracy: 0.9849 - val_loss: 0.0607 - val_accuracy: 0.9813\n",
      "Epoch 2/5\n",
      "933/933 [==============================] - 448s 480ms/step - loss: 0.0471 - accuracy: 0.9851 - val_loss: 0.0593 - val_accuracy: 0.9837\n",
      "Epoch 3/5\n",
      "933/933 [==============================] - 448s 480ms/step - loss: 0.0459 - accuracy: 0.9854 - val_loss: 0.0587 - val_accuracy: 0.9823\n",
      "Epoch 4/5\n",
      "933/933 [==============================] - 448s 480ms/step - loss: 0.0451 - accuracy: 0.9856 - val_loss: 0.0585 - val_accuracy: 0.9837\n",
      "Epoch 5/5\n",
      "933/933 [==============================] - 448s 480ms/step - loss: 0.0450 - accuracy: 0.9857 - val_loss: 0.0606 - val_accuracy: 0.9838\n"
     ]
    },
    {
     "data": {
      "text/plain": [
       "<keras.callbacks.History at 0x26fda5a6c40>"
      ]
     },
     "execution_count": 30,
     "metadata": {},
     "output_type": "execute_result"
    }
   ],
   "source": [
    "# parameters makes the mean equal 0, and divides by standard deviation (basically get z-score as output)\n",
    "# https://machinelearningmastery.com/how-to-normalize-center-and-standardize-images-with-the-imagedatagenerator-in-keras/\n",
    "# my_generator = ImageDataGenerator(featurewise_center=True, featurewise_std_normalization=True)\n",
    "my_generator = ImageDataGenerator(rescale=1./255)\n",
    "# my_generator.fit(train_X)\n",
    "batch_size = 16\n",
    "\n",
    "train_data = my_generator.flow(train_X, train_y, batch_size = batch_size)\n",
    "val_data = my_generator.flow(val_X, val_y, batch_size = batch_size)\n",
    "model.fit_generator(train_data, epochs = 5, steps_per_epoch = len(train_data),  validation_data = val_data, validation_steps=len(val_data))"
   ]
  },
  {
   "cell_type": "code",
   "execution_count": 31,
   "metadata": {},
   "outputs": [],
   "source": [
    "test_X = tf.constant(test_frames)\n",
    "test_y = tf.constant(test_masks)\n",
    "test_X = tf.expand_dims(tf.reduce_mean(test_X, axis=3), axis=-1)\n",
    "test_y = tf.expand_dims(test_y, axis=-1)"
   ]
  },
  {
   "cell_type": "code",
   "execution_count": 32,
   "metadata": {},
   "outputs": [],
   "source": [
    "predictions = model.predict(test_X)"
   ]
  },
  {
   "cell_type": "code",
   "execution_count": 33,
   "metadata": {},
   "outputs": [
    {
     "data": {
      "text/plain": [
       "(2552, 112, 112, 1)"
      ]
     },
     "execution_count": 33,
     "metadata": {},
     "output_type": "execute_result"
    }
   ],
   "source": [
    "predictions.shape"
   ]
  },
  {
   "cell_type": "code",
   "execution_count": 34,
   "metadata": {},
   "outputs": [
    {
     "data": {
      "text/plain": [
       "(2552, 112, 112, 1)"
      ]
     },
     "execution_count": 34,
     "metadata": {},
     "output_type": "execute_result"
    }
   ],
   "source": [
    "predicted_label = np.where(predictions > 0.5, 1, 0)\n",
    "predicted_label.shape"
   ]
  },
  {
   "cell_type": "code",
   "execution_count": 35,
   "metadata": {},
   "outputs": [],
   "source": [
    "p_l = tf.constant(predicted_label)\n",
    "t_l = tf.cast(tf.constant(test_y), dtype='int32')"
   ]
  },
  {
   "cell_type": "code",
   "execution_count": 36,
   "metadata": {},
   "outputs": [
    {
     "data": {
      "text/plain": [
       "0.642940103815908"
      ]
     },
     "execution_count": 36,
     "metadata": {},
     "output_type": "execute_result"
    }
   ],
   "source": [
    "# jaccard_score(v_l, p_l, pos_label=1, average=\"binary\")\n",
    "jaccard_score(tf.reshape(t_l, [-1]), tf.reshape(p_l, [-1]), pos_label=1, average=\"binary\")"
   ]
  },
  {
   "cell_type": "code",
   "execution_count": 37,
   "metadata": {},
   "outputs": [
    {
     "data": {
      "text/plain": [
       "<AxesSubplot:>"
      ]
     },
     "execution_count": 37,
     "metadata": {},
     "output_type": "execute_result"
    },
    {
     "data": {
      "image/png": "[encoded data removed]",
      "text/plain": [
       "<Figure size 432x288 with 2 Axes>"
      ]
     },
     "metadata": {
      "needs_background": "light"
     },
     "output_type": "display_data"
    }
   ],
   "source": [
    "import seaborn as sns\n",
    "cf_matrix = confusion_matrix(tf.reshape(t_l, [-1]), tf.reshape(p_l, [-1]))\n",
    "sns.heatmap(cf_matrix, annot=True, cmap='Blues', fmt='g')\n",
    "# too many false negatives, let's run again with more weight on the \"positive\" pixels"
   ]
  },
  {
   "cell_type": "code",
   "execution_count": 38,
   "metadata": {},
   "outputs": [
    {
     "data": {
      "image/png": "[encoded data removed]",
      "text/plain": [
       "<PIL.Image.Image image mode=L size=112x112 at 0x26F801DEC40>"
      ]
     },
     "execution_count": 38,
     "metadata": {},
     "output_type": "execute_result"
    }
   ],
   "source": [
    "predicted_image_labels = []\n",
    "for i in predicted_label:\n",
    "    image = array_to_img(i)\n",
    "    predicted_image_labels.append(image)\n",
    "predicted_image_labels[0]"
   ]
  },
  {
   "cell_type": "code",
   "execution_count": 39,
   "metadata": {},
   "outputs": [
    {
     "data": {
      "image/png": "[encoded data removed]",
      "text/plain": [
       "<PIL.Image.Image image mode=L size=112x112 at 0x26FDA826E50>"
      ]
     },
     "execution_count": 39,
     "metadata": {},
     "output_type": "execute_result"
    }
   ],
   "source": [
    "test_image_labels = []\n",
    "for i in test_y:\n",
    "    image = array_to_img(i)\n",
    "    test_image_labels.append(image)\n",
    "test_image_labels[0]"
   ]
  },
  {
   "cell_type": "code",
   "execution_count": 40,
   "metadata": {},
   "outputs": [
    {
     "data": {
      "image/png": "[encoded data removed]",
      "text/plain": [
       "<Figure size 720x720 with 40 Axes>"
      ]
     },
     "metadata": {
      "needs_background": "light"
     },
     "output_type": "display_data"
    }
   ],
   "source": [
    "num_rows = 10\n",
    "f, axarr = plt.subplots(num_rows,4,figsize=(10,10))\n",
    "for i in range(num_rows):\n",
    "    axarr[i,0].imshow(test_image_labels[i*2])\n",
    "    axarr[i,1].imshow(predicted_image_labels[i*2])\n",
    "    axarr[i,2].imshow(test_image_labels[i*2+1])\n",
    "    axarr[i,3].imshow(predicted_image_labels[i*2+1])"
   ]
  },
  {
   "cell_type": "code",
   "execution_count": 41,
   "metadata": {},
   "outputs": [],
   "source": [
    "# model.save('segmentation_model.h5')"
   ]
  },
  {
   "cell_type": "code",
   "execution_count": null,
   "metadata": {},
   "outputs": [],
   "source": []
  }
 ],
 "metadata": {
  "kernelspec": {
   "display_name": "Python 3 (ipykernel)",
   "language": "python",
   "name": "python3"
  },
  "language_info": {
   "codemirror_mode": {
    "name": "ipython",
    "version": 3
   },
   "file_extension": ".py",
   "mimetype": "text/x-python",
   "name": "python",
   "nbconvert_exporter": "python",
   "pygments_lexer": "ipython3",
   "version": "3.8.12"
  }
 },
 "nbformat": 4,
 "nbformat_minor": 4
}
