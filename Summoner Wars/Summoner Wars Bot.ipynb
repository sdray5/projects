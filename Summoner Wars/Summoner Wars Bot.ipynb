{
 "cells": [
  {
   "cell_type": "code",
   "execution_count": 1,
   "id": "fe811326",
   "metadata": {},
   "outputs": [],
   "source": [
    "# the cards that are highlighted have the following class (in hand)\n",
    "# class = card zoomable highlight handy\n",
    "# the cards in hand that are not highlighted are as follows:\n",
    "# class = card zoomable handy\n",
    "# cards on board that are not highlighted\n",
    "# card zoomable mappy\n",
    "# cards on board controlled by opponent\n",
    "# card zoomable mappy opponent-controlled\n",
    "# cards on board you control that are highlighted\n",
    "# card zoomable highlight mappy\n",
    "# choice of taking an action (e.g. attacking, discarding a card, summoning a card, etc.)\n",
    "# action-choice\n",
    "# this shows up when attacking an enemy, \n",
    "# class= \"chooseable-space-overlay\" style=\"background-color: rgba(153, 204, 102, 0.8); cursor: pointer;\"\n",
    "# the background color when an empty tile is highlighted \n",
    "# class=\"space-placeholder\" style=\"background-color: rgba(153, 204, 102, 0.8); cursor: pointer;\n",
    "# the background color when a tile is not highlighted\n",
    "# style=\"background-color: rgba(0, 0, 0, 0); cursor: default;\n",
    "# the buttons on the left side, go to next phase, etc.\n",
    "# button class=\"control-panel-content-actions-action\"\n",
    "# empty spaces \n",
    "# class=\"space-placeholder-container\"\n",
    "# cards that opponent controls when you can force them\n",
    "# card zoomable highlight mappy opponent-controlled"
   ]
  },
  {
   "cell_type": "code",
   "execution_count": 2,
   "id": "f96d7170",
   "metadata": {},
   "outputs": [],
   "source": [
    "# !pip install webdriver_manager"
   ]
  },
  {
   "cell_type": "code",
   "execution_count": 3,
   "id": "af05d470",
   "metadata": {},
   "outputs": [
    {
     "data": {
      "text/plain": [
       "'1.19.5'"
      ]
     },
     "execution_count": 3,
     "metadata": {},
     "output_type": "execute_result"
    }
   ],
   "source": [
    "from selenium import webdriver\n",
    "import time\n",
    "from webdriver_manager.chrome import ChromeDriverManager\n",
    "import re\n",
    "import pandas as pd\n",
    "import numpy as np\n",
    "from selenium.webdriver.common.action_chains import ActionChains\n",
    "np.__version__"
   ]
  },
  {
   "cell_type": "code",
   "execution_count": 4,
   "id": "5a2c3820",
   "metadata": {},
   "outputs": [],
   "source": [
    "\n",
    "df = pd.read_excel('../sw_alt_password.xlsx')"
   ]
  },
  {
   "cell_type": "code",
   "execution_count": 5,
   "id": "6fcb83b4",
   "metadata": {},
   "outputs": [],
   "source": [
    "password = df['password'][1]\n",
    "email = df['Email'][1]"
   ]
  },
  {
   "cell_type": "code",
   "execution_count": 6,
   "id": "9b707f70",
   "metadata": {},
   "outputs": [],
   "source": [
    "factions = ['Breakers', 'Cave Goblins', 'Cloaks', 'Crimson Order', 'Eternal Council', 'Fallen Kingdom'\n",
    "           , 'Fungal Dwarves', 'High Elves', 'Mountain Vargath', 'Obsidian Dwarves',\n",
    "           'Phoenix Elves', 'Polar Dwarves', 'Sand Goblins', 'Savanna Elves',\n",
    "           'Shadow Elves', 'Skyspear Avians', 'Swamp Orcs', 'Tundra Orcs',\n",
    "           'Vanguards', 'Wayfarers']"
   ]
  },
  {
   "cell_type": "code",
   "execution_count": 7,
   "id": "efb44a80",
   "metadata": {},
   "outputs": [],
   "source": [
    "\n",
    "\n",
    "\n",
    "def start_game(singleplayer, faction_index, opposing_index, email, password, driver):\n",
    "    url = 'https://www.plaidhatgames.com/accounts/login/?next=/redirect-swo'\n",
    "    driver.get(url)\n",
    "\n",
    "\n",
    "\n",
    "    time.sleep(5)\n",
    "    login = driver.find_element_by_id('id_login')\n",
    "    login.click()\n",
    "    login.send_keys(email)\n",
    "    time.sleep(.5)\n",
    "    pw = driver.find_element_by_id('id_password')\n",
    "    pw.click()\n",
    "    pw.send_keys(password)\n",
    "    time.sleep(.05)\n",
    "    button = driver.find_element_by_class_name('primaryAction')\n",
    "    button.click()\n",
    "    time.sleep(15)\n",
    "    buttons = driver.find_elements_by_class_name('menu-button-text-container')\n",
    "    if singleplayer==True:\n",
    "        buttons[1].click()\n",
    "        time.sleep(3)\n",
    "        # change some settings\n",
    "        settings = driver.find_element_by_class_name('settings-button-left')\n",
    "        settings.click()\n",
    "        time.sleep(1)\n",
    "        # auto dismiss events (can cause issues otherwise)\n",
    "        autodismiss_events = driver.find_element_by_id('autodismiss_events')\n",
    "        autodismiss_events.click()\n",
    "        time.sleep(.05)\n",
    "        # turn on attack friendly\n",
    "        attack_friendly = driver.find_element_by_id('attack_friendly')\n",
    "        attack_friendly.click()\n",
    "        time.sleep(.05)\n",
    "        # turn off the sound\n",
    "        sound = driver.find_elements_by_id('text-size-input')\n",
    "        move = ActionChains(driver)\n",
    "        move.click_and_hold(sound[0]).move_by_offset(-100, 0).release().perform()\n",
    "        time.sleep(.05)\n",
    "        move.click_and_hold(sound[1]).move_by_offset(-100, 0).release().perform()\n",
    "        time.sleep(.05)\n",
    "\n",
    "        back_button = driver.find_element_by_class_name('full-overlay-back-button-img')\n",
    "        back_button.click()\n",
    "        time.sleep(.5)\n",
    "        buttons = driver.find_elements_by_class_name('menu-button-text-container')\n",
    "        buttons[3].click()\n",
    "        time.sleep(3)\n",
    "        buttons = driver.find_elements_by_class_name('use-deck-button')\n",
    "        buttons[faction_index].click()\n",
    "        time.sleep(1)\n",
    "        buttons = driver.find_elements_by_class_name('use-deck-button')\n",
    "        buttons[opposing_index].click()\n",
    "    else:\n",
    "        buttons[0].click()\n",
    "\n",
    "\n",
    "\n",
    "    "
   ]
  },
  {
   "cell_type": "code",
   "execution_count": 8,
   "id": "d655e636",
   "metadata": {},
   "outputs": [],
   "source": [
    "# function that determines whether it's your turn\n",
    "def is_turn(driver):\n",
    "    time.sleep(.5)\n",
    "    try:\n",
    "        driver.find_element_by_class_name('control-panel-content-actions-action')\n",
    "        return True\n",
    "    except:\n",
    "        return False"
   ]
  },
  {
   "cell_type": "code",
   "execution_count": 9,
   "id": "54339ac0",
   "metadata": {},
   "outputs": [
    {
     "name": "stdout",
     "output_type": "stream",
     "text": [
      "True\n"
     ]
    }
   ],
   "source": [
    "# driver = webdriver.Chrome(executable_path=r\"C:\\Users\\steve\\Downloads\\chromedriver-win64\\chromedriver-win64\\chromedriver.exe\")\n",
    "driver = webdriver.Chrome(executable_path=r\"C:\\\\Users\\\\steve\\\\.wdm\\\\drivers\\\\chromedriver\\\\win64\\\\119.0.6045.105\\\\chromedriver.exe\")\n",
    "# use this when you need a new version of chromedriver\n",
    "# driver = webdriver.Chrome(ChromeDriverManager().install())\n",
    "start_game(singleplayer=True, faction_index=factions.index('Tundra Orcs'), opposing_index=factions.index('Polar Dwarves'),\n",
    "          email=email, password=password, driver=driver)\n",
    "print(is_turn(driver))"
   ]
  },
  {
   "cell_type": "code",
   "execution_count": null,
   "id": "19e5b208",
   "metadata": {},
   "outputs": [],
   "source": [
    "# driver.page_source"
   ]
  },
  {
   "cell_type": "code",
   "execution_count": 124,
   "id": "cc3f395b",
   "metadata": {},
   "outputs": [],
   "source": [
    "# returns outer html for each space on the map\n",
    "def get_board_spaces(driver):\n",
    "    all_spaces = []\n",
    "    for col in range(6):\n",
    "        single_col_spaces = []\n",
    "        for row in range(8):\n",
    "            space_html = driver.find_element_by_id(f'map-space-{col}-{row}').get_attribute('outerHTML')\n",
    "            if 'space-placeholder' in space_html:\n",
    "                friendly = 0\n",
    "                occupied = False\n",
    "                card_abilities = ['']\n",
    "                card_classes = ['']\n",
    "            else:\n",
    "                occupied = True\n",
    "                \n",
    "                if 'opponent' in space_html:\n",
    "                    friendly = -1\n",
    "            \n",
    "                else:\n",
    "                    friendly = 1\n",
    "                    \n",
    "                card = driver.find_element_by_id(f'map-space-{col}-{row}')\n",
    "                card.click()\n",
    "                time.sleep(.05)\n",
    "                               \n",
    "    \n",
    "                zoom_html = driver.find_element_by_class_name('zoom-card').get_attribute('outerHTML')\n",
    "        \n",
    "                \n",
    "                \n",
    "                \n",
    "                if 'zoom-card-ability' in zoom_html:         \n",
    "                    html_card_abilities = re.findall('<div class=\"zoom-card-ability-name\">[^<]+</div>',zoom_html)\n",
    "                    regex_card_abilities = re.compile('{}(.*){}'.format(re.escape('<div class=\"zoom-card-ability-name\">'), re.escape('</div>')))\n",
    "                    card_abilities = [regex_card_abilities.findall(html_card_abilities[i])[0] for i in range(len(html_card_abilities))]\n",
    "                    \n",
    "                    html_card_classes = re.findall('<div class=\"zoom-card-extras-unit\">[^<]+</div>',zoom_html)\n",
    "                    regex_card_classes = re.compile('{}(.*){}'.format(re.escape('<div class=\"zoom-card-extras-unit\">'), re.escape('</div>')))\n",
    "                    card_classes = regex_card_classes.findall(html_card_classes[0])\n",
    "#                     card_classes = card_classes[0]\n",
    "                    \n",
    "                    \n",
    "                    if 'Structure' in zoom_html:\n",
    "                        card_classes.append('Structure')\n",
    "                    print(card_classes)\n",
    "                    \n",
    "                    \n",
    "                else:\n",
    "                    card_abilities = ['']\n",
    "                    card_classes = ['Structure']\n",
    "                    print(card_classes)\n",
    "\n",
    "                elem = driver.find_element_by_id('zoom-card')\n",
    "                ac = ActionChains(driver)\n",
    "                ac.move_to_element(elem).move_by_offset(300, 400).click().perform()\n",
    "                time.sleep(.05)\n",
    "                               \n",
    "            \n",
    "            \n",
    "            # card-name\n",
    "            if 'card-name' in space_html:\n",
    "                html_card_name = re.findall('alt=[^<]+><div class=\"card-name\">',space_html)\n",
    "                regex_card_name = re.compile('{}(.*){}'.format(re.escape('alt='), re.escape('><div class=\"card-name\">')))\n",
    "                card_name = regex_card_name.findall(html_card_name[0])\n",
    "                card_name = card_name[0]\n",
    "            else:\n",
    "                card_name = ''\n",
    "            \n",
    "            # card-strength\n",
    "            if 'card-strength' in space_html:\n",
    "                html_card_strength = re.findall('<div class=\"card-strength\">[^<]+</div>',space_html)\n",
    "                regex_card_strength = re.compile('{}(.*){}'.format(re.escape('<div class=\"card-strength\">'), re.escape('</div>')))\n",
    "                card_strength = regex_card_strength.findall(html_card_strength[0])\n",
    "                card_strength = card_strength[0]\n",
    "            else:\n",
    "                card_strength=0\n",
    "            \n",
    "            # card-life\n",
    "            if 'card-life' in space_html:\n",
    "                html_card_life = re.findall('<div class=\"card-life[^<]+</div>',space_html)\n",
    "                regex_card_life = re.compile('{}(.*){}'.format(re.escape('>'), re.escape('</div>')))\n",
    "                card_life = regex_card_life.findall(html_card_life[0])\n",
    "                card_life = card_life[0]\n",
    "            else:\n",
    "                card_life=0\n",
    "            # boost\n",
    "            if 'boost' in space_html:\n",
    "                html_card_boost = re.findall('<div class=\"boost\">[^<]+</div>',space_html)\n",
    "                regex_card_boost = re.compile('{}(.*){}'.format(re.escape('<div class=\"boost\">'), re.escape('</div>')))\n",
    "                boost = regex_card_boost.findall(html_card_boost[0])\n",
    "                boost = boost[0]\n",
    "            else:\n",
    "                boost=0\n",
    "            # card-abilities-ability\n",
    "#             if 'card-abilities-ability' in space_html:\n",
    "#                 html_card_abilities = re.findall('<div class=\"card-abilities-ability\">[^<]+</div>',space_html)\n",
    "#                 regex_card_abilities = re.compile('{}(.*){}'.format(re.escape('<div class=\"card-abilities-ability\">'), re.escape('</div>')))\n",
    "#                 card_abilities = [regex_card_abilities.findall(html_card_abilities[i])[0] for i in range(len(html_card_abilities))]\n",
    "#             else:\n",
    "#                 card_abilities = ['']\n",
    "            # append to the column list\n",
    "            single_col_spaces.append([occupied, friendly, card_name, card_strength, card_life, boost, card_abilities,\n",
    "                                      card_classes, row, col])\n",
    "        \n",
    "        # append to columns to all_spaces so it is a 2 dimensional list (can maybe perform convolutions?)\n",
    "        all_spaces.append(single_col_spaces)\n",
    "            \n",
    "    return all_spaces        \n",
    "            "
   ]
  },
  {
   "cell_type": "code",
   "execution_count": 125,
   "id": "63096159",
   "metadata": {},
   "outputs": [
    {
     "name": "stdout",
     "output_type": "stream",
     "text": [
      "['Summoner']\n",
      "['Common', 'Structure']\n",
      "['Structure']\n",
      "['Common', 'Structure']\n",
      "['Common']\n",
      "['Summoner']\n",
      "['Common']\n",
      "['Common']\n",
      "['Structure']\n"
     ]
    },
    {
     "data": {
      "text/plain": [
       "[[[False, 0, '', 0, 0, 0, [''], [''], 0, 0],\n",
       "  [False, 0, '', 0, 0, 0, [''], [''], 1, 0],\n",
       "  [False, 0, '', 0, 0, 0, [''], [''], 2, 0],\n",
       "  [False, 0, '', 0, 0, 0, [''], [''], 3, 0],\n",
       "  [False, 0, '', 0, 0, 0, [''], [''], 4, 0],\n",
       "  [False, 0, '', 0, 0, 0, [''], [''], 5, 0],\n",
       "  [False, 0, '', 0, 0, 0, [''], [''], 6, 0],\n",
       "  [False, 0, '', 0, 0, 0, [''], [''], 7, 0]],\n",
       " [[False, 0, '', 0, 0, 0, [''], [''], 0, 1],\n",
       "  [False, 0, '', 0, 0, 0, [''], [''], 1, 1],\n",
       "  [False, 0, '', 0, 0, 0, [''], [''], 2, 1],\n",
       "  [False, 0, '', 0, 0, 0, [''], [''], 3, 1],\n",
       "  [False, 0, '', 0, 0, 0, [''], [''], 4, 1],\n",
       "  [False, 0, '', 0, 0, 0, [''], [''], 5, 1],\n",
       "  [False, 0, '', 0, 0, 0, [''], [''], 6, 1],\n",
       "  [False, 0, '', 0, 0, 0, [''], [''], 7, 1]],\n",
       " [[True,\n",
       "   -1,\n",
       "   '\"Svara\"',\n",
       "   '3',\n",
       "   '12',\n",
       "   0,\n",
       "   ['Structural Shift'],\n",
       "   ['Summoner'],\n",
       "   0,\n",
       "   2],\n",
       "  [True,\n",
       "   -1,\n",
       "   '\"Ice Golem\"',\n",
       "   '2',\n",
       "   '5',\n",
       "   0,\n",
       "   ['Living Gate', 'Mobile Structure', 'Slow'],\n",
       "   ['Common', 'Structure'],\n",
       "   1,\n",
       "   2],\n",
       "  [True, -1, '\"gate\"', 0, '10', 0, [''], ['Structure'], 2, 2],\n",
       "  [False, 0, '', 0, 0, 0, [''], [''], 3, 2],\n",
       "  [True,\n",
       "   -1,\n",
       "   '\"Ice Golem\"',\n",
       "   '2',\n",
       "   '5',\n",
       "   0,\n",
       "   ['Living Gate', 'Mobile Structure', 'Slow'],\n",
       "   ['Common', 'Structure'],\n",
       "   4,\n",
       "   2],\n",
       "  [True,\n",
       "   1,\n",
       "   '\"Frost Shaman\"',\n",
       "   '3',\n",
       "   '3',\n",
       "   0,\n",
       "   ['Unwieldy Magic'],\n",
       "   ['Common'],\n",
       "   5,\n",
       "   2],\n",
       "  [True,\n",
       "   1,\n",
       "   '\"Grognack\"',\n",
       "   '4',\n",
       "   '14',\n",
       "   0,\n",
       "   ['Restore', 'Influence'],\n",
       "   ['Summoner'],\n",
       "   6,\n",
       "   2],\n",
       "  [False, 0, '', 0, 0, 0, [''], [''], 7, 2]],\n",
       " [[False, 0, '', 0, 0, 0, [''], [''], 0, 3],\n",
       "  [False, 0, '', 0, 0, 0, [''], [''], 1, 3],\n",
       "  [False, 0, '', 0, 0, 0, [''], [''], 2, 3],\n",
       "  [True, -1, '\"Frost Mage\"', '1', '4', 0, ['Frost Bolt'], ['Common'], 3, 3],\n",
       "  [True, 1, '\"Tundra Fighter\"', '2', '3', 0, ['Frenzy'], ['Common'], 4, 3],\n",
       "  [True, 1, '\"gate\"', 0, '10', 0, [''], ['Structure'], 5, 3],\n",
       "  [False, 0, '', 0, 0, 0, [''], [''], 6, 3],\n",
       "  [False, 0, '', 0, 0, 0, [''], [''], 7, 3]],\n",
       " [[False, 0, '', 0, 0, 0, [''], [''], 0, 4],\n",
       "  [False, 0, '', 0, 0, 0, [''], [''], 1, 4],\n",
       "  [False, 0, '', 0, 0, 0, [''], [''], 2, 4],\n",
       "  [False, 0, '', 0, 0, 0, [''], [''], 3, 4],\n",
       "  [False, 0, '', 0, 0, 0, [''], [''], 4, 4],\n",
       "  [False, 0, '', 0, 0, 0, [''], [''], 5, 4],\n",
       "  [False, 0, '', 0, 0, 0, [''], [''], 6, 4],\n",
       "  [False, 0, '', 0, 0, 0, [''], [''], 7, 4]],\n",
       " [[False, 0, '', 0, 0, 0, [''], [''], 0, 5],\n",
       "  [False, 0, '', 0, 0, 0, [''], [''], 1, 5],\n",
       "  [False, 0, '', 0, 0, 0, [''], [''], 2, 5],\n",
       "  [False, 0, '', 0, 0, 0, [''], [''], 3, 5],\n",
       "  [False, 0, '', 0, 0, 0, [''], [''], 4, 5],\n",
       "  [False, 0, '', 0, 0, 0, [''], [''], 5, 5],\n",
       "  [False, 0, '', 0, 0, 0, [''], [''], 6, 5],\n",
       "  [False, 0, '', 0, 0, 0, [''], [''], 7, 5]]]"
      ]
     },
     "execution_count": 125,
     "metadata": {},
     "output_type": "execute_result"
    }
   ],
   "source": [
    "spaces = get_board_spaces(driver)\n",
    "spaces"
   ]
  },
  {
   "cell_type": "code",
   "execution_count": 86,
   "id": "94d9a495",
   "metadata": {},
   "outputs": [],
   "source": [
    "def get_active_events(driver):\n",
    "    try:\n",
    "        active_html = driver.find_element_by_class_name('active-display-opponent').get_attribute('outerHTML')\n",
    "        html_active_events = re.findall('title=[^=]+',active_html)\n",
    "        regex_active_events = re.compile('{}(.*){}'.format(re.escape('title=\"'), re.escape('\" class')))\n",
    "        opponent_active_events = [regex_active_events.findall(html_active_events[i])[0] for i in range(len(html_active_events))]\n",
    "    except:\n",
    "        opponent_active_events = ['']\n",
    "    try:\n",
    "        active_html = driver.find_element_by_class_name('active-display-mine').get_attribute('outerHTML')\n",
    "        html_active_events = re.findall('title=[^=]+',active_html)\n",
    "        regex_active_events = re.compile('{}(.*){}'.format(re.escape('title=\"'), re.escape('\" class')))\n",
    "        friendly_active_events = [regex_active_events.findall(html_active_events[i])[0] for i in range(len(html_active_events))]\n",
    "    except:\n",
    "        friendly_active_events = ['']\n",
    "    return opponent_active_events, friendly_active_events"
   ]
  },
  {
   "cell_type": "code",
   "execution_count": 88,
   "id": "87546ebd",
   "metadata": {},
   "outputs": [
    {
     "data": {
      "text/plain": [
       "([], ['Insight', 'Learn'])"
      ]
     },
     "execution_count": 88,
     "metadata": {},
     "output_type": "execute_result"
    }
   ],
   "source": [
    "opponent_active_events, friendly_active_events = get_active_events(driver)\n",
    "opponent_active_events, friendly_active_events"
   ]
  },
  {
   "cell_type": "code",
   "execution_count": 122,
   "id": "c0b95daa",
   "metadata": {},
   "outputs": [],
   "source": [
    "# function to obtain amount of magic, cards in hand and deck\n",
    "def get_resources(driver):\n",
    "    user_frames = driver.find_elements_by_class_name('user-framed-stuff')\n",
    "    enemy_frames = user_frames[0].get_attribute('outerHTML')\n",
    "    html_magic = re.findall('title=\"magic\"><span>[^<]+</span>',enemy_frames)\n",
    "    regex_magic = re.compile('{}(.*){}'.format(re.escape('title=\"magic\"><span>'), re.escape('</span>')))\n",
    "    enemy_magic = regex_magic.findall(html_magic[0])\n",
    "    enemy_magic = enemy_magic[0]\n",
    "    html_hand = re.findall('title=\"hand\"><span>[^<]+</span>',enemy_frames)\n",
    "    regex_hand = re.compile('{}(.*){}'.format(re.escape('title=\"hand\"><span>'), re.escape('</span>')))\n",
    "    enemy_hand = regex_hand.findall(html_hand[0])\n",
    "    enemy_hand = enemy_hand[0]\n",
    "    html_draw = re.findall('title=\"draw\"><span>[^<]+</span>',enemy_frames)\n",
    "    regex_draw = re.compile('{}(.*){}'.format(re.escape('title=\"draw\"><span>'), re.escape('</span>')))\n",
    "    enemy_draw = regex_draw.findall(html_draw[0])\n",
    "    enemy_draw = enemy_draw[0]\n",
    "    \n",
    "    friendly_frames = user_frames[1].get_attribute('outerHTML')\n",
    "    html_magic = re.findall('title=\"magic\"><span>[^<]+</span>',friendly_frames)\n",
    "    regex_magic = re.compile('{}(.*){}'.format(re.escape('title=\"magic\"><span>'), re.escape('</span>')))\n",
    "    friendly_magic = regex_magic.findall(html_magic[0])\n",
    "    friendly_magic = friendly_magic[0]\n",
    "    html_hand = re.findall('title=\"hand\"><span>[^<]+</span>',friendly_frames)\n",
    "    regex_hand = re.compile('{}(.*){}'.format(re.escape('title=\"hand\"><span>'), re.escape('</span>')))\n",
    "    friendly_hand = regex_hand.findall(html_hand[0])\n",
    "    friendly_hand = friendly_hand[0]\n",
    "    html_draw = re.findall('title=\"draw\"><span>[^<]+</span>',friendly_frames)\n",
    "    regex_draw = re.compile('{}(.*){}'.format(re.escape('title=\"draw\"><span>'), re.escape('</span>')))\n",
    "    friendly_draw = regex_draw.findall(html_draw[0])\n",
    "    friendly_draw = friendly_draw[0]\n",
    "    return [int(enemy_magic), int(enemy_hand), int(enemy_draw), int(friendly_magic), int(friendly_hand), int(friendly_draw)]\n"
   ]
  },
  {
   "cell_type": "code",
   "execution_count": 123,
   "id": "faa7465e",
   "metadata": {},
   "outputs": [
    {
     "data": {
      "text/plain": [
       "[3, 5, 21, 3, 5, 25]"
      ]
     },
     "execution_count": 123,
     "metadata": {},
     "output_type": "execute_result"
    }
   ],
   "source": [
    "resources = get_resources(driver)\n",
    "resources"
   ]
  },
  {
   "cell_type": "code",
   "execution_count": 170,
   "id": "40438ad4",
   "metadata": {},
   "outputs": [],
   "source": [
    "def get_hand(driver):  \n",
    "    hand_buttons = driver.find_elements_by_class_name('framed-hand')\n",
    "    # click on the second hand button (your own hand)\n",
    "    hand_buttons[1].click()\n",
    "    time.sleep(.05)\n",
    "    hand_html = driver.find_element_by_class_name('summoner-wars-table-hand').get_attribute('outerHTML')\n",
    "    html_card_names = re.findall('class=\"card-name\">[^<]+</div>',hand_html)\n",
    "    regex_card_names = re.compile('{}(.*){}'.format(re.escape('class=\"card-name\">'), re.escape('</div>')))\n",
    "    card_names = [regex_card_names.findall(html_card_names[i])[0] for i in range(len(html_card_names))]\n",
    "    html_card_costs = re.findall('class=\"card-cost[^\"]*\"><span>[^<]+</span>',hand_html)\n",
    "    regex_card_costs = re.compile('{}(.*){}'.format(re.escape('<span>'), re.escape('</span>')))\n",
    "    card_costs = [int(regex_card_costs.findall(html_card_costs[i])[0]) for i in range(len(html_card_costs))]\n",
    "    return card_names, card_costs"
   ]
  },
  {
   "cell_type": "code",
   "execution_count": 171,
   "id": "57cf066e",
   "metadata": {},
   "outputs": [
    {
     "data": {
      "text/plain": [
       "(['Witch', 'Witch', 'gate', 'Splack', 'Vinemancer'], [1, 1, 0, 4, 1])"
      ]
     },
     "execution_count": 171,
     "metadata": {},
     "output_type": "execute_result"
    }
   ],
   "source": [
    "card_names, card_costs = get_hand(driver)\n",
    "card_names, card_costs"
   ]
  },
  {
   "cell_type": "code",
   "execution_count": null,
   "id": "c3054924",
   "metadata": {},
   "outputs": [],
   "source": [
    "def get_discard(driver):"
   ]
  },
  {
   "cell_type": "code",
   "execution_count": null,
   "id": "c5783642",
   "metadata": {},
   "outputs": [],
   "source": [
    "def get_deck(driver):"
   ]
  },
  {
   "cell_type": "code",
   "execution_count": null,
   "id": "49c63544",
   "metadata": {},
   "outputs": [],
   "source": [
    "def get_enemy_discards_remaining_cards(driver)"
   ]
  },
  {
   "cell_type": "code",
   "execution_count": 199,
   "id": "11b587b9",
   "metadata": {},
   "outputs": [],
   "source": [
    "# returns list of card names, abilities, active events,\n",
    "# cards that go under other cards (will be used to create a list of these for one hot encoding)\n",
    "def list_card_attributes(driver, factions):\n",
    "    for faction in factions:\n",
    "        # select faction\n",
    "        faction_button = driver.find_element_by_css_selector(f'[alt=\"{faction}\"]')\n",
    "        faction_button.click()\n",
    "        # click continue\n",
    "        buttons = driver.find_elements_by_class_name('menu-button-text-container')\n",
    "        buttons[1].click()\n",
    "        time.sleep(1)\n",
    "        \n",
    "        cards = driver.find_elements_by_class_name('card-image')\n",
    "        cards[0].click()\n",
    "        summoner = get_attributes_zoomed_in_card(driver)\n",
    "        print(summoner)\n",
    "        time.sleep(.05)\n",
    "        \n",
    "        cards = driver.find_elements_by_class_name('card-image')\n",
    "        cards[1].click()\n",
    "        epic = get_attributes_zoomed_in_card(driver)\n",
    "        print(epic)\n",
    "        time.sleep(.05)\n",
    "        \n",
    "        card_counts_in_faction = []\n",
    "        card_counts = driver.find_elements_by_class_name('card-quantity')\n",
    "        for count in card_counts:\n",
    "            if 'x0' not in count.get_attribute('outerHTML'):\n",
    "                card_counts_in_faction.append(count)\n",
    "        for card_count in card_counts_in_faction:\n",
    "            ac = ActionChains(driver)\n",
    "            ac.move_to_element(card_count).move_by_offset(-10, -10).click().perform()\n",
    "            card = get_attributes_zoomed_in_card(driver)\n",
    "            time.sleep(.05)\n",
    "            \n",
    "            \n",
    "        # go back\n",
    "        buttons = driver.find_elements_by_class_name('menu-button-text-container')\n",
    "        buttons[2].click()\n",
    "        time.sleep(1)\n",
    "        \n",
    "        \n",
    "        \n",
    "        "
   ]
  },
  {
   "cell_type": "code",
   "execution_count": null,
   "id": "2d390812",
   "metadata": {},
   "outputs": [],
   "source": [
    "event-text-active"
   ]
  },
  {
   "cell_type": "code",
   "execution_count": null,
   "id": "13dcfc69",
   "metadata": {},
   "outputs": [],
   "source": [
    "zoom-card-ability-name # also works for events"
   ]
  },
  {
   "cell_type": "code",
   "execution_count": null,
   "id": "e908e29a",
   "metadata": {},
   "outputs": [],
   "source": [
    "place under # use these keywords?"
   ]
  },
  {
   "cell_type": "code",
   "execution_count": 14,
   "id": "cfc78e78",
   "metadata": {},
   "outputs": [
    {
     "name": "stdout",
     "output_type": "stream",
     "text": [
      "<div class=\"card-quantity\">x0</div>\n",
      "<div class=\"card-quantity\">x0</div>\n",
      "<div class=\"card-quantity\">x0</div>\n",
      "<div class=\"card-quantity\">x0</div>\n",
      "<div class=\"card-quantity\">x0</div>\n",
      "<div class=\"card-quantity\">x0</div>\n",
      "<div class=\"card-quantity\">x0</div>\n",
      "<div class=\"card-quantity\">x0</div>\n",
      "<div class=\"card-quantity\">x1</div>\n",
      "<div class=\"card-quantity\">x1</div>\n",
      "<div class=\"card-quantity\">x0</div>\n",
      "<div class=\"card-quantity\">x1</div>\n",
      "<div class=\"card-quantity\">x0</div>\n",
      "<div class=\"card-quantity\">x0</div>\n",
      "<div class=\"card-quantity\">x0</div>\n",
      "<div class=\"card-quantity\">x0</div>\n",
      "<div class=\"card-quantity\">x0</div>\n",
      "<div class=\"card-quantity\">x0</div>\n",
      "<div class=\"card-quantity\">x0</div>\n",
      "<div class=\"card-quantity\">x0</div>\n",
      "<div class=\"card-quantity\">x0</div>\n",
      "<div class=\"card-quantity\">x4</div>\n",
      "<div class=\"card-quantity\">x4</div>\n",
      "<div class=\"card-quantity\">x0</div>\n",
      "<div class=\"card-quantity\">x0</div>\n",
      "<div class=\"card-quantity\">x4</div>\n",
      "<div class=\"card-quantity\">x0</div>\n",
      "<div class=\"card-quantity\">x4</div>\n",
      "<div class=\"card-quantity\">x0</div>\n",
      "<div class=\"card-quantity\">x0</div>\n",
      "<div class=\"card-quantity\">x0</div>\n",
      "<div class=\"card-quantity\">x2</div>\n",
      "<div class=\"card-quantity\">x2</div>\n",
      "<div class=\"card-quantity\">x0</div>\n",
      "<div class=\"card-quantity\">x2</div>\n",
      "<div class=\"card-quantity\">x0</div>\n",
      "<div class=\"card-quantity\">x0</div>\n",
      "<div class=\"card-quantity\">x0</div>\n",
      "<div class=\"card-quantity\">x0</div>\n",
      "<div class=\"card-quantity\">x0</div>\n",
      "<div class=\"card-quantity\">x0</div>\n",
      "<div class=\"card-quantity\">x0</div>\n",
      "<div class=\"card-quantity\">x0</div>\n",
      "<div class=\"card-quantity\">x0</div>\n"
     ]
    },
    {
     "data": {
      "text/plain": [
       "[<selenium.webdriver.remote.webelement.WebElement (session=\"2a59ee4bbc52f97055e6b00e0f1d2363\", element=\"2929A5DB3B9E95BE5E3F216A72CC4125_element_4275\")>,\n",
       " <selenium.webdriver.remote.webelement.WebElement (session=\"2a59ee4bbc52f97055e6b00e0f1d2363\", element=\"2929A5DB3B9E95BE5E3F216A72CC4125_element_4250\")>,\n",
       " <selenium.webdriver.remote.webelement.WebElement (session=\"2a59ee4bbc52f97055e6b00e0f1d2363\", element=\"2929A5DB3B9E95BE5E3F216A72CC4125_element_4257\")>,\n",
       " <selenium.webdriver.remote.webelement.WebElement (session=\"2a59ee4bbc52f97055e6b00e0f1d2363\", element=\"2929A5DB3B9E95BE5E3F216A72CC4125_element_4568\")>,\n",
       " <selenium.webdriver.remote.webelement.WebElement (session=\"2a59ee4bbc52f97055e6b00e0f1d2363\", element=\"2929A5DB3B9E95BE5E3F216A72CC4125_element_4569\")>,\n",
       " <selenium.webdriver.remote.webelement.WebElement (session=\"2a59ee4bbc52f97055e6b00e0f1d2363\", element=\"2929A5DB3B9E95BE5E3F216A72CC4125_element_4572\")>,\n",
       " <selenium.webdriver.remote.webelement.WebElement (session=\"2a59ee4bbc52f97055e6b00e0f1d2363\", element=\"2929A5DB3B9E95BE5E3F216A72CC4125_element_4574\")>,\n",
       " <selenium.webdriver.remote.webelement.WebElement (session=\"2a59ee4bbc52f97055e6b00e0f1d2363\", element=\"2929A5DB3B9E95BE5E3F216A72CC4125_element_4578\")>,\n",
       " <selenium.webdriver.remote.webelement.WebElement (session=\"2a59ee4bbc52f97055e6b00e0f1d2363\", element=\"2929A5DB3B9E95BE5E3F216A72CC4125_element_4579\")>,\n",
       " <selenium.webdriver.remote.webelement.WebElement (session=\"2a59ee4bbc52f97055e6b00e0f1d2363\", element=\"2929A5DB3B9E95BE5E3F216A72CC4125_element_4581\")>]"
      ]
     },
     "execution_count": 14,
     "metadata": {},
     "output_type": "execute_result"
    }
   ],
   "source": [
    "\n"
   ]
  },
  {
   "cell_type": "code",
   "execution_count": 203,
   "id": "aa317daf",
   "metadata": {},
   "outputs": [],
   "source": [
    "def get_attributes_zoomed_in_card(driver):\n",
    "    zoom_html = driver.find_element_by_class_name('zoom-card').get_attribute('outerHTML')\n",
    "    \n",
    "    html_card_name = re.findall('<div class=\"zoom-card-name-full\">[^<]+</div>',zoom_html)\n",
    "    regex_card_name = re.compile('{}(.*){}'.format(re.escape('<div class=\"zoom-card-name-full\">'), re.escape('</div>')))\n",
    "    card_name = regex_card_name.findall(html_card_name[0])\n",
    "    card_name = card_name[0]\n",
    "        \n",
    "    html_card_abilities = re.findall('<div class=\"zoom-card-ability-name\">[^<]+</div>',zoom_html)\n",
    "    regex_card_abilities = re.compile('{}(.*){}'.format(re.escape('<div class=\"zoom-card-ability-name\">'), re.escape('</div>')))\n",
    "    card_abilities = [regex_card_abilities.findall(html_card_abilities[i])[0] for i in range(len(html_card_abilities))]\n",
    "    \n",
    "    html_card_abilities_text = re.findall('<div class=\"zoom-card-ability-text\"><span>[^<]+</span>',zoom_html)\n",
    "    regex_card_abilities_text = re.compile('{}(.*){}'.format(re.escape('<div class=\"zoom-card-ability-text\"><span>'), re.escape('</span>')))\n",
    "    card_abilities_text = [regex_card_abilities_text.findall(html_card_abilities_text[i])[0] for i in range(len(html_card_abilities_text))]\n",
    "\n",
    "                    \n",
    "    html_card_classes = re.findall('<div class=\"zoom-card-extras-unit\">[^<]+</div>',zoom_html)\n",
    "    regex_card_classes = re.compile('{}(.*){}'.format(re.escape('<div class=\"zoom-card-extras-unit\">'), re.escape('</div>')))\n",
    "    card_classes = regex_card_classes.findall(html_card_classes[0])\n",
    "    if 'Structure' in zoom_html:\n",
    "        card_classes.append('Structure')\n",
    "        \n",
    "    if 'zoom-card-cost' in zoom_html:\n",
    "        html_card_cost = re.findall('<div class=\"zoom-card-cost[^\"]*\">[^<]+</div>',zoom_html)\n",
    "        regex_card_cost = re.compile('{}(.*){}'.format(re.escape('<div class=\"zoom-card-cost[^\"]*\">'), re.escape('</div>')))\n",
    "        card_cost = regex_card_strength.findall(html_card_cost[0])\n",
    "        card_cost = card_cost[0]\n",
    "    else:\n",
    "        card_cost = 0\n",
    "        \n",
    "        \n",
    "    html_card_strength = re.findall('<div class=\"zoom-card-strength\">[^<]+</div>',zoom_html)\n",
    "    regex_card_strength = re.compile('{}(.*){}'.format(re.escape('<div class=\"zoom-card-strength\">'), re.escape('</div>')))\n",
    "    card_strength = regex_card_strength.findall(html_card_strength[0])\n",
    "    card_strength = card_strength[0]\n",
    "    \n",
    "    html_card_life = re.findall('<div class=\"zoom-card-life\">[^<]+</div>',zoom_html)\n",
    "    regex_card_life = re.compile('{}(.*){}'.format(re.escape('<div class=\"zoom-card-life\">'), re.escape('</div>')))\n",
    "    card_life = regex_card_life.findall(html_card_life[0])\n",
    "    card_life = card_life[0]\n",
    "    \n",
    "    elem = driver.find_element_by_id('zoom-card')\n",
    "    ac = ActionChains(driver)\n",
    "    ac.move_to_element(elem).move_by_offset(300, 400).click().perform()\n",
    "    time.sleep(.05)\n",
    "    \n",
    "    return [card_name, card_abilities, card_abilities_text, card_classes, card_cost, card_strength, card_life]\n",
    "    \n",
    "    \n",
    "    \n",
    "    "
   ]
  },
  {
   "cell_type": "code",
   "execution_count": 204,
   "id": "d83e8b5c",
   "metadata": {},
   "outputs": [
    {
     "name": "stdout",
     "output_type": "stream",
     "text": [
      "['Tacullu', ['Mind Capture'], ['When this unit attacks an enemy unit, if the damage added would be enough to destroy the target, you may instead ignore that damage and take control of the target.'], ['Summoner'], '3', '13']\n",
      "['Sneeks', ['Sly'], ['Once per turn, during your Attack Phase, this unit may exchange places with a friendly 0 cost unit.'], ['Summoner'], '3', '11']\n",
      "['Vlox', ['Master of the Art'], ['At the end of your Summon Phase, this unit may target a friendly unit.  This unit has the target’s abilities until the end of your turn.'], ['Summoner'], '3', '13']\n",
      "['Baron Daemar', ['Blood Drain', 'Faithful Servants'], ['After this unit attacks and damages a unit, remove 1 damage from this unit.', 'At the start of your Magic Phase, you may summon a Cultist unit adjacent to this unit.'], ['Summoner'], '3', '10']\n",
      "['Praefectus Edia', ['Kinetic Siphon', 'Persist'], ['Once per turn, after this unit attacks an enemy unit or is attacked by an enemy unit, boost this unit.', 'When you would discard an active event, you may instead spend 2 boost to keep that event in play.'], ['Summoner'], '3', '13']\n",
      "['Ret-Talus', ['Raise the Dead'], ['Once per turn, during your Summon Phase, you may add 2 damage to this unit to retrieve an Undead unit from your discard pile and place it adjacent to this unit.'], ['Summoner'], '2', '12']\n",
      "['Kuldak', ['Blood Bloom'], ['After each time a friendly unit within 2 spaces of this unit is destroyed, boost all friendly units that were within 2 spaces of this unit.'], ['Summoner'], '4', '12']\n",
      "['Valeria the Just', ['Dictate', 'Greater Engage'], ['After this unit moves or attacks, it may target a common within 2 spaces. Force the target 1 space.', 'Each time an adjacent enemy unit moves or is forced away from this unit, add 2 damage to that enemy.'], ['Summoner'], '2', '12']\n",
      "['Sunderved', ['Commander'], ['Friendly units within 2 spaces of this unit have +1 strength.'], ['Summoner'], '4', '12']\n",
      "['Balzar', ['Burning Rage', 'Imbued Strength'], ['After this unit attacks an enemy card, if 0 or 1 ', 'This unit has +1 strength for each boost it has, to a maximum of +5.'], ['Summoner'], '2', '13']\n",
      "['Queen Maldaria', ['Call Protection', 'Save the Queen'], ['At the end of your Attack Phase, if this unit attacked an enemy card during this turn, you may place a friendly unit adjacent to this unit.', 'Adjacent friendly units cannot be attacked through or forced.'], ['Summoner'], '4', '9']\n",
      "['Svara', ['Structural Shift'], ['After this unit moves, it may target a friendly structure within 3 spaces. Force the target 1 space.'], ['Summoner'], '3', '12']\n",
      "['Krusk', ['Mobile Structure', 'Carry'], ['This card may move.', 'Before this unit moves, it may target any number of friendly adjacent units. After it moves, place each target adjacent to this unit.'], ['Summoner', 'Structure'], '3', '10']\n",
      "['Abua Shi', ['Spirit Bond'], ['After this unit moves, you may target a friendly unit within 3 spaces. Boost the target and move all boost from this unit to the target.'], ['Summoner'], '5', '10']\n",
      "['Selundar', ['Blood Magic', 'Return to Shadow'], ['During your turn, after each time 1 or more damage is added to a friendly card within 3 spaces of this unit, boost this unit.', 'During your turn, you may spend 2 boost to target a friendly unit within 3 spaces of this unit. Return the target to your hand.'], ['Summoner'], '5', '11']\n",
      "['Ava', ['Flight', 'Take to the Skies'], ['When this unit moves, it may move 1 extra space and through cards.', 'At the start of your Move Phase, friendly Aerie units within 2 spaces of this unit gain Flight until the end of your turn.'], ['Summoner'], '3', '10']\n",
      "['Mugglug', ['Reap', 'Far Strike'], ['Before this unit attacks, it may spend 1 boost from any number of friendly units within 3 spaces. This unit has +1 strength during that attack for each boost spent.', 'This unit may attack cards up to 2 clear straight spaces away.'], ['Summoner'], '3', '13']\n",
      "['Grognack', ['Restore', 'Influence'], ['After this unit moves, if it is unboosted, boost it.', 'When a friendly unit within 3 spaces of this unit rolls dice for an attack or ability during your turn, you may spend 1 boost to re-roll all of those dice.'], ['Summoner'], '4', '14']\n",
      "['Sera Eldwyn', [\"The Citadel's Might\"], ['After this unit attacks an enemy unit, if there are 1 or more friendly Citadel units on the battlefield, you may retrieve a Citadel unit from your discard pile, reveal it, and add it to your hand.'], ['Summoner'], '3', '12']\n",
      "['Celeste', ['Well Traveled'], ['This unit has +1 strength for each friendly unit on your opponent’s side of the battlefield, to a maximum of +3.'], ['Summoner'], '3', '12']\n"
     ]
    }
   ],
   "source": [
    "list_card_attributes(driver, factions)"
   ]
  },
  {
   "cell_type": "code",
   "execution_count": null,
   "id": "d6b6abe4",
   "metadata": {},
   "outputs": [],
   "source": [
    "# for multiplayer where you don't get to choose opponent\n",
    "def get_enemy_summoner(driver):"
   ]
  },
  {
   "cell_type": "code",
   "execution_count": null,
   "id": "ad1fbcf3",
   "metadata": {},
   "outputs": [],
   "source": [
    "unit_classes = ['Summoner', 'Structure', 'Common', 'Champion']"
   ]
  },
  {
   "cell_type": "code",
   "execution_count": null,
   "id": "c087cfc9",
   "metadata": {},
   "outputs": [],
   "source": [
    "# zoom-card-extras-event-phase\n",
    "# added draw phase just to be safe and future proof in case they come out with a draw phase event 15511\n",
    "event_phases = ['Summon Phase', 'Move Phase', 'Build Phase', 'Attack Phase', 'Magic Phase', 'Draw Phase']"
   ]
  },
  {
   "cell_type": "code",
   "execution_count": null,
   "id": "582d0786",
   "metadata": {},
   "outputs": [],
   "source": [
    "# observation, reward, done, and info?"
   ]
  },
  {
   "cell_type": "code",
   "execution_count": null,
   "id": "cc03d6c0",
   "metadata": {},
   "outputs": [],
   "source": [
    "# gets the current state of the board, cards in hand, discarded cards, active events, cards in deck, etc.\n",
    "def get_board_state()"
   ]
  },
  {
   "cell_type": "code",
   "execution_count": null,
   "id": "f02343b0",
   "metadata": {},
   "outputs": [],
   "source": [
    "# possible actions that can be taken at any given point\n",
    "def get_available_actions()"
   ]
  },
  {
   "cell_type": "code",
   "execution_count": null,
   "id": "e42a6258",
   "metadata": {},
   "outputs": [],
   "source": [
    "# choose an action, evaluating them?? (need to refresh on reinforcement learning here)\n",
    "def evaluate_actions()"
   ]
  }
 ],
 "metadata": {
  "kernelspec": {
   "display_name": "Python 3 (ipykernel)",
   "language": "python",
   "name": "python3"
  },
  "language_info": {
   "codemirror_mode": {
    "name": "ipython",
    "version": 3
   },
   "file_extension": ".py",
   "mimetype": "text/x-python",
   "name": "python",
   "nbconvert_exporter": "python",
   "pygments_lexer": "ipython3",
   "version": "3.8.16"
  }
 },
 "nbformat": 4,
 "nbformat_minor": 5
}
