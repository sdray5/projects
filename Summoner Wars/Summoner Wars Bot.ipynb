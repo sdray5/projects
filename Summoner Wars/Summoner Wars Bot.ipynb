{
 "cells": [
  {
   "cell_type": "code",
   "execution_count": 1,
   "id": "fe811326",
   "metadata": {},
   "outputs": [],
   "source": [
    "# the cards that are highlighted have the following class (in hand)\n",
    "# class = card zoomable highlight handy\n",
    "# the cards in hand that are not highlighted are as follows:\n",
    "# class = card zoomable handy\n",
    "# cards on board that are not highlighted\n",
    "# card zoomable mappy\n",
    "# cards on board controlled by opponent\n",
    "# card zoomable mappy opponent-controlled\n",
    "# cards on board you control that are highlighted\n",
    "# card zoomable highlight mappy\n",
    "# choice of taking an action (e.g. attacking, discarding a card, summoning a card, etc.)\n",
    "# action-choice\n",
    "# this shows up when attacking an enemy, \n",
    "# class= \"chooseable-space-overlay\" style=\"background-color: rgba(153, 204, 102, 0.8); cursor: pointer;\"\n",
    "# the background color when an empty tile is highlighted \n",
    "# class=\"space-placeholder\" style=\"background-color: rgba(153, 204, 102, 0.8); cursor: pointer;\n",
    "# the background color when a tile is not highlighted\n",
    "# style=\"background-color: rgba(0, 0, 0, 0); cursor: default;\n",
    "# the buttons on the left side, go to next phase, etc.\n",
    "# button class=\"control-panel-content-actions-action\"\n",
    "# empty spaces \n",
    "# class=\"space-placeholder-container\"\n",
    "# cards that opponent controls when you can force them\n",
    "# card zoomable highlight mappy opponent-controlled"
   ]
  },
  {
   "cell_type": "code",
   "execution_count": 2,
   "id": "f96d7170",
   "metadata": {},
   "outputs": [],
   "source": [
    "# !pip install webdriver_manager"
   ]
  },
  {
   "cell_type": "code",
   "execution_count": 27,
   "id": "af05d470",
   "metadata": {},
   "outputs": [
    {
     "data": {
      "text/plain": [
       "'1.19.5'"
      ]
     },
     "execution_count": 27,
     "metadata": {},
     "output_type": "execute_result"
    }
   ],
   "source": [
    "from selenium import webdriver\n",
    "import time\n",
    "from webdriver_manager.chrome import ChromeDriverManager\n",
    "import re\n",
    "import pandas as pd\n",
    "import numpy as np\n",
    "from selenium.webdriver.common.action_chains import ActionChains\n",
    "np.__version__"
   ]
  },
  {
   "cell_type": "code",
   "execution_count": 4,
   "id": "5a2c3820",
   "metadata": {},
   "outputs": [],
   "source": [
    "\n",
    "df = pd.read_excel('../sw_alt_password.xlsx')"
   ]
  },
  {
   "cell_type": "code",
   "execution_count": 5,
   "id": "6fcb83b4",
   "metadata": {},
   "outputs": [],
   "source": [
    "password = df['password'][1]\n",
    "email = df['Email'][1]"
   ]
  },
  {
   "cell_type": "code",
   "execution_count": 6,
   "id": "9b707f70",
   "metadata": {},
   "outputs": [],
   "source": [
    "factions = ['Breakers', 'Cave Goblins', 'Cloaks', 'Crimson Order', 'Eternal Council', 'Fallen Kingdom'\n",
    "           , 'Fungal Dwarves', 'High Elves', 'Mountain Vargath', 'Obsidian Dwarves',\n",
    "           'Phoenix Elves', 'Polar Dwarves', 'Sand Goblins', 'Savanna Elves',\n",
    "           'Shadow Elves', 'Skyspear Avians', 'Swamp Orcs', 'Tundra Orcs',\n",
    "           'Vanguards', 'Wayfarers']\n",
    "player_faction = 'Tundra Orcs'\n",
    "faction_index = factions.index(player_faction)\n",
    "# only needs to be set for singleplayer\n",
    "opposing_faction = 'Phoenix Elves'\n",
    "opposing_index = factions.index(opposing_faction)"
   ]
  },
  {
   "cell_type": "code",
   "execution_count": 31,
   "id": "efb44a80",
   "metadata": {},
   "outputs": [],
   "source": [
    "\n",
    "\n",
    "\n",
    "def start_game(singleplayer, faction_index, opposing_index, email, password, driver):\n",
    "    url = 'https://www.plaidhatgames.com/accounts/login/?next=/redirect-swo'\n",
    "    driver.get(url)\n",
    "\n",
    "\n",
    "\n",
    "    time.sleep(5)\n",
    "    login = driver.find_element_by_id('id_login')\n",
    "    login.click()\n",
    "    login.send_keys(email)\n",
    "    time.sleep(.5)\n",
    "    pw = driver.find_element_by_id('id_password')\n",
    "    pw.click()\n",
    "    pw.send_keys(password)\n",
    "    time.sleep(.05)\n",
    "    button = driver.find_element_by_class_name('primaryAction')\n",
    "    button.click()\n",
    "    time.sleep(15)\n",
    "    buttons = driver.find_elements_by_class_name('menu-button-text-container')\n",
    "    if singleplayer==True:\n",
    "        buttons[1].click()\n",
    "        time.sleep(3)\n",
    "        settings = driver.find_element_by_class_name('settings-button-left')\n",
    "        settings.click()\n",
    "        time.sleep(1)\n",
    "        autodismiss_events = driver.find_element_by_id('autodismiss_events')\n",
    "        autodismiss_events.click()\n",
    "        time.sleep(.05)\n",
    "        attack_friendly = driver.find_element_by_id('attack_friendly')\n",
    "        attack_friendly.click()\n",
    "        time.sleep(.05)\n",
    "        back_button = driver.find_element_by_class_name('full-overlay-back-button-img')\n",
    "        back_button.click()\n",
    "        time.sleep(.5)\n",
    "        buttons = driver.find_elements_by_class_name('menu-button-text-container')\n",
    "        buttons[3].click()\n",
    "        time.sleep(3)\n",
    "        buttons = driver.find_elements_by_class_name('use-deck-button')\n",
    "        buttons[faction_index].click()\n",
    "        time.sleep(1)\n",
    "        buttons = driver.find_elements_by_class_name('use-deck-button')\n",
    "        buttons[opposing_index].click()\n",
    "    else:\n",
    "        buttons[0].click()\n",
    "\n",
    "\n",
    "\n",
    "    "
   ]
  },
  {
   "cell_type": "code",
   "execution_count": 8,
   "id": "d655e636",
   "metadata": {},
   "outputs": [],
   "source": [
    "# function that determines whether it's your turn\n",
    "def is_turn(driver):\n",
    "    time.sleep(.5)\n",
    "    try:\n",
    "        driver.find_element_by_class_name('control-panel-content-actions-action')\n",
    "        return True\n",
    "    except:\n",
    "        return False"
   ]
  },
  {
   "cell_type": "code",
   "execution_count": 71,
   "id": "54339ac0",
   "metadata": {},
   "outputs": [
    {
     "name": "stdout",
     "output_type": "stream",
     "text": [
      "False\n"
     ]
    }
   ],
   "source": [
    "# driver = webdriver.Chrome(executable_path=r\"C:\\Users\\steve\\Downloads\\chromedriver-win64\\chromedriver-win64\\chromedriver.exe\")\n",
    "driver = webdriver.Chrome(executable_path=r\"C:\\\\Users\\\\steve\\\\.wdm\\\\drivers\\\\chromedriver\\\\win64\\\\119.0.6045.105\\\\chromedriver.exe\")\n",
    "# use this when you need a new version of chromedriver\n",
    "# driver = webdriver.Chrome(ChromeDriverManager().install())\n",
    "start_game(singleplayer=True, faction_index=factions.index('High Elves'), opposing_index=factions.index('Eternal Council'),\n",
    "          email=email, password=password, driver=driver)\n",
    "print(is_turn(driver))"
   ]
  },
  {
   "cell_type": "code",
   "execution_count": null,
   "id": "19e5b208",
   "metadata": {},
   "outputs": [],
   "source": [
    "# driver.page_source"
   ]
  },
  {
   "cell_type": "code",
   "execution_count": 57,
   "id": "cc3f395b",
   "metadata": {},
   "outputs": [],
   "source": [
    "# returns outer html for each space on the map\n",
    "def get_board_spaces(driver):\n",
    "    all_spaces = []\n",
    "    for col in range(6):\n",
    "        single_col_spaces = []\n",
    "        for row in range(8):\n",
    "            space_html = driver.find_element_by_id(f'map-space-{col}-{row}').get_attribute('outerHTML')\n",
    "            if 'space-placeholder' in space_html:\n",
    "                friendly = 0\n",
    "                occupied = False\n",
    "                card_abilities = ['']\n",
    "                card_classes = ''\n",
    "            else:\n",
    "                occupied = True\n",
    "                \n",
    "                if 'opponent' in space_html:\n",
    "                    friendly = -1\n",
    "            \n",
    "                else:\n",
    "                    friendly = 1\n",
    "                    \n",
    "                card = driver.find_element_by_id(f'map-space-{col}-{row}')\n",
    "                card.click()\n",
    "                time.sleep(.05)\n",
    "                               \n",
    "    \n",
    "                zoom_html = driver.find_element_by_class_name('zoom-card').get_attribute('outerHTML')\n",
    "        \n",
    "                \n",
    "                \n",
    "                \n",
    "                if 'zoom-card-ability' in zoom_html:         \n",
    "                    html_card_abilities = re.findall('<div class=\"zoom-card-ability-name\">[^<]+</div>',zoom_html)\n",
    "                    regex_card_abilities = re.compile('{}(.*){}'.format(re.escape('<div class=\"zoom-card-ability-name\">'), re.escape('</div>')))\n",
    "                    card_abilities = [regex_card_abilities.findall(html_card_abilities[i])[0] for i in range(len(html_card_abilities))]\n",
    "                    \n",
    "                    html_card_classes = re.findall('<div class=\"zoom-card-extras-unit\">[^<]+</div>',zoom_html)\n",
    "                    regex_card_classes = re.compile('{}(.*){}'.format(re.escape('<div class=\"zoom-card-extras-unit\">'), re.escape('</div>')))\n",
    "                    card_classes = regex_card_classes.findall(html_card_classes[0])\n",
    "                    card_classes = card_classes[0]\n",
    "                    print(card_classes)\n",
    "                    \n",
    "                    \n",
    "                    \n",
    "                else:\n",
    "                    card_abilities = ['']\n",
    "                    card_classes = 'Structure'\n",
    "\n",
    "                elem = driver.find_element_by_id('zoom-card')\n",
    "                ac = ActionChains(driver)\n",
    "                ac.move_to_element(elem).move_by_offset(300, 400).click().perform()\n",
    "                time.sleep(.05)\n",
    "                               \n",
    "            \n",
    "            # card-name\n",
    "            if 'card-name' in space_html:\n",
    "                html_card_name = re.findall('alt=[^<]+><div class=\"card-name\">',space_html)\n",
    "                regex_card_name = re.compile('{}(.*){}'.format(re.escape('alt='), re.escape('><div class=\"card-name\">')))\n",
    "                card_name = regex_card_name.findall(html_card_name[0])\n",
    "                card_name = card_name[0]\n",
    "            else:\n",
    "                card_name = ''\n",
    "            \n",
    "            # card-strength\n",
    "            if 'card-strength' in space_html:\n",
    "                html_card_strength = re.findall('<div class=\"card-strength\">[^<]+</div>',space_html)\n",
    "                regex_card_strength = re.compile('{}(.*){}'.format(re.escape('<div class=\"card-strength\">'), re.escape('</div>')))\n",
    "                card_strength = regex_card_strength.findall(html_card_strength[0])\n",
    "                card_strength = card_strength[0]\n",
    "            else:\n",
    "                card_strength=0\n",
    "            \n",
    "            # card-life\n",
    "            if 'card-life' in space_html:\n",
    "                html_card_life = re.findall('<div class=\"card-life[^<]+</div>',space_html)\n",
    "                regex_card_life = re.compile('{}(.*){}'.format(re.escape('>'), re.escape('</div>')))\n",
    "                card_life = regex_card_life.findall(html_card_life[0])\n",
    "                card_life = card_life[0]\n",
    "            else:\n",
    "                card_life=0\n",
    "            # boost\n",
    "            if 'boost' in space_html:\n",
    "                html_card_boost = re.findall('<div class=\"boost\">[^<]+</div>',space_html)\n",
    "                regex_card_boost = re.compile('{}(.*){}'.format(re.escape('<div class=\"boost\">'), re.escape('</div>')))\n",
    "                boost = regex_card_boost.findall(html_card_boost[0])\n",
    "                boost = boost[0]\n",
    "            else:\n",
    "                boost=0\n",
    "            # card-abilities-ability\n",
    "#             if 'card-abilities-ability' in space_html:\n",
    "#                 html_card_abilities = re.findall('<div class=\"card-abilities-ability\">[^<]+</div>',space_html)\n",
    "#                 regex_card_abilities = re.compile('{}(.*){}'.format(re.escape('<div class=\"card-abilities-ability\">'), re.escape('</div>')))\n",
    "#                 card_abilities = [regex_card_abilities.findall(html_card_abilities[i])[0] for i in range(len(html_card_abilities))]\n",
    "#             else:\n",
    "#                 card_abilities = ['']\n",
    "            # append to the column list\n",
    "            single_col_spaces.append([occupied, friendly, card_name, card_strength, card_life, boost, card_abilities,\n",
    "                                      card_classes, row, col])\n",
    "        \n",
    "        # append to columns to all_spaces so it is a 2 dimensional list (can maybe perform convolutions?)\n",
    "        all_spaces.append(single_col_spaces)\n",
    "            \n",
    "    return all_spaces        \n",
    "            "
   ]
  },
  {
   "cell_type": "code",
   "execution_count": 58,
   "id": "4323faae",
   "metadata": {},
   "outputs": [
    {
     "name": "stdout",
     "output_type": "stream",
     "text": [
      "Common\n",
      "Summoner\n",
      "Common\n",
      "Summoner\n",
      "Common\n",
      "Common\n"
     ]
    },
    {
     "data": {
      "text/plain": [
       "[[[False, 0, '', 0, 0, 0, [''], '', 0, 0],\n",
       "  [False, 0, '', 0, 0, 0, [''], '', 1, 0],\n",
       "  [False, 0, '', 0, 0, 0, [''], '', 2, 0],\n",
       "  [False, 0, '', 0, 0, 0, [''], '', 3, 0],\n",
       "  [False, 0, '', 0, 0, 0, [''], '', 4, 0],\n",
       "  [False, 0, '', 0, 0, 0, [''], '', 5, 0],\n",
       "  [False, 0, '', 0, 0, 0, [''], '', 6, 0],\n",
       "  [False, 0, '', 0, 0, 0, [''], '', 7, 0]],\n",
       " [[False, 0, '', 0, 0, 0, [''], '', 0, 1],\n",
       "  [False, 0, '', 0, 0, 0, [''], '', 1, 1],\n",
       "  [True, -1, '\"Ember Archer\"', '2', '2', 0, ['Quick Shot'], 'Common', 2, 1],\n",
       "  [False, 0, '', 0, 0, 0, [''], '', 3, 1],\n",
       "  [False, 0, '', 0, 0, 0, [''], '', 4, 1],\n",
       "  [False, 0, '', 0, 0, 0, [''], '', 5, 1],\n",
       "  [False, 0, '', 0, 0, 0, [''], '', 6, 1],\n",
       "  [False, 0, '', 0, 0, 0, [''], '', 7, 1]],\n",
       " [[True,\n",
       "   -1,\n",
       "   '\"Queen Maldaria\"',\n",
       "   '4',\n",
       "   '9',\n",
       "   0,\n",
       "   ['Call Protection', 'Save the Queen'],\n",
       "   'Summoner',\n",
       "   0,\n",
       "   2],\n",
       "  [False, 0, '', 0, 0, 0, [''], '', 1, 2],\n",
       "  [True, -1, '\"gate\"', 0, '10', 0, [''], 'Structure', 2, 2],\n",
       "  [False, 0, '', 0, 0, 0, [''], '', 3, 2],\n",
       "  [False, 0, '', 0, 0, 0, [''], '', 4, 2],\n",
       "  [True, 1, '\"Frost Shaman\"', '3', '4', 0, ['Unwieldy Magic'], 'Common', 5, 2],\n",
       "  [True,\n",
       "   1,\n",
       "   '\"Grognack\"',\n",
       "   '4',\n",
       "   '14',\n",
       "   0,\n",
       "   ['Restore', 'Influence'],\n",
       "   'Summoner',\n",
       "   6,\n",
       "   2],\n",
       "  [False, 0, '', 0, 0, 0, [''], '', 7, 2]],\n",
       " [[False, 0, '', 0, 0, 0, [''], '', 0, 3],\n",
       "  [False, 0, '', 0, 0, 0, [''], '', 1, 3],\n",
       "  [True,\n",
       "   -1,\n",
       "   '\"Royal Guardian\"',\n",
       "   '1',\n",
       "   '4',\n",
       "   0,\n",
       "   ['Engage', 'Shove'],\n",
       "   'Common',\n",
       "   2,\n",
       "   3],\n",
       "  [False, 0, '', 0, 0, 0, [''], '', 3, 3],\n",
       "  [True, 1, '\"Tundra Fighter\"', '2', '3', 0, ['Frenzy'], 'Common', 4, 3],\n",
       "  [True, 1, '\"gate\"', 0, '10', 0, [''], 'Structure', 5, 3],\n",
       "  [False, 0, '', 0, 0, 0, [''], '', 6, 3],\n",
       "  [False, 0, '', 0, 0, 0, [''], '', 7, 3]],\n",
       " [[False, 0, '', 0, 0, 0, [''], '', 0, 4],\n",
       "  [False, 0, '', 0, 0, 0, [''], '', 1, 4],\n",
       "  [False, 0, '', 0, 0, 0, [''], '', 2, 4],\n",
       "  [False, 0, '', 0, 0, 0, [''], '', 3, 4],\n",
       "  [False, 0, '', 0, 0, 0, [''], '', 4, 4],\n",
       "  [False, 0, '', 0, 0, 0, [''], '', 5, 4],\n",
       "  [False, 0, '', 0, 0, 0, [''], '', 6, 4],\n",
       "  [False, 0, '', 0, 0, 0, [''], '', 7, 4]],\n",
       " [[False, 0, '', 0, 0, 0, [''], '', 0, 5],\n",
       "  [False, 0, '', 0, 0, 0, [''], '', 1, 5],\n",
       "  [False, 0, '', 0, 0, 0, [''], '', 2, 5],\n",
       "  [False, 0, '', 0, 0, 0, [''], '', 3, 5],\n",
       "  [False, 0, '', 0, 0, 0, [''], '', 4, 5],\n",
       "  [False, 0, '', 0, 0, 0, [''], '', 5, 5],\n",
       "  [False, 0, '', 0, 0, 0, [''], '', 6, 5],\n",
       "  [False, 0, '', 0, 0, 0, [''], '', 7, 5]]]"
      ]
     },
     "execution_count": 58,
     "metadata": {},
     "output_type": "execute_result"
    }
   ],
   "source": [
    "spaces = get_board_spaces(driver)\n",
    "spaces"
   ]
  },
  {
   "cell_type": "code",
   "execution_count": 86,
   "id": "7dc3c06b",
   "metadata": {},
   "outputs": [],
   "source": [
    "def get_active_events(driver):\n",
    "    try:\n",
    "        active_html = driver.find_element_by_class_name('active-display-opponent').get_attribute('outerHTML')\n",
    "        html_active_events = re.findall('title=[^=]+',active_html)\n",
    "        regex_active_events = re.compile('{}(.*){}'.format(re.escape('title=\"'), re.escape('\" class')))\n",
    "        opponent_active_events = [regex_active_events.findall(html_active_events[i])[0] for i in range(len(html_active_events))]\n",
    "    except:\n",
    "        opponent_active_events = ['']\n",
    "    try:\n",
    "        active_html = driver.find_element_by_class_name('active-display-mine').get_attribute('outerHTML')\n",
    "        html_active_events = re.findall('title=[^=]+',active_html)\n",
    "        regex_active_events = re.compile('{}(.*){}'.format(re.escape('title=\"'), re.escape('\" class')))\n",
    "        friendly_active_events = [regex_active_events.findall(html_active_events[i])[0] for i in range(len(html_active_events))]\n",
    "    except:\n",
    "        friendly_active_events = ['']\n",
    "    return opponent_active_events, friendly_active_events"
   ]
  },
  {
   "cell_type": "code",
   "execution_count": 88,
   "id": "d5592930",
   "metadata": {},
   "outputs": [
    {
     "data": {
      "text/plain": [
       "([], ['Insight', 'Learn'])"
      ]
     },
     "execution_count": 88,
     "metadata": {},
     "output_type": "execute_result"
    }
   ],
   "source": [
    "opponent_active_events, friendly_active_events = get_active_events(driver)\n",
    "opponent_active_events, friendly_active_events"
   ]
  },
  {
   "cell_type": "code",
   "execution_count": null,
   "id": "582d0786",
   "metadata": {},
   "outputs": [],
   "source": [
    "# observation, reward, done, and info?"
   ]
  },
  {
   "cell_type": "code",
   "execution_count": null,
   "id": "cc03d6c0",
   "metadata": {},
   "outputs": [],
   "source": [
    "# gets the current state of the board, cards in hand, discarded cards, active events, cards in deck, etc.\n",
    "def get_board_state()"
   ]
  },
  {
   "cell_type": "code",
   "execution_count": null,
   "id": "f02343b0",
   "metadata": {},
   "outputs": [],
   "source": [
    "# possible actions that can be taken at any given point\n",
    "def get_available_actions()"
   ]
  },
  {
   "cell_type": "code",
   "execution_count": null,
   "id": "e42a6258",
   "metadata": {},
   "outputs": [],
   "source": [
    "# choose an action, evaluating them?? (need to refresh on reinforcement learning here)\n",
    "def evaluate_actions()"
   ]
  }
 ],
 "metadata": {
  "kernelspec": {
   "display_name": "Python 3 (ipykernel)",
   "language": "python",
   "name": "python3"
  },
  "language_info": {
   "codemirror_mode": {
    "name": "ipython",
    "version": 3
   },
   "file_extension": ".py",
   "mimetype": "text/x-python",
   "name": "python",
   "nbconvert_exporter": "python",
   "pygments_lexer": "ipython3",
   "version": "3.8.16"
  }
 },
 "nbformat": 4,
 "nbformat_minor": 5
}
